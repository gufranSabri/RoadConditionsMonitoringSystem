{
 "cells": [
  {
   "cell_type": "code",
   "execution_count": 24,
   "id": "837a4f25",
   "metadata": {},
   "outputs": [],
   "source": [
    "import tensorflow as tf\n",
    "from tensorflow.keras.preprocessing.image import ImageDataGenerator, img_to_array, load_img\n",
    "\n",
    "import os"
   ]
  },
  {
   "cell_type": "code",
   "execution_count": 2,
   "id": "9b2b2ca6",
   "metadata": {},
   "outputs": [],
   "source": [
    "bad_dir = '/media/gufran/GsHDD/Work/Projects/RoadCapture/Dataset/finalized/bad'\n",
    "unpaved_dir = '/media/gufran/GsHDD/Work/Projects/RoadCapture/Dataset/finalized/unpaved'\n",
    "save_bad_dir='/media/gufran/GsHDD/Work/Projects/RoadCapture/Dataset/augmented/bad'\n",
    "save_unpaved_dir='/media/gufran/GsHDD/Work/Projects/RoadCapture/Dataset/augmented/unpaved'"
   ]
  },
  {
   "cell_type": "code",
   "execution_count": 18,
   "id": "eb1a81f6",
   "metadata": {},
   "outputs": [],
   "source": [
    "generator = ImageDataGenerator(\n",
    "    horizontal_flip=True,\n",
    "    vertical_flip=True, \n",
    "    brightness_range=[0.2,1.0],\n",
    "    zoom_range=[0.5,1.0]\n",
    ")"
   ]
  },
  {
   "cell_type": "code",
   "execution_count": 19,
   "id": "ba02094a",
   "metadata": {},
   "outputs": [],
   "source": []
  },
  {
   "cell_type": "code",
   "execution_count": 27,
   "id": "1e8bd0f4",
   "metadata": {},
   "outputs": [
    {
     "ename": "TypeError",
     "evalue": "'int' object is not iterable",
     "output_type": "error",
     "traceback": [
      "\u001b[0;31m---------------------------------------------------------------------------\u001b[0m",
      "\u001b[0;31mTypeError\u001b[0m                                 Traceback (most recent call last)",
      "\u001b[0;32m/tmp/ipykernel_544290/280976000.py\u001b[0m in \u001b[0;36m<module>\u001b[0;34m\u001b[0m\n\u001b[1;32m      1\u001b[0m \u001b[0;31m#use 577 images from unpaved and make 6 new ones from each\u001b[0m\u001b[0;34m\u001b[0m\u001b[0;34m\u001b[0m\u001b[0m\n\u001b[1;32m      2\u001b[0m \u001b[0mimages\u001b[0m \u001b[0;34m=\u001b[0m \u001b[0mos\u001b[0m\u001b[0;34m.\u001b[0m\u001b[0mlistdir\u001b[0m\u001b[0;34m(\u001b[0m\u001b[0mbad_dir\u001b[0m\u001b[0;34m)\u001b[0m\u001b[0;34m\u001b[0m\u001b[0;34m\u001b[0m\u001b[0m\n\u001b[0;32m----> 3\u001b[0;31m \u001b[0;32mfor\u001b[0m \u001b[0mi\u001b[0m \u001b[0;32min\u001b[0m \u001b[0mlen\u001b[0m\u001b[0;34m(\u001b[0m\u001b[0mimages\u001b[0m\u001b[0;34m)\u001b[0m\u001b[0;34m:\u001b[0m\u001b[0;34m\u001b[0m\u001b[0;34m\u001b[0m\u001b[0m\n\u001b[0m\u001b[1;32m      4\u001b[0m     \u001b[0mimage\u001b[0m \u001b[0;34m=\u001b[0m \u001b[0mload_img\u001b[0m\u001b[0;34m(\u001b[0m\u001b[0mbad_dir\u001b[0m\u001b[0;34m+\u001b[0m\u001b[0;34m\"/bad{index}.jpg\"\u001b[0m\u001b[0;34m.\u001b[0m\u001b[0mformat\u001b[0m\u001b[0;34m(\u001b[0m\u001b[0mindex\u001b[0m\u001b[0;34m=\u001b[0m\u001b[0;34m(\u001b[0m\u001b[0mi\u001b[0m\u001b[0;34m+\u001b[0m\u001b[0;36m1\u001b[0m\u001b[0;34m)\u001b[0m\u001b[0;34m)\u001b[0m\u001b[0;34m)\u001b[0m\u001b[0;34m\u001b[0m\u001b[0;34m\u001b[0m\u001b[0m\n\u001b[1;32m      5\u001b[0m     \u001b[0minput_arr\u001b[0m \u001b[0;34m=\u001b[0m \u001b[0mimg_to_array\u001b[0m\u001b[0;34m(\u001b[0m\u001b[0mimage\u001b[0m\u001b[0;34m)\u001b[0m\u001b[0;34m\u001b[0m\u001b[0;34m\u001b[0m\u001b[0m\n",
      "\u001b[0;31mTypeError\u001b[0m: 'int' object is not iterable"
     ]
    }
   ],
   "source": [
    "#use 577 images from unpaved and make 6 new ones from each\n",
    "images = os.listdir(bad_dir)\n",
    "for i in range(len(images)):\n",
    "    image = load_img(bad_dir+\"/bad{index}.jpg\".format(index=(i+1)))\n",
    "    input_arr = img_to_array(image)\n",
    "    input_arr = input_arr.reshape((1,) + input_arr.shape)\n",
    "    \n",
    "    if i == 2: break\n",
    "    \n",
    "    j=0\n",
    "    for batch in generator.flow(input_arr, batch_size=1,save_to_dir=save_bad_dir,save_prefix='bad', save_format='jpg'):\n",
    "        j += 1\n",
    "        if j == 6:break "
   ]
  },
  {
   "cell_type": "code",
   "execution_count": null,
   "id": "23589a0e",
   "metadata": {},
   "outputs": [],
   "source": [
    "#use 1200 images from unpaved and make 3 new ones from each\n",
    "\n",
    "for batch in idg.flow(input_arr, batch_size=1,\n",
    "                          save_to_dir='/content/cat', save_prefix='cat', save_format='jpg'):\n",
    "    i += 1\n",
    "    if i > 6:\n",
    "        break "
   ]
  }
 ],
 "metadata": {
  "kernelspec": {
   "display_name": "Python 3 (ipykernel)",
   "language": "python",
   "name": "python3"
  },
  "language_info": {
   "codemirror_mode": {
    "name": "ipython",
    "version": 3
   },
   "file_extension": ".py",
   "mimetype": "text/x-python",
   "name": "python",
   "nbconvert_exporter": "python",
   "pygments_lexer": "ipython3",
   "version": "3.9.7"
  }
 },
 "nbformat": 4,
 "nbformat_minor": 5
}
