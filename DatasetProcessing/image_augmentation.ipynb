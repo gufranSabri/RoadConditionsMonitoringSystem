{
 "cells": [
  {
   "cell_type": "code",
   "execution_count": 1,
   "id": "837a4f25",
   "metadata": {},
   "outputs": [
    {
     "name": "stderr",
     "output_type": "stream",
     "text": [
      "2022-06-14 10:42:03.243744: W tensorflow/stream_executor/platform/default/dso_loader.cc:64] Could not load dynamic library 'libcudart.so.11.0'; dlerror: libcudart.so.11.0: cannot open shared object file: No such file or directory\n",
      "2022-06-14 10:42:03.243771: I tensorflow/stream_executor/cuda/cudart_stub.cc:29] Ignore above cudart dlerror if you do not have a GPU set up on your machine.\n"
     ]
    }
   ],
   "source": [
    "import tensorflow as tf\n",
    "from tensorflow.keras.preprocessing.image import ImageDataGenerator, img_to_array, load_img\n",
    "\n",
    "import os"
   ]
  },
  {
   "cell_type": "code",
   "execution_count": 2,
   "id": "9b2b2ca6",
   "metadata": {},
   "outputs": [],
   "source": [
    "bad_dir = '/media/gufran/GsHDD/Work/Projects/RoadCapture/Dataset/finalized/bad'\n",
    "unpaved_dir = '/media/gufran/GsHDD/Work/Projects/RoadCapture/Dataset/finalized/unpaved'\n",
    "save_bad_dir='/media/gufran/GsHDD/Work/Projects/RoadCapture/Dataset/augmented/bad'\n",
    "save_unpaved_dir='/media/gufran/GsHDD/Work/Projects/RoadCapture/Dataset/augmented/unpaved'"
   ]
  },
  {
   "cell_type": "code",
   "execution_count": 3,
   "id": "eb1a81f6",
   "metadata": {},
   "outputs": [],
   "source": [
    "generator = ImageDataGenerator(\n",
    "    horizontal_flip=True,\n",
    "    vertical_flip=True, \n",
    "    brightness_range=[0.2,1.0],\n",
    "    zoom_range=[0.5,1.0]\n",
    ")"
   ]
  },
  {
   "cell_type": "code",
   "execution_count": 4,
   "id": "1e8bd0f4",
   "metadata": {},
   "outputs": [],
   "source": [
    "#use 577 images from unpaved and make 6 new ones from each\n",
    "images = os.listdir(bad_dir)\n",
    "for i in range(len(images)):\n",
    "    image = load_img(bad_dir+\"/bad{index}.jpg\".format(index=(i+1)))\n",
    "    input_arr = img_to_array(image)\n",
    "    input_arr = input_arr.reshape((1,) + input_arr.shape)\n",
    "    \n",
    "#     if i == 2: break\n",
    "    \n",
    "    j=0\n",
    "    for batch in generator.flow(input_arr, batch_size=1,save_to_dir=save_bad_dir,save_prefix='bad', \n",
    "                                save_format='jpg'):\n",
    "        j += 1\n",
    "        if j == 7:break "
   ]
  },
  {
   "cell_type": "code",
   "execution_count": 5,
   "id": "23589a0e",
   "metadata": {},
   "outputs": [],
   "source": [
    "#use 1200 images from unpaved and make 3 new ones from each\n",
    "\n",
    "images = os.listdir(unpaved_dir)\n",
    "for i in range(len(images)):\n",
    "    image = load_img(unpaved_dir+\"/unpaved{index}.jpg\".format(index=(i+1)))\n",
    "    input_arr = img_to_array(image)\n",
    "    input_arr = input_arr.reshape((1,) + input_arr.shape)\n",
    "    \n",
    "    if i == 1200: break\n",
    "    \n",
    "    j=0\n",
    "    for batch in generator.flow(input_arr, batch_size=1,save_to_dir=save_unpaved_dir,save_prefix='unpaved', \n",
    "                                save_format='jpg'):\n",
    "        j += 1\n",
    "        if j == 3:break "
   ]
  }
 ],
 "metadata": {
  "kernelspec": {
   "display_name": "Python 3.8.10 64-bit",
   "language": "python",
   "name": "python3"
  },
  "language_info": {
   "codemirror_mode": {
    "name": "ipython",
    "version": 3
   },
   "file_extension": ".py",
   "mimetype": "text/x-python",
   "name": "python",
   "nbconvert_exporter": "python",
   "pygments_lexer": "ipython3",
   "version": "3.10.6"
  },
  "vscode": {
   "interpreter": {
    "hash": "916dbcbb3f70747c44a77c7bcd40155683ae19c65e1c03b4aa3499c5328201f1"
   }
  }
 },
 "nbformat": 4,
 "nbformat_minor": 5
}
