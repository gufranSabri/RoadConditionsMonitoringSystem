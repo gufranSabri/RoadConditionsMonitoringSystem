{
 "cells": [
  {
   "cell_type": "code",
   "execution_count": 1,
   "id": "dd69e1dc",
   "metadata": {
    "_cell_guid": "b1076dfc-b9ad-4769-8c92-a6c4dae69d19",
    "_uuid": "8f2839f25d086af736a60e9eeb907d3b93b6e0e5",
    "execution": {
     "iopub.execute_input": "2022-06-19T16:47:05.007744Z",
     "iopub.status.busy": "2022-06-19T16:47:05.007027Z",
     "iopub.status.idle": "2022-06-19T16:47:11.218979Z",
     "shell.execute_reply": "2022-06-19T16:47:11.218098Z"
    },
    "papermill": {
     "duration": 6.228389,
     "end_time": "2022-06-19T16:47:11.221645",
     "exception": false,
     "start_time": "2022-06-19T16:47:04.993256",
     "status": "completed"
    },
    "tags": []
   },
   "outputs": [],
   "source": [
    "import tensorflow as tf\n",
    "import matplotlib.pyplot as plt\n",
    "from sklearn.metrics import confusion_matrix\n",
    "from tensorflow.keras.preprocessing.image import ImageDataGenerator\n",
    "from tensorflow.keras.applications import VGG16\n",
    "from sklearn.metrics import classification_report\n",
    "\n",
    "import cv2\n",
    "import numpy as np\n",
    "\n",
    "import itertools\n",
    "import os\n",
    "import shutil\n",
    "import random\n",
    "import glob\n",
    "import time"
   ]
  },
  {
   "cell_type": "code",
   "execution_count": 2,
   "id": "c18c5684",
   "metadata": {
    "execution": {
     "iopub.execute_input": "2022-06-19T16:47:11.246340Z",
     "iopub.status.busy": "2022-06-19T16:47:11.245400Z",
     "iopub.status.idle": "2022-06-19T16:47:11.250332Z",
     "shell.execute_reply": "2022-06-19T16:47:11.249619Z"
    },
    "papermill": {
     "duration": 0.018322,
     "end_time": "2022-06-19T16:47:11.251957",
     "exception": false,
     "start_time": "2022-06-19T16:47:11.233635",
     "status": "completed"
    },
    "tags": []
   },
   "outputs": [],
   "source": [
    "DATA_DIR = '.'\n",
    "TRAIN_DIR = DATA_DIR + '/original/train'\n",
    "TEST_DIR = DATA_DIR + '/original/test'\n",
    "VALID_DIR = DATA_DIR + '/original/valid'\n",
    "BASE_DATA_DIR = DATA_DIR + '/original/tr'\n",
    "\n",
    "TRAIN_AUGMENTED_DIR = DATA_DIR + '/augmented/train'\n",
    "TEST_AUGMENTED_DIR = DATA_DIR + '/augmented/test'\n",
    "VALID_AUGMENTED_DIR = DATA_DIR + '/augmented/valid'\n",
    "BASE_AUGMENTED_DATA_DIR = DATA_DIR + '/augmented/tr'"
   ]
  },
  {
   "cell_type": "code",
   "execution_count": 3,
   "id": "252addb4",
   "metadata": {
    "execution": {
     "iopub.execute_input": "2022-06-19T16:47:11.275487Z",
     "iopub.status.busy": "2022-06-19T16:47:11.275027Z",
     "iopub.status.idle": "2022-06-19T16:47:11.278365Z",
     "shell.execute_reply": "2022-06-19T16:47:11.277605Z"
    },
    "papermill": {
     "duration": 0.016535,
     "end_time": "2022-06-19T16:47:11.279966",
     "exception": false,
     "start_time": "2022-06-19T16:47:11.263431",
     "status": "completed"
    },
    "tags": []
   },
   "outputs": [],
   "source": [
    "# shutil.rmtree(DATA_DIR+'/original')\n",
    "# shutil.rmtree(DATA_DIR+'/augmented')"
   ]
  },
  {
   "cell_type": "code",
   "execution_count": 4,
   "id": "292a7296",
   "metadata": {
    "execution": {
     "iopub.execute_input": "2022-06-19T16:47:11.302749Z",
     "iopub.status.busy": "2022-06-19T16:47:11.302506Z",
     "iopub.status.idle": "2022-06-19T16:47:11.308634Z",
     "shell.execute_reply": "2022-06-19T16:47:11.308002Z"
    },
    "papermill": {
     "duration": 0.01932,
     "end_time": "2022-06-19T16:47:11.310168",
     "exception": false,
     "start_time": "2022-06-19T16:47:11.290848",
     "status": "completed"
    },
    "tags": []
   },
   "outputs": [],
   "source": [
    "os.mkdir(DATA_DIR+'/original')\n",
    "os.mkdir(DATA_DIR+'/augmented')\n",
    "\n",
    "os.mkdir(TRAIN_DIR)\n",
    "os.mkdir(TEST_DIR)\n",
    "os.mkdir(VALID_DIR)\n",
    "os.mkdir(BASE_DATA_DIR)\n",
    "\n",
    "os.mkdir(TRAIN_AUGMENTED_DIR)\n",
    "os.mkdir(TEST_AUGMENTED_DIR)\n",
    "os.mkdir(VALID_AUGMENTED_DIR)\n",
    "os.mkdir(BASE_AUGMENTED_DATA_DIR)"
   ]
  },
  {
   "cell_type": "code",
   "execution_count": 5,
   "id": "17ead52e",
   "metadata": {
    "execution": {
     "iopub.execute_input": "2022-06-19T16:47:11.334613Z",
     "iopub.status.busy": "2022-06-19T16:47:11.334365Z",
     "iopub.status.idle": "2022-06-19T16:48:46.236737Z",
     "shell.execute_reply": "2022-06-19T16:48:46.235900Z"
    },
    "papermill": {
     "duration": 94.927157,
     "end_time": "2022-06-19T16:48:46.249888",
     "exception": false,
     "start_time": "2022-06-19T16:47:11.322731",
     "status": "completed"
    },
    "tags": []
   },
   "outputs": [
    {
     "name": "stdout",
     "output_type": "stream",
     "text": [
      "11059\n",
      "17400\n"
     ]
    }
   ],
   "source": [
    "images = os.listdir('../input/road-data/original/original/good')\n",
    "for i in images:\n",
    "    shutil.copy2('../input/road-data/original/original/good/'+i, BASE_DATA_DIR)\n",
    "    \n",
    "images = os.listdir('../input/road-data/original/original/medium')\n",
    "for i in images:\n",
    "    shutil.copy2('../input/road-data/original/original/medium/'+i, BASE_DATA_DIR)\n",
    "    \n",
    "images = os.listdir('../input/road-data/original/original/bad')\n",
    "for i in images:\n",
    "    shutil.copy2('../input/road-data/original/original/bad/'+i, BASE_DATA_DIR)\n",
    "    \n",
    "images = os.listdir('../input/road-data/original/original/unpaved')\n",
    "for i in images:\n",
    "    shutil.copy2('../input/road-data/original/original/unpaved/'+i, BASE_DATA_DIR)\n",
    "\n",
    "print(len(os.listdir(BASE_DATA_DIR)))\n",
    "    \n",
    "\n",
    "images = os.listdir('../input/road-data/augmented/augmented/good')\n",
    "for i in images:\n",
    "    shutil.copy2('../input/road-data/augmented/augmented/good/'+i, BASE_AUGMENTED_DATA_DIR)\n",
    "\n",
    "images = os.listdir('../input/road-data/augmented/augmented/medium')\n",
    "for i in images:\n",
    "    shutil.copy2('../input/road-data/augmented/augmented/medium/'+i, BASE_AUGMENTED_DATA_DIR)\n",
    "    \n",
    "images = os.listdir('../input/road-data/augmented/augmented/bad')\n",
    "for i in images:\n",
    "    shutil.copy2('../input/road-data/augmented/augmented/bad/'+i, BASE_AUGMENTED_DATA_DIR)\n",
    "    \n",
    "images = os.listdir('../input/road-data/augmented/augmented/unpaved')\n",
    "for i in images:\n",
    "    shutil.copy2('../input/road-data/augmented/augmented/unpaved/'+i, BASE_AUGMENTED_DATA_DIR)\n",
    "    \n",
    "print(len(os.listdir(BASE_AUGMENTED_DATA_DIR)))"
   ]
  },
  {
   "cell_type": "code",
   "execution_count": 6,
   "id": "a5408a5d",
   "metadata": {
    "execution": {
     "iopub.execute_input": "2022-06-19T16:48:46.273504Z",
     "iopub.status.busy": "2022-06-19T16:48:46.273184Z",
     "iopub.status.idle": "2022-06-19T16:48:47.589343Z",
     "shell.execute_reply": "2022-06-19T16:48:47.588545Z"
    },
    "papermill": {
     "duration": 1.330447,
     "end_time": "2022-06-19T16:48:47.591363",
     "exception": false,
     "start_time": "2022-06-19T16:48:46.260916",
     "status": "completed"
    },
    "tags": []
   },
   "outputs": [],
   "source": [
    "# good_count = 4000\n",
    "# medium_count = 4500\n",
    "# bad_count = 570\n",
    "# unpaved_count = 1500\n",
    "\n",
    "# good_augmented_count = 4000\n",
    "# medium_augmented_count = 4500\n",
    "# bad_augmented_count = 3890\n",
    "# unpaved_augmented_count = 4500\n",
    "\n",
    "good_count = 4070\n",
    "medium_count = 4864\n",
    "bad_count = 577\n",
    "unpaved_count = 1548\n",
    "\n",
    "good_augmented_count = 4070\n",
    "medium_augmented_count = 4864\n",
    "bad_augmented_count = 3898\n",
    "unpaved_augmented_count = 4568\n",
    "\n",
    "train_ratio = 0.7\n",
    "test_ratio = 0.2\n",
    "valid_ratio = 0.1\n",
    "\n",
    "if os.path.isdir(TRAIN_DIR+'/good') is False:\n",
    "    os.makedirs(TRAIN_DIR+ '/good');os.makedirs(TRAIN_DIR+ '/medium');os.makedirs(TRAIN_DIR+ '/bad');os.makedirs(TRAIN_DIR+ '/unpaved')\n",
    "    os.makedirs(TEST_DIR+ '/good');os.makedirs(TEST_DIR+ '/medium');os.makedirs(TEST_DIR+ '/bad');os.makedirs(TEST_DIR+ '/unpaved')\n",
    "    os.makedirs(VALID_DIR+ '/good');os.makedirs(VALID_DIR+ '/medium');os.makedirs(VALID_DIR+ '/bad');os.makedirs(VALID_DIR+ '/unpaved')\n",
    "\n",
    "    os.makedirs(TRAIN_AUGMENTED_DIR+ '/good');os.makedirs(TRAIN_AUGMENTED_DIR+ '/medium');os.makedirs(TRAIN_AUGMENTED_DIR+ '/bad');os.makedirs(TRAIN_AUGMENTED_DIR+ '/unpaved')\n",
    "    os.makedirs(TEST_AUGMENTED_DIR+ '/good');os.makedirs(TEST_AUGMENTED_DIR+ '/medium');os.makedirs(TEST_AUGMENTED_DIR+ '/bad');os.makedirs(TEST_AUGMENTED_DIR+ '/unpaved')\n",
    "    os.makedirs(VALID_AUGMENTED_DIR+ '/good');os.makedirs(VALID_AUGMENTED_DIR+ '/medium');os.makedirs(VALID_AUGMENTED_DIR+ '/bad');os.makedirs(VALID_AUGMENTED_DIR+ '/unpaved')\n",
    "\n",
    "    for c in random.sample(glob.glob(BASE_DATA_DIR+ '/good*'),int(train_ratio*good_count)):shutil.move(c, TRAIN_DIR+ '/good')\n",
    "    for c in random.sample(glob.glob(BASE_DATA_DIR+ '/medium*'),int(train_ratio*medium_count)): shutil.move(c, TRAIN_DIR+ '/medium')\n",
    "    for c in random.sample(glob.glob(BASE_DATA_DIR+ '/bad*'),int(train_ratio*bad_count)):shutil.move(c, TRAIN_DIR+ '/bad')\n",
    "    for c in random.sample(glob.glob(BASE_DATA_DIR+ '/unpaved*'),int(train_ratio*unpaved_count)):shutil.move(c, TRAIN_DIR+ '/unpaved')\n",
    "\n",
    "    for c in random.sample(glob.glob(BASE_AUGMENTED_DATA_DIR+ '/good*'),int(train_ratio*good_augmented_count)):shutil.move(c, TRAIN_AUGMENTED_DIR+ '/good')\n",
    "    for c in random.sample(glob.glob(BASE_AUGMENTED_DATA_DIR+ '/medium*'),int(train_ratio*medium_augmented_count)): shutil.move(c, TRAIN_AUGMENTED_DIR+ '/medium')\n",
    "    for c in random.sample(glob.glob(BASE_AUGMENTED_DATA_DIR+ '/bad*'),int(train_ratio*bad_augmented_count)):shutil.move(c, TRAIN_AUGMENTED_DIR+ '/bad')\n",
    "    for c in random.sample(glob.glob(BASE_AUGMENTED_DATA_DIR+ '/unpaved*'),int(train_ratio*unpaved_augmented_count)):shutil.move(c, TRAIN_AUGMENTED_DIR+ '/unpaved')\n",
    "\n",
    "\n",
    "    for c in random.sample(glob.glob(BASE_DATA_DIR+ '/good*'),int(test_ratio*good_count)):  shutil.move(c, TEST_DIR+ '/good')\n",
    "    for c in random.sample(glob.glob(BASE_DATA_DIR+ '/medium*'),int(test_ratio*medium_count)): shutil.move(c, TEST_DIR+ '/medium')\n",
    "    for c in random.sample(glob.glob(BASE_DATA_DIR+ '/bad*'),int(test_ratio*bad_count)):shutil.move(c, TEST_DIR+ '/bad')\n",
    "    for c in random.sample(glob.glob(BASE_DATA_DIR+ '/unpaved*'),int(test_ratio*unpaved_count)):shutil.move(c, TEST_DIR+ '/unpaved')\n",
    "\n",
    "    for c in random.sample(glob.glob(BASE_AUGMENTED_DATA_DIR+ '/good*'),int(test_ratio*good_augmented_count)):  shutil.move(c, TEST_AUGMENTED_DIR+ '/good')\n",
    "    for c in random.sample(glob.glob(BASE_AUGMENTED_DATA_DIR+ '/medium*'),int(test_ratio*medium_augmented_count)): shutil.move(c, TEST_AUGMENTED_DIR+ '/medium')\n",
    "    for c in random.sample(glob.glob(BASE_AUGMENTED_DATA_DIR+ '/bad*'),int(test_ratio*bad_augmented_count)):shutil.move(c, TEST_AUGMENTED_DIR+ '/bad')\n",
    "    for c in random.sample(glob.glob(BASE_AUGMENTED_DATA_DIR+ '/unpaved*'),int(test_ratio*unpaved_augmented_count)):shutil.move(c, TEST_AUGMENTED_DIR+ '/unpaved')\n",
    "\n",
    "\n",
    "    for c in random.sample(glob.glob(BASE_DATA_DIR+ '/good*'),int(valid_ratio*good_count)):  shutil.move(c, VALID_DIR+ '/good')\n",
    "    for c in random.sample(glob.glob(BASE_DATA_DIR+ '/medium*'),int(valid_ratio*medium_count)):shutil.move(c, VALID_DIR+ '/medium')\n",
    "    for c in random.sample(glob.glob(BASE_DATA_DIR+ '/bad*'),int(valid_ratio*bad_count)):shutil.move(c, VALID_DIR+ '/bad')\n",
    "    for c in random.sample(glob.glob(BASE_DATA_DIR+ '/unpaved*'),int(valid_ratio*unpaved_count)):shutil.move(c, VALID_DIR+ '/unpaved')\n",
    "\n",
    "    for c in random.sample(glob.glob(BASE_AUGMENTED_DATA_DIR+ '/good*'),int(valid_ratio*good_augmented_count)):  shutil.move(c, VALID_AUGMENTED_DIR+ '/good')\n",
    "    for c in random.sample(glob.glob(BASE_AUGMENTED_DATA_DIR+ '/medium*'),int(valid_ratio*medium_augmented_count)):shutil.move(c, VALID_AUGMENTED_DIR+ '/medium')\n",
    "    for c in random.sample(glob.glob(BASE_AUGMENTED_DATA_DIR+ '/bad*'),int(valid_ratio*bad_augmented_count)):shutil.move(c, VALID_AUGMENTED_DIR+ '/bad')\n",
    "    for c in random.sample(glob.glob(BASE_AUGMENTED_DATA_DIR+ '/unpaved*'),int(valid_ratio*unpaved_augmented_count)):shutil.move(c, VALID_AUGMENTED_DIR+ '/unpaved')"
   ]
  },
  {
   "cell_type": "code",
   "execution_count": 7,
   "id": "311176db",
   "metadata": {
    "execution": {
     "iopub.execute_input": "2022-06-19T16:48:47.614887Z",
     "iopub.status.busy": "2022-06-19T16:48:47.614607Z",
     "iopub.status.idle": "2022-06-19T16:48:50.308268Z",
     "shell.execute_reply": "2022-06-19T16:48:50.307452Z"
    },
    "papermill": {
     "duration": 2.708236,
     "end_time": "2022-06-19T16:48:50.310909",
     "exception": false,
     "start_time": "2022-06-19T16:48:47.602673",
     "status": "completed"
    },
    "tags": []
   },
   "outputs": [
    {
     "name": "stdout",
     "output_type": "stream",
     "text": [
      "Found 7739 images belonging to 4 classes.\n",
      "Found 2210 images belonging to 4 classes.\n",
      "Found 1104 images belonging to 4 classes.\n",
      "Found 12178 images belonging to 4 classes.\n",
      "Found 3478 images belonging to 4 classes.\n",
      "Found 1738 images belonging to 4 classes.\n",
      "Found 12178 images belonging to 4 classes.\n",
      "Found 3478 images belonging to 4 classes.\n",
      "Found 1738 images belonging to 4 classes.\n"
     ]
    }
   ],
   "source": [
    "labels = [\"good\", \"medium\", \"bad\", \"unpaved\"]\n",
    "\n",
    "train_batches = ImageDataGenerator().flow_from_directory(directory=TRAIN_DIR, target_size=(124,224), classes=labels, seed=111)\n",
    "test_batches = ImageDataGenerator().flow_from_directory(directory=TEST_DIR, target_size=(124,224), classes=labels, seed=111,shuffle=False)\n",
    "valid_batches = ImageDataGenerator().flow_from_directory(directory=VALID_DIR, target_size=(124,224), classes=labels, seed=111)\n",
    "\n",
    "train_augmented_batches = ImageDataGenerator().flow_from_directory(directory=TRAIN_AUGMENTED_DIR, target_size=(124,224), classes=labels, seed=111)\n",
    "test_augmented_batches = ImageDataGenerator().flow_from_directory(directory=TEST_AUGMENTED_DIR, target_size=(124,224), classes=labels, seed=111,shuffle=False)\n",
    "valid_augmented_batches = ImageDataGenerator().flow_from_directory(directory=VALID_AUGMENTED_DIR, target_size=(124,224), classes=labels, seed=111)\n",
    "\n",
    "train_augmented_batches_vgg = ImageDataGenerator(preprocessing_function=tf.keras.applications.vgg16.preprocess_input) \\\n",
    "    .flow_from_directory(directory=TRAIN_AUGMENTED_DIR, target_size=(124,224), classes=labels, seed=111)\n",
    "test_augmented_batches_vgg = ImageDataGenerator(preprocessing_function=tf.keras.applications.vgg16.preprocess_input) \\\n",
    "    .flow_from_directory(directory=TEST_AUGMENTED_DIR, target_size=(124,224), classes=labels, seed=111,shuffle=False)\n",
    "valid_augmented_batches_vgg = ImageDataGenerator(preprocessing_function=tf.keras.applications.vgg16.preprocess_input) \\\n",
    "    .flow_from_directory(directory=VALID_AUGMENTED_DIR, target_size=(124,224), classes=labels, seed=111)"
   ]
  },
  {
   "cell_type": "code",
   "execution_count": 8,
   "id": "97ff20be",
   "metadata": {
    "execution": {
     "iopub.execute_input": "2022-06-19T16:48:50.337310Z",
     "iopub.status.busy": "2022-06-19T16:48:50.336678Z",
     "iopub.status.idle": "2022-06-19T16:48:53.556816Z",
     "shell.execute_reply": "2022-06-19T16:48:53.555964Z"
    },
    "papermill": {
     "duration": 3.235187,
     "end_time": "2022-06-19T16:48:53.559216",
     "exception": false,
     "start_time": "2022-06-19T16:48:50.324029",
     "status": "completed"
    },
    "tags": []
   },
   "outputs": [
    {
     "name": "stderr",
     "output_type": "stream",
     "text": [
      "2022-06-19 16:48:50.461310: I tensorflow/stream_executor/cuda/cuda_gpu_executor.cc:937] successful NUMA node read from SysFS had negative value (-1), but there must be at least one NUMA node, so returning NUMA node zero\n",
      "2022-06-19 16:48:50.595091: I tensorflow/stream_executor/cuda/cuda_gpu_executor.cc:937] successful NUMA node read from SysFS had negative value (-1), but there must be at least one NUMA node, so returning NUMA node zero\n",
      "2022-06-19 16:48:50.596057: I tensorflow/stream_executor/cuda/cuda_gpu_executor.cc:937] successful NUMA node read from SysFS had negative value (-1), but there must be at least one NUMA node, so returning NUMA node zero\n",
      "2022-06-19 16:48:50.597859: I tensorflow/core/platform/cpu_feature_guard.cc:142] This TensorFlow binary is optimized with oneAPI Deep Neural Network Library (oneDNN) to use the following CPU instructions in performance-critical operations:  AVX2 AVX512F FMA\n",
      "To enable them in other operations, rebuild TensorFlow with the appropriate compiler flags.\n",
      "2022-06-19 16:48:50.598178: I tensorflow/stream_executor/cuda/cuda_gpu_executor.cc:937] successful NUMA node read from SysFS had negative value (-1), but there must be at least one NUMA node, so returning NUMA node zero\n",
      "2022-06-19 16:48:50.598895: I tensorflow/stream_executor/cuda/cuda_gpu_executor.cc:937] successful NUMA node read from SysFS had negative value (-1), but there must be at least one NUMA node, so returning NUMA node zero\n",
      "2022-06-19 16:48:50.599540: I tensorflow/stream_executor/cuda/cuda_gpu_executor.cc:937] successful NUMA node read from SysFS had negative value (-1), but there must be at least one NUMA node, so returning NUMA node zero\n",
      "2022-06-19 16:48:52.933821: I tensorflow/stream_executor/cuda/cuda_gpu_executor.cc:937] successful NUMA node read from SysFS had negative value (-1), but there must be at least one NUMA node, so returning NUMA node zero\n",
      "2022-06-19 16:48:52.934696: I tensorflow/stream_executor/cuda/cuda_gpu_executor.cc:937] successful NUMA node read from SysFS had negative value (-1), but there must be at least one NUMA node, so returning NUMA node zero\n",
      "2022-06-19 16:48:52.935398: I tensorflow/stream_executor/cuda/cuda_gpu_executor.cc:937] successful NUMA node read from SysFS had negative value (-1), but there must be at least one NUMA node, so returning NUMA node zero\n",
      "2022-06-19 16:48:52.935985: I tensorflow/core/common_runtime/gpu/gpu_device.cc:1510] Created device /job:localhost/replica:0/task:0/device:GPU:0 with 15403 MB memory:  -> device: 0, name: Tesla P100-PCIE-16GB, pci bus id: 0000:00:04.0, compute capability: 6.0\n"
     ]
    }
   ],
   "source": [
    "custom1 = tf.keras.Sequential([\n",
    "    tf.keras.layers.Conv2D(32,(5,5),padding ='same',strides=(2,2),activation='relu',input_shape=(124,224,3)),\n",
    "    tf.keras.layers.MaxPooling2D((2,2)),\n",
    "    tf.keras.layers.Conv2D(64,(5,5),padding ='same',strides=(2,2),activation='relu'),\n",
    "    tf.keras.layers.MaxPooling2D((2,2)),\n",
    "    tf.keras.layers.Conv2D(128,(5,5),padding ='same',strides=(2,2),activation='relu'),\n",
    "    tf.keras.layers.MaxPooling2D((2,2)),\n",
    "    tf.keras.layers.Conv2D(128,(5,5),padding ='same',strides=(2,2),activation='relu'),\n",
    "    tf.keras.layers.Flatten(),\n",
    "    tf.keras.layers.Dense(256,activation='relu'),\n",
    "    tf.keras.layers.Dense(64,activation='relu'),\n",
    "    tf.keras.layers.Dense(32,activation='relu'),\n",
    "    tf.keras.layers.Dropout(0.3),\n",
    "    tf.keras.layers.Dense(4, activation='softmax')\n",
    "])\n",
    "custom1.compile(optimizer='adam',loss='categorical_crossentropy',metrics=['accuracy'])\n",
    "\n",
    "custom2 = tf.keras.Sequential([\n",
    "    tf.keras.layers.Conv2D(32,(5,5),padding ='same',strides=(2,2),activation='relu',input_shape=(124,224,3)),\n",
    "    tf.keras.layers.MaxPooling2D((2,2)),\n",
    "    tf.keras.layers.Conv2D(64,(5,5),padding ='same',strides=(2,2),activation='relu'),\n",
    "    tf.keras.layers.MaxPooling2D((2,2)),\n",
    "    tf.keras.layers.Conv2D(128,(5,5),padding ='same',strides=(2,2),activation='relu'),\n",
    "    tf.keras.layers.MaxPooling2D((2,2)),\n",
    "    tf.keras.layers.Conv2D(128,(5,5),padding ='same',strides=(2,2),activation='relu'),\n",
    "    tf.keras.layers.Flatten(),\n",
    "    tf.keras.layers.Dense(256,activation='relu'),\n",
    "    tf.keras.layers.Dense(64,activation='relu'),\n",
    "    tf.keras.layers.Dense(32,activation='relu'),\n",
    "    tf.keras.layers.Dropout(0.3),\n",
    "    tf.keras.layers.Dense(4, activation='softmax')\n",
    "])\n",
    "custom2.compile(optimizer='adam',loss='categorical_crossentropy',metrics=['accuracy'])\n",
    "\n",
    "custom3 = tf.keras.Sequential([\n",
    "    tf.keras.layers.Conv2D(32,(5,5),padding ='same',strides=(2,2),activation='relu',input_shape=(124,224,3)),\n",
    "    tf.keras.layers.MaxPooling2D((2,2)),\n",
    "    tf.keras.layers.Conv2D(64,(5,5),padding ='same',strides=(2,2),activation='relu'),\n",
    "    tf.keras.layers.MaxPooling2D((2,2)),\n",
    "    tf.keras.layers.Conv2D(128,(5,5),padding ='same',strides=(2,2),activation='relu'),\n",
    "    tf.keras.layers.MaxPooling2D((2,2)),\n",
    "    tf.keras.layers.Conv2D(128,(5,5),padding ='same',strides=(2,2),activation='relu'),\n",
    "    tf.keras.layers.Flatten(),\n",
    "    tf.keras.layers.Dense(256,activation='relu'),\n",
    "    tf.keras.layers.Dense(64,activation='relu'),\n",
    "    tf.keras.layers.Dense(32,activation='relu'),\n",
    "    tf.keras.layers.Dropout(0.3),\n",
    "    tf.keras.layers.Dense(4, activation='softmax')\n",
    "])\n",
    "custom3.compile(optimizer='adam',loss='categorical_crossentropy',metrics=['accuracy'])"
   ]
  },
  {
   "cell_type": "code",
   "execution_count": 9,
   "id": "8f354029",
   "metadata": {
    "execution": {
     "iopub.execute_input": "2022-06-19T16:48:53.601579Z",
     "iopub.status.busy": "2022-06-19T16:48:53.601252Z",
     "iopub.status.idle": "2022-06-19T16:50:53.880497Z",
     "shell.execute_reply": "2022-06-19T16:50:53.879478Z"
    },
    "papermill": {
     "duration": 120.301969,
     "end_time": "2022-06-19T16:50:53.882904",
     "exception": false,
     "start_time": "2022-06-19T16:48:53.580935",
     "status": "completed"
    },
    "tags": []
   },
   "outputs": [
    {
     "name": "stderr",
     "output_type": "stream",
     "text": [
      "2022-06-19 16:48:53.789099: I tensorflow/compiler/mlir/mlir_graph_optimization_pass.cc:185] None of the MLIR Optimization Passes are enabled (registered 2)\n"
     ]
    },
    {
     "name": "stdout",
     "output_type": "stream",
     "text": [
      "Epoch 1/10\n"
     ]
    },
    {
     "name": "stderr",
     "output_type": "stream",
     "text": [
      "2022-06-19 16:48:55.573416: I tensorflow/stream_executor/cuda/cuda_dnn.cc:369] Loaded cuDNN version 8005\n"
     ]
    },
    {
     "name": "stdout",
     "output_type": "stream",
     "text": [
      "242/242 [==============================] - 19s 48ms/step - loss: 1.3251 - accuracy: 0.4289 - val_loss: 1.2900 - val_accuracy: 0.3868\n",
      "Epoch 2/10\n",
      "242/242 [==============================] - 11s 46ms/step - loss: 0.9706 - accuracy: 0.5443 - val_loss: 0.8343 - val_accuracy: 0.6467\n",
      "Epoch 3/10\n",
      "242/242 [==============================] - 12s 48ms/step - loss: 0.9373 - accuracy: 0.5706 - val_loss: 0.9317 - val_accuracy: 0.5643\n",
      "Epoch 4/10\n",
      "242/242 [==============================] - 11s 45ms/step - loss: 0.7945 - accuracy: 0.6554 - val_loss: 0.6872 - val_accuracy: 0.7020\n",
      "Epoch 5/10\n",
      "242/242 [==============================] - 11s 45ms/step - loss: 0.7563 - accuracy: 0.6934 - val_loss: 0.6900 - val_accuracy: 0.6911\n",
      "Epoch 6/10\n",
      "242/242 [==============================] - 12s 48ms/step - loss: 0.5705 - accuracy: 0.7736 - val_loss: 0.5627 - val_accuracy: 0.7790\n",
      "Epoch 7/10\n",
      "242/242 [==============================] - 11s 45ms/step - loss: 0.5240 - accuracy: 0.7911 - val_loss: 0.5541 - val_accuracy: 0.7808\n",
      "Epoch 8/10\n",
      "242/242 [==============================] - 11s 45ms/step - loss: 0.4618 - accuracy: 0.8182 - val_loss: 0.6707 - val_accuracy: 0.7255\n",
      "Epoch 9/10\n",
      "242/242 [==============================] - 12s 48ms/step - loss: 0.4263 - accuracy: 0.8475 - val_loss: 0.5452 - val_accuracy: 0.7962\n",
      "Epoch 10/10\n",
      "242/242 [==============================] - 11s 45ms/step - loss: 0.3056 - accuracy: 0.8916 - val_loss: 0.4620 - val_accuracy: 0.8270\n"
     ]
    }
   ],
   "source": [
    "historyc1 = custom1.fit(\n",
    "    x=train_batches,\n",
    "    steps_per_epoch=len(train_batches),\n",
    "    validation_data=valid_batches,\n",
    "    validation_steps=len(valid_batches),\n",
    "    epochs=10,\n",
    "    verbose=1    \n",
    ")"
   ]
  },
  {
   "cell_type": "code",
   "execution_count": 10,
   "id": "3f0bcecf",
   "metadata": {
    "execution": {
     "iopub.execute_input": "2022-06-19T16:50:54.066365Z",
     "iopub.status.busy": "2022-06-19T16:50:54.065998Z",
     "iopub.status.idle": "2022-06-19T16:53:48.233533Z",
     "shell.execute_reply": "2022-06-19T16:53:48.232720Z"
    },
    "papermill": {
     "duration": 174.261198,
     "end_time": "2022-06-19T16:53:48.235460",
     "exception": false,
     "start_time": "2022-06-19T16:50:53.974262",
     "status": "completed"
    },
    "tags": []
   },
   "outputs": [
    {
     "name": "stdout",
     "output_type": "stream",
     "text": [
      "Epoch 1/10\n",
      "381/381 [==============================] - 19s 48ms/step - loss: 1.1909 - accuracy: 0.4768 - val_loss: 1.0562 - val_accuracy: 0.6260\n",
      "Epoch 2/10\n",
      "381/381 [==============================] - 17s 45ms/step - loss: 0.6601 - accuracy: 0.7163 - val_loss: 0.3951 - val_accuracy: 0.8493\n",
      "Epoch 3/10\n",
      "381/381 [==============================] - 17s 45ms/step - loss: 0.4757 - accuracy: 0.8137 - val_loss: 0.3880 - val_accuracy: 0.8423\n",
      "Epoch 4/10\n",
      "381/381 [==============================] - 17s 46ms/step - loss: 0.4276 - accuracy: 0.8366 - val_loss: 0.5148 - val_accuracy: 0.7802\n",
      "Epoch 5/10\n",
      "381/381 [==============================] - 17s 46ms/step - loss: 0.4472 - accuracy: 0.8276 - val_loss: 0.3642 - val_accuracy: 0.8717\n",
      "Epoch 6/10\n",
      "381/381 [==============================] - 17s 44ms/step - loss: 0.4405 - accuracy: 0.8427 - val_loss: 1.0782 - val_accuracy: 0.6030\n",
      "Epoch 7/10\n",
      "381/381 [==============================] - 17s 46ms/step - loss: 0.3495 - accuracy: 0.8715 - val_loss: 0.2607 - val_accuracy: 0.9074\n",
      "Epoch 8/10\n",
      "381/381 [==============================] - 17s 44ms/step - loss: 0.2561 - accuracy: 0.9079 - val_loss: 0.2827 - val_accuracy: 0.8982\n",
      "Epoch 9/10\n",
      "381/381 [==============================] - 17s 46ms/step - loss: 0.2247 - accuracy: 0.9222 - val_loss: 0.2530 - val_accuracy: 0.9125\n",
      "Epoch 10/10\n",
      "381/381 [==============================] - 17s 46ms/step - loss: 1.0160 - accuracy: 0.5541 - val_loss: 0.6137 - val_accuracy: 0.7940\n"
     ]
    }
   ],
   "source": [
    "historyc2 = custom2.fit(\n",
    "    x=train_augmented_batches,\n",
    "    steps_per_epoch=len(train_augmented_batches),\n",
    "    validation_data=valid_augmented_batches,\n",
    "    validation_steps=len(valid_augmented_batches),\n",
    "    epochs=10,\n",
    "    verbose=1    \n",
    ")"
   ]
  },
  {
   "cell_type": "code",
   "execution_count": 11,
   "id": "1b316315",
   "metadata": {
    "execution": {
     "iopub.execute_input": "2022-06-19T16:53:48.656481Z",
     "iopub.status.busy": "2022-06-19T16:53:48.656126Z",
     "iopub.status.idle": "2022-06-19T16:57:43.502635Z",
     "shell.execute_reply": "2022-06-19T16:57:43.501751Z"
    },
    "papermill": {
     "duration": 235.058917,
     "end_time": "2022-06-19T16:57:43.504803",
     "exception": false,
     "start_time": "2022-06-19T16:53:48.445886",
     "status": "completed"
    },
    "tags": []
   },
   "outputs": [
    {
     "name": "stdout",
     "output_type": "stream",
     "text": [
      "Epoch 1/10\n",
      "381/381 [==============================] - 21s 55ms/step - loss: 0.6007 - accuracy: 0.7650 - val_loss: 0.2777 - val_accuracy: 0.9085\n",
      "Epoch 2/10\n",
      "381/381 [==============================] - 21s 56ms/step - loss: 0.2860 - accuracy: 0.9101 - val_loss: 0.2381 - val_accuracy: 0.9166\n",
      "Epoch 3/10\n",
      "381/381 [==============================] - 22s 58ms/step - loss: 0.1875 - accuracy: 0.9399 - val_loss: 0.1541 - val_accuracy: 0.9499\n",
      "Epoch 4/10\n",
      "381/381 [==============================] - 21s 56ms/step - loss: 0.1667 - accuracy: 0.9489 - val_loss: 0.1886 - val_accuracy: 0.9430\n",
      "Epoch 5/10\n",
      "381/381 [==============================] - 21s 56ms/step - loss: 0.1157 - accuracy: 0.9630 - val_loss: 0.1967 - val_accuracy: 0.9459\n",
      "Epoch 6/10\n",
      "381/381 [==============================] - 21s 56ms/step - loss: 0.1135 - accuracy: 0.9684 - val_loss: 0.1990 - val_accuracy: 0.9563\n",
      "Epoch 7/10\n",
      "381/381 [==============================] - 22s 57ms/step - loss: 0.0861 - accuracy: 0.9741 - val_loss: 0.1473 - val_accuracy: 0.9684\n",
      "Epoch 8/10\n",
      "381/381 [==============================] - 22s 58ms/step - loss: 0.0824 - accuracy: 0.9759 - val_loss: 0.2237 - val_accuracy: 0.9396\n",
      "Epoch 9/10\n",
      "381/381 [==============================] - 21s 55ms/step - loss: 0.0875 - accuracy: 0.9749 - val_loss: 0.1942 - val_accuracy: 0.9511\n",
      "Epoch 10/10\n",
      "381/381 [==============================] - 21s 55ms/step - loss: 0.0734 - accuracy: 0.9785 - val_loss: 0.1948 - val_accuracy: 0.9655\n"
     ]
    }
   ],
   "source": [
    "historyc3 = custom3.fit(\n",
    "    x=train_augmented_batches_vgg,\n",
    "    steps_per_epoch=len(train_augmented_batches_vgg),\n",
    "    validation_data=valid_augmented_batches_vgg,\n",
    "    validation_steps=len(valid_augmented_batches_vgg),\n",
    "    epochs=10,\n",
    "    verbose=1    \n",
    ")"
   ]
  },
  {
   "cell_type": "code",
   "execution_count": 12,
   "id": "dffa06ce",
   "metadata": {
    "execution": {
     "iopub.execute_input": "2022-06-19T16:57:44.212586Z",
     "iopub.status.busy": "2022-06-19T16:57:44.211779Z",
     "iopub.status.idle": "2022-06-19T16:57:48.731824Z",
     "shell.execute_reply": "2022-06-19T16:57:48.731031Z"
    },
    "papermill": {
     "duration": 4.872728,
     "end_time": "2022-06-19T16:57:48.733793",
     "exception": false,
     "start_time": "2022-06-19T16:57:43.861065",
     "status": "completed"
    },
    "tags": []
   },
   "outputs": [
    {
     "name": "stdout",
     "output_type": "stream",
     "text": [
      "Downloading data from https://storage.googleapis.com/tensorflow/keras-applications/vgg16/vgg16_weights_tf_dim_ordering_tf_kernels_notop.h5\n",
      "58892288/58889256 [==============================] - 0s 0us/step\n",
      "58900480/58889256 [==============================] - 0s 0us/step\n",
      "Downloading data from https://storage.googleapis.com/tensorflow/keras-applications/mobilenet_v2/mobilenet_v2_weights_tf_dim_ordering_tf_kernels_1.0_224_no_top.h5\n",
      "9412608/9406464 [==============================] - 0s 0us/step\n",
      "9420800/9406464 [==============================] - 0s 0us/step\n"
     ]
    }
   ],
   "source": [
    "vbase1 = VGG16(weights='imagenet',include_top=False,input_shape=(124, 224, 3))\n",
    "vbase1.trainable = False\n",
    "\n",
    "vbase2 = VGG16(weights='imagenet',include_top=False,input_shape=(124, 224, 3))\n",
    "vbase2.trainable = False\n",
    "\n",
    "vbase3 = VGG16(weights='imagenet',include_top=False,input_shape=(124, 224, 3))\n",
    "vbase3.trainable = False\n",
    "\n",
    "\n",
    "mbase1 = tf.keras.applications.mobilenet_v2.MobileNetV2(input_shape=(124, 224, 3),include_top=False, weights='imagenet')\n",
    "mbase1.trainable = False\n",
    "\n",
    "mbase2 = tf.keras.applications.mobilenet_v2.MobileNetV2(input_shape=(124, 224, 3),include_top=False, weights='imagenet')\n",
    "mbase2.trainable = False\n",
    "\n",
    "mbase3 = tf.keras.applications.mobilenet_v2.MobileNetV2(input_shape=(124, 224, 3),include_top=False, weights='imagenet')\n",
    "mbase3.trainable = False"
   ]
  },
  {
   "cell_type": "code",
   "execution_count": 13,
   "id": "e1700bbe",
   "metadata": {
    "execution": {
     "iopub.execute_input": "2022-06-19T16:57:49.516673Z",
     "iopub.status.busy": "2022-06-19T16:57:49.516322Z",
     "iopub.status.idle": "2022-06-19T16:57:49.713795Z",
     "shell.execute_reply": "2022-06-19T16:57:49.713032Z"
    },
    "papermill": {
     "duration": 0.550987,
     "end_time": "2022-06-19T16:57:49.715800",
     "exception": false,
     "start_time": "2022-06-19T16:57:49.164813",
     "status": "completed"
    },
    "tags": []
   },
   "outputs": [],
   "source": [
    "v1 = tf.keras.Sequential()\n",
    "v1.add(vbase1)\n",
    "v1.add(tf.keras.layers.Flatten())\n",
    "v1.add(tf.keras.layers.Dense(256, activation='relu'))\n",
    "v1.add(tf.keras.layers.Dense(4, activation='softmax'))\n",
    "\n",
    "v1.compile(optimizer='adam',loss='categorical_crossentropy',metrics=['accuracy'])\n",
    "\n",
    "v2 = tf.keras.Sequential()\n",
    "v2.add(vbase2)\n",
    "v2.add(tf.keras.layers.Flatten())\n",
    "v2.add(tf.keras.layers.Dense(256, activation='relu'))\n",
    "v2.add(tf.keras.layers.Dense(4, activation='softmax'))\n",
    "\n",
    "v2.compile(optimizer='adam',loss='categorical_crossentropy',metrics=['accuracy'])\n",
    "\n",
    "\n",
    "v3 = tf.keras.Sequential()\n",
    "v3.add(vbase3)\n",
    "v3.add(tf.keras.layers.Flatten())\n",
    "v3.add(tf.keras.layers.Dense(256, activation='relu'))\n",
    "v3.add(tf.keras.layers.Dense(4, activation='softmax'))\n",
    "\n",
    "v3.compile(optimizer='adam',loss='categorical_crossentropy',metrics=['accuracy'])"
   ]
  },
  {
   "cell_type": "code",
   "execution_count": 14,
   "id": "7d027a14",
   "metadata": {
    "execution": {
     "iopub.execute_input": "2022-06-19T16:57:50.408801Z",
     "iopub.status.busy": "2022-06-19T16:57:50.408462Z",
     "iopub.status.idle": "2022-06-19T16:57:51.345815Z",
     "shell.execute_reply": "2022-06-19T16:57:51.345032Z"
    },
    "papermill": {
     "duration": 1.284859,
     "end_time": "2022-06-19T16:57:51.347950",
     "exception": false,
     "start_time": "2022-06-19T16:57:50.063091",
     "status": "completed"
    },
    "tags": []
   },
   "outputs": [],
   "source": [
    "m1 = tf.keras.Sequential()\n",
    "m1.add(mbase1)\n",
    "m1.add(tf.keras.layers.Flatten())\n",
    "m1.add(tf.keras.layers.Dense(256, activation='relu'))\n",
    "m1.add(tf.keras.layers.Dense(4, activation='softmax'))\n",
    "\n",
    "m1.compile(optimizer='adam',loss='categorical_crossentropy',metrics=['accuracy'])\n",
    "\n",
    "\n",
    "m2 = tf.keras.Sequential()\n",
    "m2.add(mbase2)\n",
    "m2.add(tf.keras.layers.Flatten())\n",
    "m2.add(tf.keras.layers.Dense(256, activation='relu'))\n",
    "m2.add(tf.keras.layers.Dense(4, activation='softmax'))\n",
    "\n",
    "m2.compile(optimizer='adam',loss='categorical_crossentropy',metrics=['accuracy'])\n",
    "\n",
    "\n",
    "m3 = tf.keras.Sequential()\n",
    "m3.add(mbase3)\n",
    "m3.add(tf.keras.layers.Flatten())\n",
    "m3.add(tf.keras.layers.Dense(256, activation='relu'))\n",
    "m3.add(tf.keras.layers.Dense(4, activation='softmax'))\n",
    "\n",
    "m3.compile(optimizer='adam',loss='categorical_crossentropy',metrics=['accuracy'])"
   ]
  },
  {
   "cell_type": "code",
   "execution_count": 15,
   "id": "6dfde2ae",
   "metadata": {
    "execution": {
     "iopub.execute_input": "2022-06-19T16:57:52.086038Z",
     "iopub.status.busy": "2022-06-19T16:57:52.085674Z",
     "iopub.status.idle": "2022-06-19T17:00:19.543489Z",
     "shell.execute_reply": "2022-06-19T17:00:19.542643Z"
    },
    "papermill": {
     "duration": 147.806173,
     "end_time": "2022-06-19T17:00:19.545802",
     "exception": false,
     "start_time": "2022-06-19T16:57:51.739629",
     "status": "completed"
    },
    "tags": []
   },
   "outputs": [
    {
     "name": "stdout",
     "output_type": "stream",
     "text": [
      "Epoch 1/10\n",
      "242/242 [==============================] - 18s 65ms/step - loss: 0.5593 - accuracy: 0.9229 - val_loss: 0.1111 - val_accuracy: 0.9629\n",
      "Epoch 2/10\n",
      "242/242 [==============================] - 14s 58ms/step - loss: 0.0431 - accuracy: 0.9844 - val_loss: 0.1631 - val_accuracy: 0.9475\n",
      "Epoch 3/10\n",
      "242/242 [==============================] - 13s 55ms/step - loss: 0.0378 - accuracy: 0.9871 - val_loss: 0.0613 - val_accuracy: 0.9774\n",
      "Epoch 4/10\n",
      "242/242 [==============================] - 14s 56ms/step - loss: 0.0117 - accuracy: 0.9963 - val_loss: 0.1665 - val_accuracy: 0.9629\n",
      "Epoch 5/10\n",
      "242/242 [==============================] - 13s 55ms/step - loss: 0.0400 - accuracy: 0.9876 - val_loss: 0.2776 - val_accuracy: 0.9484\n",
      "Epoch 6/10\n",
      "242/242 [==============================] - 13s 54ms/step - loss: 0.0404 - accuracy: 0.9898 - val_loss: 0.0960 - val_accuracy: 0.9683\n",
      "Epoch 7/10\n",
      "242/242 [==============================] - 14s 58ms/step - loss: 0.0078 - accuracy: 0.9977 - val_loss: 0.1546 - val_accuracy: 0.9665\n",
      "Epoch 8/10\n",
      "242/242 [==============================] - 13s 54ms/step - loss: 0.0031 - accuracy: 0.9996 - val_loss: 0.0456 - val_accuracy: 0.9846\n",
      "Epoch 9/10\n",
      "242/242 [==============================] - 14s 58ms/step - loss: 3.2052e-04 - accuracy: 1.0000 - val_loss: 0.0438 - val_accuracy: 0.9846\n",
      "Epoch 10/10\n",
      "242/242 [==============================] - 13s 55ms/step - loss: 1.7748e-04 - accuracy: 1.0000 - val_loss: 0.0484 - val_accuracy: 0.9837\n"
     ]
    }
   ],
   "source": [
    "historyv1 = v1.fit(\n",
    "    x=train_batches,\n",
    "    steps_per_epoch=len(train_batches),\n",
    "    validation_data=valid_batches,\n",
    "    validation_steps=len(valid_batches),\n",
    "    epochs=10,\n",
    "    verbose=1    \n",
    ")"
   ]
  },
  {
   "cell_type": "code",
   "execution_count": 16,
   "id": "1eda41c0",
   "metadata": {
    "execution": {
     "iopub.execute_input": "2022-06-19T17:00:20.417039Z",
     "iopub.status.busy": "2022-06-19T17:00:20.416166Z",
     "iopub.status.idle": "2022-06-19T17:03:48.943905Z",
     "shell.execute_reply": "2022-06-19T17:03:48.942949Z"
    },
    "papermill": {
     "duration": 208.965267,
     "end_time": "2022-06-19T17:03:48.945955",
     "exception": false,
     "start_time": "2022-06-19T17:00:19.980688",
     "status": "completed"
    },
    "tags": []
   },
   "outputs": [
    {
     "name": "stdout",
     "output_type": "stream",
     "text": [
      "Epoch 1/10\n",
      "381/381 [==============================] - 23s 59ms/step - loss: 0.4717 - accuracy: 0.9353 - val_loss: 0.1362 - val_accuracy: 0.9586\n",
      "Epoch 2/10\n",
      "381/381 [==============================] - 21s 54ms/step - loss: 0.0566 - accuracy: 0.9834 - val_loss: 0.0863 - val_accuracy: 0.9758\n",
      "Epoch 3/10\n",
      "381/381 [==============================] - 21s 54ms/step - loss: 0.0299 - accuracy: 0.9895 - val_loss: 0.1084 - val_accuracy: 0.9712\n",
      "Epoch 4/10\n",
      "381/381 [==============================] - 21s 54ms/step - loss: 0.0163 - accuracy: 0.9944 - val_loss: 0.0949 - val_accuracy: 0.9730\n",
      "Epoch 5/10\n",
      "381/381 [==============================] - 20s 54ms/step - loss: 0.0164 - accuracy: 0.9951 - val_loss: 0.1127 - val_accuracy: 0.9776\n",
      "Epoch 6/10\n",
      "381/381 [==============================] - 21s 54ms/step - loss: 0.0433 - accuracy: 0.9882 - val_loss: 0.1926 - val_accuracy: 0.9597\n",
      "Epoch 7/10\n",
      "381/381 [==============================] - 21s 54ms/step - loss: 0.0412 - accuracy: 0.9900 - val_loss: 0.2154 - val_accuracy: 0.9678\n",
      "Epoch 8/10\n",
      "381/381 [==============================] - 20s 54ms/step - loss: 0.0281 - accuracy: 0.9923 - val_loss: 0.2545 - val_accuracy: 0.9735\n",
      "Epoch 9/10\n",
      "381/381 [==============================] - 21s 55ms/step - loss: 0.0342 - accuracy: 0.9926 - val_loss: 0.1965 - val_accuracy: 0.9695\n",
      "Epoch 10/10\n",
      "381/381 [==============================] - 20s 52ms/step - loss: 0.0182 - accuracy: 0.9961 - val_loss: 0.1227 - val_accuracy: 0.9804\n"
     ]
    }
   ],
   "source": [
    "historyv2 = v2.fit(\n",
    "    x=train_augmented_batches,\n",
    "    steps_per_epoch=len(train_augmented_batches),\n",
    "    validation_data=valid_augmented_batches,\n",
    "    validation_steps=len(valid_augmented_batches),\n",
    "    epochs=10,\n",
    "    verbose=1    \n",
    ")"
   ]
  },
  {
   "cell_type": "code",
   "execution_count": 17,
   "id": "e780c2ff",
   "metadata": {
    "execution": {
     "iopub.execute_input": "2022-06-19T17:03:50.107372Z",
     "iopub.status.busy": "2022-06-19T17:03:50.106992Z",
     "iopub.status.idle": "2022-06-19T17:08:35.853915Z",
     "shell.execute_reply": "2022-06-19T17:08:35.853127Z"
    },
    "papermill": {
     "duration": 286.306661,
     "end_time": "2022-06-19T17:08:35.856095",
     "exception": false,
     "start_time": "2022-06-19T17:03:49.549434",
     "status": "completed"
    },
    "tags": []
   },
   "outputs": [
    {
     "name": "stdout",
     "output_type": "stream",
     "text": [
      "Epoch 1/10\n",
      "381/381 [==============================] - 26s 66ms/step - loss: 0.2803 - accuracy: 0.9516 - val_loss: 0.0838 - val_accuracy: 0.9793\n",
      "Epoch 2/10\n",
      "381/381 [==============================] - 26s 68ms/step - loss: 0.0476 - accuracy: 0.9862 - val_loss: 0.0921 - val_accuracy: 0.9776\n",
      "Epoch 3/10\n",
      "381/381 [==============================] - 25s 67ms/step - loss: 0.0121 - accuracy: 0.9959 - val_loss: 0.0648 - val_accuracy: 0.9850\n",
      "Epoch 4/10\n",
      "381/381 [==============================] - 25s 66ms/step - loss: 0.0066 - accuracy: 0.9983 - val_loss: 0.0937 - val_accuracy: 0.9827\n",
      "Epoch 5/10\n",
      "381/381 [==============================] - 25s 66ms/step - loss: 0.0457 - accuracy: 0.9900 - val_loss: 0.2325 - val_accuracy: 0.9609\n",
      "Epoch 6/10\n",
      "381/381 [==============================] - 25s 66ms/step - loss: 0.0504 - accuracy: 0.9885 - val_loss: 0.1725 - val_accuracy: 0.9718\n",
      "Epoch 7/10\n",
      "381/381 [==============================] - 25s 67ms/step - loss: 0.0150 - accuracy: 0.9966 - val_loss: 0.1250 - val_accuracy: 0.9827\n",
      "Epoch 8/10\n",
      "381/381 [==============================] - 25s 66ms/step - loss: 0.0052 - accuracy: 0.9985 - val_loss: 0.1326 - val_accuracy: 0.9816\n",
      "Epoch 9/10\n",
      "381/381 [==============================] - 25s 66ms/step - loss: 0.0112 - accuracy: 0.9967 - val_loss: 0.1590 - val_accuracy: 0.9804\n",
      "Epoch 10/10\n",
      "381/381 [==============================] - 26s 67ms/step - loss: 0.0224 - accuracy: 0.9946 - val_loss: 0.2459 - val_accuracy: 0.9793\n"
     ]
    }
   ],
   "source": [
    "historyv3 = v3.fit(\n",
    "    x=train_augmented_batches_vgg,\n",
    "    steps_per_epoch=len(train_augmented_batches_vgg),\n",
    "    validation_data=valid_augmented_batches_vgg,\n",
    "    validation_steps=len(valid_augmented_batches_vgg),\n",
    "    epochs=10,\n",
    "    verbose=1    \n",
    ")"
   ]
  },
  {
   "cell_type": "code",
   "execution_count": 18,
   "id": "ab676f02",
   "metadata": {
    "execution": {
     "iopub.execute_input": "2022-06-19T17:08:37.577383Z",
     "iopub.status.busy": "2022-06-19T17:08:37.576923Z",
     "iopub.status.idle": "2022-06-19T17:11:08.870940Z",
     "shell.execute_reply": "2022-06-19T17:11:08.869907Z"
    },
    "papermill": {
     "duration": 152.219338,
     "end_time": "2022-06-19T17:11:08.873661",
     "exception": false,
     "start_time": "2022-06-19T17:08:36.654323",
     "status": "completed"
    },
    "tags": []
   },
   "outputs": [
    {
     "name": "stdout",
     "output_type": "stream",
     "text": [
      "Epoch 1/10\n",
      "242/242 [==============================] - 16s 54ms/step - loss: 2.6046 - accuracy: 0.7412 - val_loss: 0.7972 - val_accuracy: 0.7844\n",
      "Epoch 2/10\n",
      "242/242 [==============================] - 12s 49ms/step - loss: 0.4448 - accuracy: 0.8482 - val_loss: 0.5495 - val_accuracy: 0.8125\n",
      "Epoch 3/10\n",
      "242/242 [==============================] - 14s 57ms/step - loss: 0.3108 - accuracy: 0.8832 - val_loss: 0.3574 - val_accuracy: 0.8777\n",
      "Epoch 4/10\n",
      "242/242 [==============================] - 12s 49ms/step - loss: 0.3085 - accuracy: 0.8846 - val_loss: 0.4947 - val_accuracy: 0.8678\n",
      "Epoch 5/10\n",
      "242/242 [==============================] - 13s 52ms/step - loss: 0.2009 - accuracy: 0.9244 - val_loss: 0.3790 - val_accuracy: 0.8678\n",
      "Epoch 6/10\n",
      "242/242 [==============================] - 12s 50ms/step - loss: 0.1927 - accuracy: 0.9278 - val_loss: 0.4593 - val_accuracy: 0.8388\n",
      "Epoch 7/10\n",
      "242/242 [==============================] - 13s 53ms/step - loss: 0.2022 - accuracy: 0.9182 - val_loss: 0.4200 - val_accuracy: 0.8614\n",
      "Epoch 8/10\n",
      "242/242 [==============================] - 13s 52ms/step - loss: 0.1608 - accuracy: 0.9364 - val_loss: 0.3471 - val_accuracy: 0.8958\n",
      "Epoch 9/10\n",
      "242/242 [==============================] - 13s 52ms/step - loss: 0.1264 - accuracy: 0.9531 - val_loss: 0.4148 - val_accuracy: 0.8650\n",
      "Epoch 10/10\n",
      "242/242 [==============================] - 13s 54ms/step - loss: 0.0988 - accuracy: 0.9643 - val_loss: 0.3583 - val_accuracy: 0.9022\n"
     ]
    }
   ],
   "source": [
    "historym1 = m1.fit(\n",
    "    x=train_batches,\n",
    "    steps_per_epoch=len(train_batches),\n",
    "    validation_data=valid_batches,\n",
    "    validation_steps=len(valid_batches),\n",
    "    epochs=10,\n",
    "    verbose=1    \n",
    ")"
   ]
  },
  {
   "cell_type": "code",
   "execution_count": 19,
   "id": "ed1dccac",
   "metadata": {
    "execution": {
     "iopub.execute_input": "2022-06-19T17:11:10.674729Z",
     "iopub.status.busy": "2022-06-19T17:11:10.673733Z",
     "iopub.status.idle": "2022-06-19T17:14:26.258719Z",
     "shell.execute_reply": "2022-06-19T17:14:26.257882Z"
    },
    "papermill": {
     "duration": 196.461718,
     "end_time": "2022-06-19T17:14:26.260987",
     "exception": false,
     "start_time": "2022-06-19T17:11:09.799269",
     "status": "completed"
    },
    "tags": []
   },
   "outputs": [
    {
     "name": "stdout",
     "output_type": "stream",
     "text": [
      "Epoch 1/10\n",
      "381/381 [==============================] - 22s 52ms/step - loss: 1.4361 - accuracy: 0.8015 - val_loss: 0.3243 - val_accuracy: 0.8780\n",
      "Epoch 2/10\n",
      "381/381 [==============================] - 19s 50ms/step - loss: 0.2949 - accuracy: 0.8956 - val_loss: 0.3107 - val_accuracy: 0.8924\n",
      "Epoch 3/10\n",
      "381/381 [==============================] - 19s 50ms/step - loss: 0.2692 - accuracy: 0.9025 - val_loss: 0.4422 - val_accuracy: 0.8550\n",
      "Epoch 4/10\n",
      "381/381 [==============================] - 19s 50ms/step - loss: 0.2045 - accuracy: 0.9271 - val_loss: 0.3274 - val_accuracy: 0.8769\n",
      "Epoch 5/10\n",
      "381/381 [==============================] - 20s 52ms/step - loss: 0.1411 - accuracy: 0.9469 - val_loss: 0.4168 - val_accuracy: 0.8654\n",
      "Epoch 6/10\n",
      "381/381 [==============================] - 18s 48ms/step - loss: 0.1694 - accuracy: 0.9358 - val_loss: 0.2640 - val_accuracy: 0.9148\n",
      "Epoch 7/10\n",
      "381/381 [==============================] - 20s 52ms/step - loss: 0.1070 - accuracy: 0.9589 - val_loss: 0.2943 - val_accuracy: 0.9062\n",
      "Epoch 8/10\n",
      "381/381 [==============================] - 18s 48ms/step - loss: 0.1158 - accuracy: 0.9566 - val_loss: 0.3494 - val_accuracy: 0.8982\n",
      "Epoch 9/10\n",
      "381/381 [==============================] - 20s 53ms/step - loss: 0.1112 - accuracy: 0.9581 - val_loss: 0.3746 - val_accuracy: 0.8820\n",
      "Epoch 10/10\n",
      "381/381 [==============================] - 19s 51ms/step - loss: 0.1221 - accuracy: 0.9534 - val_loss: 0.2614 - val_accuracy: 0.9183\n"
     ]
    }
   ],
   "source": [
    "historym2 = m2.fit(\n",
    "    x=train_augmented_batches,\n",
    "    steps_per_epoch=len(train_augmented_batches),\n",
    "    validation_data=valid_augmented_batches,\n",
    "    validation_steps=len(valid_augmented_batches),\n",
    "    epochs=10,\n",
    "    verbose=1    \n",
    ")"
   ]
  },
  {
   "cell_type": "code",
   "execution_count": 20,
   "id": "23031f8e",
   "metadata": {
    "execution": {
     "iopub.execute_input": "2022-06-19T17:14:28.307119Z",
     "iopub.status.busy": "2022-06-19T17:14:28.306664Z",
     "iopub.status.idle": "2022-06-19T17:18:44.509319Z",
     "shell.execute_reply": "2022-06-19T17:18:44.508376Z"
    },
    "papermill": {
     "duration": 257.206793,
     "end_time": "2022-06-19T17:18:44.511683",
     "exception": false,
     "start_time": "2022-06-19T17:14:27.304890",
     "status": "completed"
    },
    "tags": []
   },
   "outputs": [
    {
     "name": "stdout",
     "output_type": "stream",
     "text": [
      "Epoch 1/10\n",
      "381/381 [==============================] - 26s 62ms/step - loss: 0.8737 - accuracy: 0.8529 - val_loss: 0.2133 - val_accuracy: 0.9189\n",
      "Epoch 2/10\n",
      "381/381 [==============================] - 24s 62ms/step - loss: 0.1653 - accuracy: 0.9392 - val_loss: 0.1780 - val_accuracy: 0.9321\n",
      "Epoch 3/10\n",
      "381/381 [==============================] - 25s 66ms/step - loss: 0.0983 - accuracy: 0.9625 - val_loss: 0.1802 - val_accuracy: 0.9367\n",
      "Epoch 4/10\n",
      "381/381 [==============================] - 23s 60ms/step - loss: 0.0832 - accuracy: 0.9694 - val_loss: 0.1723 - val_accuracy: 0.9396\n",
      "Epoch 5/10\n",
      "381/381 [==============================] - 23s 62ms/step - loss: 0.0602 - accuracy: 0.9778 - val_loss: 0.2424 - val_accuracy: 0.9304\n",
      "Epoch 6/10\n",
      "381/381 [==============================] - 24s 62ms/step - loss: 0.0554 - accuracy: 0.9798 - val_loss: 0.1682 - val_accuracy: 0.9471\n",
      "Epoch 7/10\n",
      "381/381 [==============================] - 24s 62ms/step - loss: 0.0438 - accuracy: 0.9832 - val_loss: 0.2003 - val_accuracy: 0.9430\n",
      "Epoch 8/10\n",
      "381/381 [==============================] - 24s 62ms/step - loss: 0.0493 - accuracy: 0.9816 - val_loss: 0.2944 - val_accuracy: 0.9292\n",
      "Epoch 9/10\n",
      "381/381 [==============================] - 24s 62ms/step - loss: 0.0406 - accuracy: 0.9855 - val_loss: 0.1850 - val_accuracy: 0.9459\n",
      "Epoch 10/10\n",
      "381/381 [==============================] - 25s 65ms/step - loss: 0.0445 - accuracy: 0.9843 - val_loss: 0.2851 - val_accuracy: 0.9356\n"
     ]
    }
   ],
   "source": [
    "historym3 = m3.fit(\n",
    "    x=train_augmented_batches_vgg,\n",
    "    steps_per_epoch=len(train_augmented_batches_vgg),\n",
    "    validation_data=valid_augmented_batches_vgg,\n",
    "    validation_steps=len(valid_augmented_batches_vgg),\n",
    "    epochs=10,\n",
    "    verbose=1    \n",
    ")"
   ]
  },
  {
   "cell_type": "code",
   "execution_count": 21,
   "id": "41ec7633",
   "metadata": {
    "execution": {
     "iopub.execute_input": "2022-06-19T17:18:47.009859Z",
     "iopub.status.busy": "2022-06-19T17:18:47.009303Z",
     "iopub.status.idle": "2022-06-19T17:18:47.369768Z",
     "shell.execute_reply": "2022-06-19T17:18:47.369041Z"
    },
    "papermill": {
     "duration": 1.596835,
     "end_time": "2022-06-19T17:18:47.371652",
     "exception": false,
     "start_time": "2022-06-19T17:18:45.774817",
     "status": "completed"
    },
    "tags": []
   },
   "outputs": [
    {
     "data": {
      "image/png": "[encoded data removed]",
      "text/plain": [
       "<Figure size 432x288 with 1 Axes>"
      ]
     },
     "metadata": {
      "needs_background": "light"
     },
     "output_type": "display_data"
    },
    {
     "data": {
      "image/png": "[encoded data removed]",
      "text/plain": [
       "<Figure size 432x288 with 1 Axes>"
      ]
     },
     "metadata": {
      "needs_background": "light"
     },
     "output_type": "display_data"
    }
   ],
   "source": [
    "acc = historyc1.history['accuracy']\n",
    "val_acc = historyc1.history['val_accuracy']\n",
    "loss = historyc1.history['loss']\n",
    "val_loss = historyc1.history['val_loss']\n",
    "epochs = range(1, len(acc) + 1)\n",
    "plt.plot(epochs, acc, 'bo', label='Training acc')\n",
    "plt.plot(epochs, val_acc, 'b', label='Validation acc')\n",
    "plt.title('Training and validation accuracy')\n",
    "plt.legend()\n",
    "plt.figure()\n",
    "plt.plot(epochs, loss, 'bo', label='Training loss')\n",
    "plt.plot(epochs, val_loss, 'b', label='Validation loss')\n",
    "plt.title('Training and validation loss')\n",
    "plt.legend()\n",
    "plt.show()"
   ]
  },
  {
   "cell_type": "code",
   "execution_count": 22,
   "id": "aafbec55",
   "metadata": {
    "execution": {
     "iopub.execute_input": "2022-06-19T17:18:49.973333Z",
     "iopub.status.busy": "2022-06-19T17:18:49.972942Z",
     "iopub.status.idle": "2022-06-19T17:18:50.332820Z",
     "shell.execute_reply": "2022-06-19T17:18:50.332046Z"
    },
    "papermill": {
     "duration": 1.785656,
     "end_time": "2022-06-19T17:18:50.334676",
     "exception": false,
     "start_time": "2022-06-19T17:18:48.549020",
     "status": "completed"
    },
    "tags": []
   },
   "outputs": [
    {
     "data": {
      "image/png": "[encoded data removed]",
      "text/plain": [
       "<Figure size 432x288 with 1 Axes>"
      ]
     },
     "metadata": {
      "needs_background": "light"
     },
     "output_type": "display_data"
    },
    {
     "data": {
      "image/png": "[encoded data removed]",
      "text/plain": [
       "<Figure size 432x288 with 1 Axes>"
      ]
     },
     "metadata": {
      "needs_background": "light"
     },
     "output_type": "display_data"
    }
   ],
   "source": [
    "acc = historyc2.history['accuracy']\n",
    "val_acc = historyc2.history['val_accuracy']\n",
    "loss = historyc2.history['loss']\n",
    "val_loss = historyc2.history['val_loss']\n",
    "epochs = range(1, len(acc) + 1)\n",
    "plt.plot(epochs, acc, 'bo', label='Training acc')\n",
    "plt.plot(epochs, val_acc, 'b', label='Validation acc')\n",
    "plt.title('Training and validation accuracy')\n",
    "plt.legend()\n",
    "plt.figure()\n",
    "plt.plot(epochs, loss, 'bo', label='Training loss')\n",
    "plt.plot(epochs, val_loss, 'b', label='Validation loss')\n",
    "plt.title('Training and validation loss')\n",
    "plt.legend()\n",
    "plt.show()"
   ]
  },
  {
   "cell_type": "code",
   "execution_count": 23,
   "id": "0f29d55e",
   "metadata": {
    "execution": {
     "iopub.execute_input": "2022-06-19T17:18:52.812162Z",
     "iopub.status.busy": "2022-06-19T17:18:52.811807Z",
     "iopub.status.idle": "2022-06-19T17:18:53.162812Z",
     "shell.execute_reply": "2022-06-19T17:18:53.162075Z"
    },
    "papermill": {
     "duration": 1.594242,
     "end_time": "2022-06-19T17:18:53.164474",
     "exception": false,
     "start_time": "2022-06-19T17:18:51.570232",
     "status": "completed"
    },
    "tags": []
   },
   "outputs": [
    {
     "data": {
      "image/png": "[encoded data removed]",
      "text/plain": [
       "<Figure size 432x288 with 1 Axes>"
      ]
     },
     "metadata": {
      "needs_background": "light"
     },
     "output_type": "display_data"
    },
    {
     "data": {
      "image/png": "[encoded data removed]",
      "text/plain": [
       "<Figure size 432x288 with 1 Axes>"
      ]
     },
     "metadata": {
      "needs_background": "light"
     },
     "output_type": "display_data"
    }
   ],
   "source": [
    "acc = historyc3.history['accuracy']\n",
    "val_acc = historyc3.history['val_accuracy']\n",
    "loss = historyc3.history['loss']\n",
    "val_loss = historyc3.history['val_loss']\n",
    "epochs = range(1, len(acc) + 1)\n",
    "plt.plot(epochs, acc, 'bo', label='Training acc')\n",
    "plt.plot(epochs, val_acc, 'b', label='Validation acc')\n",
    "plt.title('Training and validation accuracy')\n",
    "plt.legend()\n",
    "plt.figure()\n",
    "plt.plot(epochs, loss, 'bo', label='Training loss')\n",
    "plt.plot(epochs, val_loss, 'b', label='Validation loss')\n",
    "plt.title('Training and validation loss')\n",
    "plt.legend()\n",
    "plt.show()"
   ]
  },
  {
   "cell_type": "code",
   "execution_count": 24,
   "id": "a82367ab",
   "metadata": {
    "execution": {
     "iopub.execute_input": "2022-06-19T17:18:55.621313Z",
     "iopub.status.busy": "2022-06-19T17:18:55.620672Z",
     "iopub.status.idle": "2022-06-19T17:18:55.971783Z",
     "shell.execute_reply": "2022-06-19T17:18:55.971055Z"
    },
    "papermill": {
     "duration": 1.566058,
     "end_time": "2022-06-19T17:18:55.973488",
     "exception": false,
     "start_time": "2022-06-19T17:18:54.407430",
     "status": "completed"
    },
    "tags": []
   },
   "outputs": [
    {
     "data": {
      "image/png": "[encoded data removed]",
      "text/plain": [
       "<Figure size 432x288 with 1 Axes>"
      ]
     },
     "metadata": {
      "needs_background": "light"
     },
     "output_type": "display_data"
    },
    {
     "data": {
      "image/png": "[encoded data removed]",
      "text/plain": [
       "<Figure size 432x288 with 1 Axes>"
      ]
     },
     "metadata": {
      "needs_background": "light"
     },
     "output_type": "display_data"
    }
   ],
   "source": [
    "acc = historyv1.history['accuracy']\n",
    "val_acc = historyv1.history['val_accuracy']\n",
    "loss = historyv1.history['loss']\n",
    "val_loss = historyv1.history['val_loss']\n",
    "epochs = range(1, len(acc) + 1)\n",
    "plt.plot(epochs, acc, 'bo', label='Training acc')\n",
    "plt.plot(epochs, val_acc, 'b', label='Validation acc')\n",
    "plt.title('Training and validation accuracy')\n",
    "plt.legend()\n",
    "plt.figure()\n",
    "plt.plot(epochs, loss, 'bo', label='Training loss')\n",
    "plt.plot(epochs, val_loss, 'b', label='Validation loss')\n",
    "plt.title('Training and validation loss')\n",
    "plt.legend()\n",
    "plt.show()"
   ]
  },
  {
   "cell_type": "code",
   "execution_count": 25,
   "id": "4a561183",
   "metadata": {
    "execution": {
     "iopub.execute_input": "2022-06-19T17:18:58.444387Z",
     "iopub.status.busy": "2022-06-19T17:18:58.443833Z",
     "iopub.status.idle": "2022-06-19T17:18:58.786268Z",
     "shell.execute_reply": "2022-06-19T17:18:58.785488Z"
    },
    "papermill": {
     "duration": 1.58674,
     "end_time": "2022-06-19T17:18:58.788037",
     "exception": false,
     "start_time": "2022-06-19T17:18:57.201297",
     "status": "completed"
    },
    "tags": []
   },
   "outputs": [
    {
     "data": {
      "image/png": "[encoded data removed]",
      "text/plain": [
       "<Figure size 432x288 with 1 Axes>"
      ]
     },
     "metadata": {
      "needs_background": "light"
     },
     "output_type": "display_data"
    },
    {
     "data": {
      "image/png": "[encoded data removed]",
      "text/plain": [
       "<Figure size 432x288 with 1 Axes>"
      ]
     },
     "metadata": {
      "needs_background": "light"
     },
     "output_type": "display_data"
    }
   ],
   "source": [
    "acc = historyv2.history['accuracy']\n",
    "val_acc = historyv2.history['val_accuracy']\n",
    "loss = historyv2.history['loss']\n",
    "val_loss = historyv2.history['val_loss']\n",
    "epochs = range(1, len(acc) + 1)\n",
    "plt.plot(epochs, acc, 'bo', label='Training acc')\n",
    "plt.plot(epochs, val_acc, 'b', label='Validation acc')\n",
    "plt.title('Training and validation accuracy')\n",
    "plt.legend()\n",
    "plt.figure()\n",
    "plt.plot(epochs, loss, 'bo', label='Training loss')\n",
    "plt.plot(epochs, val_loss, 'b', label='Validation loss')\n",
    "plt.title('Training and validation loss')\n",
    "plt.legend()\n",
    "plt.show()"
   ]
  },
  {
   "cell_type": "code",
   "execution_count": 26,
   "id": "c281a209",
   "metadata": {
    "execution": {
     "iopub.execute_input": "2022-06-19T17:19:01.488232Z",
     "iopub.status.busy": "2022-06-19T17:19:01.487748Z",
     "iopub.status.idle": "2022-06-19T17:19:02.101802Z",
     "shell.execute_reply": "2022-06-19T17:19:02.101052Z"
    },
    "papermill": {
     "duration": 2.069515,
     "end_time": "2022-06-19T17:19:02.103546",
     "exception": false,
     "start_time": "2022-06-19T17:19:00.034031",
     "status": "completed"
    },
    "tags": []
   },
   "outputs": [
    {
     "data": {
      "image/png": "[encoded data removed]",
      "text/plain": [
       "<Figure size 432x288 with 1 Axes>"
      ]
     },
     "metadata": {
      "needs_background": "light"
     },
     "output_type": "display_data"
    },
    {
     "data": {
      "image/png": "[encoded data removed]",
      "text/plain": [
       "<Figure size 432x288 with 1 Axes>"
      ]
     },
     "metadata": {
      "needs_background": "light"
     },
     "output_type": "display_data"
    }
   ],
   "source": [
    "acc = historyv3.history['accuracy']\n",
    "val_acc = historyv3.history['val_accuracy']\n",
    "loss = historyv3.history['loss']\n",
    "val_loss = historyv3.history['val_loss']\n",
    "epochs = range(1, len(acc) + 1)\n",
    "plt.plot(epochs, acc, 'bo', label='Training acc')\n",
    "plt.plot(epochs, val_acc, 'b', label='Validation acc')\n",
    "plt.title('Training and validation accuracy')\n",
    "plt.legend()\n",
    "plt.figure()\n",
    "plt.plot(epochs, loss, 'bo', label='Training loss')\n",
    "plt.plot(epochs, val_loss, 'b', label='Validation loss')\n",
    "plt.title('Training and validation loss')\n",
    "plt.legend()\n",
    "plt.show()"
   ]
  },
  {
   "cell_type": "code",
   "execution_count": 27,
   "id": "0e5a8023",
   "metadata": {
    "execution": {
     "iopub.execute_input": "2022-06-19T17:19:04.558740Z",
     "iopub.status.busy": "2022-06-19T17:19:04.558391Z",
     "iopub.status.idle": "2022-06-19T17:19:04.902577Z",
     "shell.execute_reply": "2022-06-19T17:19:04.901845Z"
    },
    "papermill": {
     "duration": 1.553107,
     "end_time": "2022-06-19T17:19:04.904339",
     "exception": false,
     "start_time": "2022-06-19T17:19:03.351232",
     "status": "completed"
    },
    "tags": []
   },
   "outputs": [
    {
     "data": {
      "image/png": "[encoded data removed]",
      "text/plain": [
       "<Figure size 432x288 with 1 Axes>"
      ]
     },
     "metadata": {
      "needs_background": "light"
     },
     "output_type": "display_data"
    },
    {
     "data": {
      "image/png": "[encoded data removed]",
      "text/plain": [
       "<Figure size 432x288 with 1 Axes>"
      ]
     },
     "metadata": {
      "needs_background": "light"
     },
     "output_type": "display_data"
    }
   ],
   "source": [
    "acc = historym1.history['accuracy']\n",
    "val_acc = historym1.history['val_accuracy']\n",
    "loss = historym1.history['loss']\n",
    "val_loss = historym1.history['val_loss']\n",
    "epochs = range(1, len(acc) + 1)\n",
    "plt.plot(epochs, acc, 'bo', label='Training acc')\n",
    "plt.plot(epochs, val_acc, 'b', label='Validation acc')\n",
    "plt.title('Training and validation accuracy')\n",
    "plt.legend()\n",
    "plt.figure()\n",
    "plt.plot(epochs, loss, 'bo', label='Training loss')\n",
    "plt.plot(epochs, val_loss, 'b', label='Validation loss')\n",
    "plt.title('Training and validation loss')\n",
    "plt.legend()\n",
    "plt.show()"
   ]
  },
  {
   "cell_type": "code",
   "execution_count": 28,
   "id": "f0454280",
   "metadata": {
    "execution": {
     "iopub.execute_input": "2022-06-19T17:19:07.385044Z",
     "iopub.status.busy": "2022-06-19T17:19:07.384681Z",
     "iopub.status.idle": "2022-06-19T17:19:07.740855Z",
     "shell.execute_reply": "2022-06-19T17:19:07.740026Z"
    },
    "papermill": {
     "duration": 1.600558,
     "end_time": "2022-06-19T17:19:07.742860",
     "exception": false,
     "start_time": "2022-06-19T17:19:06.142302",
     "status": "completed"
    },
    "tags": []
   },
   "outputs": [
    {
     "data": {
      "image/png": "[encoded data removed]",
      "text/plain": [
       "<Figure size 432x288 with 1 Axes>"
      ]
     },
     "metadata": {
      "needs_background": "light"
     },
     "output_type": "display_data"
    },
    {
     "data": {
      "image/png": "[encoded data removed]",
      "text/plain": [
       "<Figure size 432x288 with 1 Axes>"
      ]
     },
     "metadata": {
      "needs_background": "light"
     },
     "output_type": "display_data"
    }
   ],
   "source": [
    "acc = historym2.history['accuracy']\n",
    "val_acc = historym2.history['val_accuracy']\n",
    "loss = historym2.history['loss']\n",
    "val_loss = historym2.history['val_loss']\n",
    "epochs = range(1, len(acc) + 1)\n",
    "plt.plot(epochs, acc, 'bo', label='Training acc')\n",
    "plt.plot(epochs, val_acc, 'b', label='Validation acc')\n",
    "plt.title('Training and validation accuracy')\n",
    "plt.legend()\n",
    "plt.figure()\n",
    "plt.plot(epochs, loss, 'bo', label='Training loss')\n",
    "plt.plot(epochs, val_loss, 'b', label='Validation loss')\n",
    "plt.title('Training and validation loss')\n",
    "plt.legend()\n",
    "plt.show()"
   ]
  },
  {
   "cell_type": "code",
   "execution_count": 29,
   "id": "efb437fc",
   "metadata": {
    "execution": {
     "iopub.execute_input": "2022-06-19T17:19:10.247967Z",
     "iopub.status.busy": "2022-06-19T17:19:10.247376Z",
     "iopub.status.idle": "2022-06-19T17:19:10.592517Z",
     "shell.execute_reply": "2022-06-19T17:19:10.591719Z"
    },
    "papermill": {
     "duration": 1.602386,
     "end_time": "2022-06-19T17:19:10.594390",
     "exception": false,
     "start_time": "2022-06-19T17:19:08.992004",
     "status": "completed"
    },
    "tags": []
   },
   "outputs": [
    {
     "data": {
      "image/png": "[encoded data removed]",
      "text/plain": [
       "<Figure size 432x288 with 1 Axes>"
      ]
     },
     "metadata": {
      "needs_background": "light"
     },
     "output_type": "display_data"
    },
    {
     "data": {
      "image/png": "[encoded data removed]",
      "text/plain": [
       "<Figure size 432x288 with 1 Axes>"
      ]
     },
     "metadata": {
      "needs_background": "light"
     },
     "output_type": "display_data"
    }
   ],
   "source": [
    "acc = historym3.history['accuracy']\n",
    "val_acc = historym3.history['val_accuracy']\n",
    "loss = historym3.history['loss']\n",
    "val_loss = historym3.history['val_loss']\n",
    "epochs = range(1, len(acc) + 1)\n",
    "plt.plot(epochs, acc, 'bo', label='Training acc')\n",
    "plt.plot(epochs, val_acc, 'b', label='Validation acc')\n",
    "plt.title('Training and validation accuracy')\n",
    "plt.legend()\n",
    "plt.figure()\n",
    "plt.plot(epochs, loss, 'bo', label='Training loss')\n",
    "plt.plot(epochs, val_loss, 'b', label='Validation loss')\n",
    "plt.title('Training and validation loss')\n",
    "plt.legend()\n",
    "plt.show()"
   ]
  },
  {
   "cell_type": "code",
   "execution_count": 30,
   "id": "83059896",
   "metadata": {
    "execution": {
     "iopub.execute_input": "2022-06-19T17:19:13.462969Z",
     "iopub.status.busy": "2022-06-19T17:19:13.462522Z",
     "iopub.status.idle": "2022-06-19T17:19:58.540048Z",
     "shell.execute_reply": "2022-06-19T17:19:58.539014Z"
    },
    "papermill": {
     "duration": 46.494027,
     "end_time": "2022-06-19T17:19:58.542896",
     "exception": false,
     "start_time": "2022-06-19T17:19:12.048869",
     "status": "completed"
    },
    "tags": []
   },
   "outputs": [
    {
     "name": "stdout",
     "output_type": "stream",
     "text": [
      "70/70 [==============================] - 3s 46ms/step - loss: 0.4261 - accuracy: 0.8475\n",
      "109/109 [==============================] - 4s 36ms/step - loss: 0.6258 - accuracy: 0.7964\n",
      "109/109 [==============================] - 5s 47ms/step - loss: 0.1746 - accuracy: 0.9655\n",
      "12.649528980255127\n",
      "70/70 [==============================] - 3s 49ms/step - loss: 0.1487 - accuracy: 0.9774\n",
      "109/109 [==============================] - 6s 58ms/step - loss: 0.1389 - accuracy: 0.9833\n",
      "109/109 [==============================] - 6s 56ms/step - loss: 0.2972 - accuracy: 0.9747\n",
      "16.175888776779175\n",
      "70/70 [==============================] - 4s 58ms/step - loss: 0.2917 - accuracy: 0.9018\n",
      "109/109 [==============================] - 5s 44ms/step - loss: 0.2509 - accuracy: 0.9206\n",
      "109/109 [==============================] - 6s 52ms/step - loss: 0.3090 - accuracy: 0.9347\n",
      "16.24489116668701\n"
     ]
    }
   ],
   "source": [
    "t = time.time()\n",
    "custom1.evaluate(test_batches)\n",
    "custom2.evaluate(test_augmented_batches)\n",
    "custom3.evaluate(test_augmented_batches_vgg)\n",
    "print(time.time()-t)\n",
    "\n",
    "t = time.time()\n",
    "v1.evaluate(test_batches)\n",
    "v2.evaluate(test_augmented_batches)\n",
    "v3.evaluate(test_augmented_batches_vgg)\n",
    "print(time.time()-t)\n",
    "\n",
    "t = time.time()\n",
    "m1.evaluate(test_batches)\n",
    "m2.evaluate(test_augmented_batches)\n",
    "m3.evaluate(test_augmented_batches_vgg)\n",
    "print(time.time()-t)"
   ]
  },
  {
   "cell_type": "code",
   "execution_count": 31,
   "id": "2100e5ba",
   "metadata": {
    "execution": {
     "iopub.execute_input": "2022-06-19T17:20:01.129630Z",
     "iopub.status.busy": "2022-06-19T17:20:01.129154Z",
     "iopub.status.idle": "2022-06-19T17:20:01.137767Z",
     "shell.execute_reply": "2022-06-19T17:20:01.136982Z"
    },
    "papermill": {
     "duration": 1.32175,
     "end_time": "2022-06-19T17:20:01.139383",
     "exception": false,
     "start_time": "2022-06-19T17:19:59.817633",
     "status": "completed"
    },
    "tags": []
   },
   "outputs": [],
   "source": [
    "def plot_confusion_matrix(cm, classes,normalize=False,title='Confusion matrix',cmap=plt.cm.Blues):\n",
    "    plt.imshow(cm, interpolation='nearest', cmap=cmap)\n",
    "    plt.title(title)\n",
    "    plt.colorbar()\n",
    "    tick_marks = np.arange(len(classes))\n",
    "    plt.xticks(tick_marks, classes, rotation=45)\n",
    "    plt.yticks(tick_marks, classes)\n",
    "\n",
    "    if normalize:\n",
    "        cm = cm.astype('float') / cm.sum(axis=1)[:, np.newaxis]\n",
    "        print(\"Normalized confusion matrix\")\n",
    "    else:\n",
    "        print('Confusion matrix, without normalization')\n",
    "\n",
    "    print(cm)\n",
    "\n",
    "    thresh = cm.max() / 2.\n",
    "    for i, j in itertools.product(range(cm.shape[0]), range(cm.shape[1])):\n",
    "        plt.text(j, i, cm[i, j],\n",
    "            horizontalalignment=\"center\",\n",
    "            color=\"white\" if cm[i, j] > thresh else \"black\")"
   ]
  },
  {
   "cell_type": "code",
   "execution_count": 32,
   "id": "1f01c5f5",
   "metadata": {
    "execution": {
     "iopub.execute_input": "2022-06-19T17:20:03.629588Z",
     "iopub.status.busy": "2022-06-19T17:20:03.629035Z",
     "iopub.status.idle": "2022-06-19T17:20:06.502969Z",
     "shell.execute_reply": "2022-06-19T17:20:06.502060Z"
    },
    "papermill": {
     "duration": 4.093701,
     "end_time": "2022-06-19T17:20:06.504820",
     "exception": false,
     "start_time": "2022-06-19T17:20:02.411119",
     "status": "completed"
    },
    "tags": []
   },
   "outputs": [
    {
     "name": "stdout",
     "output_type": "stream",
     "text": [
      "Confusion matrix, without normalization\n",
      "[[664 145   2   3]\n",
      " [ 94 858  18   2]\n",
      " [  2  56  56   1]\n",
      " [  5   9   0 295]]\n"
     ]
    },
    {
     "data": {
      "image/png": "[encoded data removed]",
      "text/plain": [
       "<Figure size 432x288 with 2 Axes>"
      ]
     },
     "metadata": {
      "needs_background": "light"
     },
     "output_type": "display_data"
    }
   ],
   "source": [
    "predictions = custom1.predict(x=test_batches, steps=len(test_batches), verbose=0)\n",
    "cm = confusion_matrix(y_true=test_batches.classes, y_pred=np.argmax(predictions, axis=-1))\n",
    "\n",
    "cm_plot_labels = [\"good\", \"medium\", \"bad\", \"unpaved\"]\n",
    "plot_confusion_matrix(cm=cm, classes=cm_plot_labels, title='Confusion Matrix')"
   ]
  },
  {
   "cell_type": "code",
   "execution_count": 33,
   "id": "e06481ef",
   "metadata": {
    "execution": {
     "iopub.execute_input": "2022-06-19T17:20:09.297987Z",
     "iopub.status.busy": "2022-06-19T17:20:09.297529Z",
     "iopub.status.idle": "2022-06-19T17:20:13.456852Z",
     "shell.execute_reply": "2022-06-19T17:20:13.455954Z"
    },
    "papermill": {
     "duration": 5.440422,
     "end_time": "2022-06-19T17:20:13.459187",
     "exception": false,
     "start_time": "2022-06-19T17:20:08.018765",
     "status": "completed"
    },
    "tags": []
   },
   "outputs": [
    {
     "name": "stdout",
     "output_type": "stream",
     "text": [
      "Confusion matrix, without normalization\n",
      "[[679 113   4  18]\n",
      " [217 701  37  17]\n",
      " [  4  74 690  11]\n",
      " [124  72  17 700]]\n"
     ]
    },
    {
     "data": {
      "image/png": "[encoded data removed]",
      "text/plain": [
       "<Figure size 432x288 with 2 Axes>"
      ]
     },
     "metadata": {
      "needs_background": "light"
     },
     "output_type": "display_data"
    }
   ],
   "source": [
    "predictions = custom2.predict(x=test_augmented_batches, steps=len(test_augmented_batches), verbose=0)\n",
    "cm = confusion_matrix(y_true=test_augmented_batches.classes, y_pred=np.argmax(predictions, axis=-1))\n",
    "\n",
    "cm_plot_labels = [\"good\", \"medium\", \"bad\", \"unpaved\"]\n",
    "plot_confusion_matrix(cm=cm, classes=cm_plot_labels, title='Confusion Matrix')"
   ]
  },
  {
   "cell_type": "code",
   "execution_count": 34,
   "id": "7bae2c76",
   "metadata": {
    "execution": {
     "iopub.execute_input": "2022-06-19T17:20:16.060801Z",
     "iopub.status.busy": "2022-06-19T17:20:16.060316Z",
     "iopub.status.idle": "2022-06-19T17:20:21.750981Z",
     "shell.execute_reply": "2022-06-19T17:20:21.749612Z"
    },
    "papermill": {
     "duration": 6.980187,
     "end_time": "2022-06-19T17:20:21.753265",
     "exception": false,
     "start_time": "2022-06-19T17:20:14.773078",
     "status": "completed"
    },
    "tags": []
   },
   "outputs": [
    {
     "name": "stdout",
     "output_type": "stream",
     "text": [
      "Confusion matrix, without normalization\n",
      "[[762  49   3   0]\n",
      " [ 26 933  11   2]\n",
      " [  0  11 761   7]\n",
      " [  0   3   8 902]]\n"
     ]
    },
    {
     "data": {
      "image/png": "[encoded data removed]",
      "text/plain": [
       "<Figure size 432x288 with 2 Axes>"
      ]
     },
     "metadata": {
      "needs_background": "light"
     },
     "output_type": "display_data"
    }
   ],
   "source": [
    "predictions = custom3.predict(x=test_augmented_batches_vgg, steps=len(test_augmented_batches_vgg), verbose=0)\n",
    "cm = confusion_matrix(y_true=test_augmented_batches_vgg.classes, y_pred=np.argmax(predictions, axis=-1))\n",
    "\n",
    "cm_plot_labels = [\"good\", \"medium\", \"bad\", \"unpaved\"]\n",
    "plot_confusion_matrix(cm=cm, classes=cm_plot_labels, title='Confusion Matrix')"
   ]
  },
  {
   "cell_type": "code",
   "execution_count": 35,
   "id": "23275359",
   "metadata": {
    "execution": {
     "iopub.execute_input": "2022-06-19T17:20:24.318278Z",
     "iopub.status.busy": "2022-06-19T17:20:24.317885Z",
     "iopub.status.idle": "2022-06-19T17:20:27.190391Z",
     "shell.execute_reply": "2022-06-19T17:20:27.189367Z"
    },
    "papermill": {
     "duration": 4.156026,
     "end_time": "2022-06-19T17:20:27.193574",
     "exception": false,
     "start_time": "2022-06-19T17:20:23.037548",
     "status": "completed"
    },
    "tags": []
   },
   "outputs": [
    {
     "name": "stdout",
     "output_type": "stream",
     "text": [
      "Confusion matrix, without normalization\n",
      "[[796  18   0   0]\n",
      " [ 12 956   3   1]\n",
      " [  0  14 101   0]\n",
      " [  1   1   0 307]]\n"
     ]
    },
    {
     "data": {
      "image/png": "[encoded data removed]",
      "text/plain": [
       "<Figure size 432x288 with 2 Axes>"
      ]
     },
     "metadata": {
      "needs_background": "light"
     },
     "output_type": "display_data"
    }
   ],
   "source": [
    "predictions = v1.predict(x=test_batches, steps=len(test_batches), verbose=0)\n",
    "cm = confusion_matrix(y_true=test_batches.classes, y_pred=np.argmax(predictions, axis=-1))\n",
    "\n",
    "cm_plot_labels = [\"good\", \"medium\", \"bad\", \"unpaved\"]\n",
    "plot_confusion_matrix(cm=cm, classes=cm_plot_labels, title='Confusion Matrix')"
   ]
  },
  {
   "cell_type": "code",
   "execution_count": 36,
   "id": "814cbfbe",
   "metadata": {
    "execution": {
     "iopub.execute_input": "2022-06-19T17:20:29.976591Z",
     "iopub.status.busy": "2022-06-19T17:20:29.976095Z",
     "iopub.status.idle": "2022-06-19T17:20:34.138037Z",
     "shell.execute_reply": "2022-06-19T17:20:34.136763Z"
    },
    "papermill": {
     "duration": 5.628864,
     "end_time": "2022-06-19T17:20:34.140320",
     "exception": false,
     "start_time": "2022-06-19T17:20:28.511456",
     "status": "completed"
    },
    "tags": []
   },
   "outputs": [
    {
     "name": "stdout",
     "output_type": "stream",
     "text": [
      "Confusion matrix, without normalization\n",
      "[[802  11   0   1]\n",
      " [ 16 947   9   0]\n",
      " [  0  10 765   4]\n",
      " [  0   3   4 906]]\n"
     ]
    },
    {
     "data": {
      "image/png": "[encoded data removed]",
      "text/plain": [
       "<Figure size 432x288 with 2 Axes>"
      ]
     },
     "metadata": {
      "needs_background": "light"
     },
     "output_type": "display_data"
    }
   ],
   "source": [
    "predictions = v2.predict(x=test_augmented_batches, steps=len(test_augmented_batches), verbose=0)\n",
    "cm = confusion_matrix(y_true=test_augmented_batches.classes, y_pred=np.argmax(predictions, axis=-1))\n",
    "\n",
    "cm_plot_labels = [\"good\", \"medium\", \"bad\", \"unpaved\"]\n",
    "plot_confusion_matrix(cm=cm, classes=cm_plot_labels, title='Confusion Matrix')"
   ]
  },
  {
   "cell_type": "code",
   "execution_count": 37,
   "id": "1598cd6e",
   "metadata": {
    "execution": {
     "iopub.execute_input": "2022-06-19T17:20:36.741007Z",
     "iopub.status.busy": "2022-06-19T17:20:36.740650Z",
     "iopub.status.idle": "2022-06-19T17:20:42.063782Z",
     "shell.execute_reply": "2022-06-19T17:20:42.063039Z"
    },
    "papermill": {
     "duration": 6.623981,
     "end_time": "2022-06-19T17:20:42.065645",
     "exception": false,
     "start_time": "2022-06-19T17:20:35.441664",
     "status": "completed"
    },
    "tags": []
   },
   "outputs": [
    {
     "name": "stdout",
     "output_type": "stream",
     "text": [
      "Confusion matrix, without normalization\n",
      "[[784  30   0   0]\n",
      " [  9 946  17   0]\n",
      " [  0  25 748   6]\n",
      " [  0   1   0 912]]\n"
     ]
    },
    {
     "data": {
      "image/png": "[encoded data removed]",
      "text/plain": [
       "<Figure size 432x288 with 2 Axes>"
      ]
     },
     "metadata": {
      "needs_background": "light"
     },
     "output_type": "display_data"
    }
   ],
   "source": [
    "predictions = v3.predict(x=test_augmented_batches_vgg, steps=len(test_augmented_batches_vgg), verbose=0)\n",
    "cm = confusion_matrix(y_true=test_augmented_batches_vgg.classes, y_pred=np.argmax(predictions, axis=-1))\n",
    "\n",
    "cm_plot_labels = [\"good\", \"medium\", \"bad\", \"unpaved\"]\n",
    "plot_confusion_matrix(cm=cm, classes=cm_plot_labels, title='Confusion Matrix')"
   ]
  },
  {
   "cell_type": "code",
   "execution_count": 38,
   "id": "951e6f5d",
   "metadata": {
    "execution": {
     "iopub.execute_input": "2022-06-19T17:20:44.628136Z",
     "iopub.status.busy": "2022-06-19T17:20:44.627781Z",
     "iopub.status.idle": "2022-06-19T17:20:48.108786Z",
     "shell.execute_reply": "2022-06-19T17:20:48.108047Z"
    },
    "papermill": {
     "duration": 4.764658,
     "end_time": "2022-06-19T17:20:48.110695",
     "exception": false,
     "start_time": "2022-06-19T17:20:43.346037",
     "status": "completed"
    },
    "tags": []
   },
   "outputs": [
    {
     "name": "stdout",
     "output_type": "stream",
     "text": [
      "Confusion matrix, without normalization\n",
      "[[724  83   5   2]\n",
      " [ 85 861   3  23]\n",
      " [  1  10 101   3]\n",
      " [  1   1   0 307]]\n"
     ]
    },
    {
     "data": {
      "image/png": "[encoded data removed]",
      "text/plain": [
       "<Figure size 432x288 with 2 Axes>"
      ]
     },
     "metadata": {
      "needs_background": "light"
     },
     "output_type": "display_data"
    }
   ],
   "source": [
    "predictions = m1.predict(x=test_batches, steps=len(test_batches), verbose=0)\n",
    "cm = confusion_matrix(y_true=test_batches.classes, y_pred=np.argmax(predictions, axis=-1))\n",
    "\n",
    "cm_plot_labels = [\"good\", \"medium\", \"bad\", \"unpaved\"]\n",
    "plot_confusion_matrix(cm=cm, classes=cm_plot_labels, title='Confusion Matrix')"
   ]
  },
  {
   "cell_type": "code",
   "execution_count": 39,
   "id": "f73f6ba3",
   "metadata": {
    "execution": {
     "iopub.execute_input": "2022-06-19T17:20:50.713071Z",
     "iopub.status.busy": "2022-06-19T17:20:50.712524Z",
     "iopub.status.idle": "2022-06-19T17:20:55.791316Z",
     "shell.execute_reply": "2022-06-19T17:20:55.790586Z"
    },
    "papermill": {
     "duration": 6.384386,
     "end_time": "2022-06-19T17:20:55.793288",
     "exception": false,
     "start_time": "2022-06-19T17:20:49.408902",
     "status": "completed"
    },
    "tags": []
   },
   "outputs": [
    {
     "name": "stdout",
     "output_type": "stream",
     "text": [
      "Confusion matrix, without normalization\n",
      "[[745  66   2   1]\n",
      " [115 842   4  11]\n",
      " [  2  28 718  31]\n",
      " [  0   8   8 897]]\n"
     ]
    },
    {
     "data": {
      "image/png": "[encoded data removed]",
      "text/plain": [
       "<Figure size 432x288 with 2 Axes>"
      ]
     },
     "metadata": {
      "needs_background": "light"
     },
     "output_type": "display_data"
    }
   ],
   "source": [
    "predictions = m2.predict(x=test_augmented_batches, steps=len(test_augmented_batches), verbose=0)\n",
    "cm = confusion_matrix(y_true=test_augmented_batches.classes, y_pred=np.argmax(predictions, axis=-1))\n",
    "\n",
    "cm_plot_labels = [\"good\", \"medium\", \"bad\", \"unpaved\"]\n",
    "plot_confusion_matrix(cm=cm, classes=cm_plot_labels, title='Confusion Matrix')"
   ]
  },
  {
   "cell_type": "code",
   "execution_count": 40,
   "id": "07ffa7eb",
   "metadata": {
    "execution": {
     "iopub.execute_input": "2022-06-19T17:20:58.871957Z",
     "iopub.status.busy": "2022-06-19T17:20:58.871518Z",
     "iopub.status.idle": "2022-06-19T17:21:09.978138Z",
     "shell.execute_reply": "2022-06-19T17:21:09.977111Z"
    },
    "papermill": {
     "duration": 12.428031,
     "end_time": "2022-06-19T17:21:09.980174",
     "exception": false,
     "start_time": "2022-06-19T17:20:57.552143",
     "status": "completed"
    },
    "tags": []
   },
   "outputs": [
    {
     "name": "stdout",
     "output_type": "stream",
     "text": [
      "Confusion matrix, without normalization\n",
      "[[750  62   1   1]\n",
      " [ 35 928   7   2]\n",
      " [  4  22 710  43]\n",
      " [ 10  34   6 863]]\n"
     ]
    },
    {
     "data": {
      "image/png": "[encoded data removed]",
      "text/plain": [
       "<Figure size 432x288 with 2 Axes>"
      ]
     },
     "metadata": {
      "needs_background": "light"
     },
     "output_type": "display_data"
    }
   ],
   "source": [
    "predictions = m3.predict(x=test_augmented_batches_vgg, steps=len(test_augmented_batches_vgg), verbose=0)\n",
    "cm = confusion_matrix(y_true=test_augmented_batches_vgg.classes, y_pred=np.argmax(predictions, axis=-1))\n",
    "\n",
    "cm_plot_labels = [\"good\", \"medium\", \"bad\", \"unpaved\"]\n",
    "plot_confusion_matrix(cm=cm, classes=cm_plot_labels, title='Confusion Matrix')"
   ]
  },
  {
   "cell_type": "code",
   "execution_count": 41,
   "id": "d3b78284",
   "metadata": {
    "execution": {
     "iopub.execute_input": "2022-06-19T17:21:12.559674Z",
     "iopub.status.busy": "2022-06-19T17:21:12.559172Z",
     "iopub.status.idle": "2022-06-19T17:21:15.514198Z",
     "shell.execute_reply": "2022-06-19T17:21:15.513258Z"
    },
    "papermill": {
     "duration": 4.25817,
     "end_time": "2022-06-19T17:21:15.516570",
     "exception": false,
     "start_time": "2022-06-19T17:21:11.258400",
     "status": "completed"
    },
    "tags": []
   },
   "outputs": [
    {
     "name": "stdout",
     "output_type": "stream",
     "text": [
      "70/70 [==============================] - 3s 40ms/step\n",
      "              precision    recall  f1-score   support\n",
      "\n",
      "           0       0.87      0.82      0.84       814\n",
      "           1       0.80      0.88      0.84       972\n",
      "           2       0.74      0.49      0.59       115\n",
      "           3       0.98      0.95      0.97       309\n",
      "\n",
      "    accuracy                           0.85      2210\n",
      "   macro avg       0.85      0.79      0.81      2210\n",
      "weighted avg       0.85      0.85      0.85      2210\n",
      "\n"
     ]
    }
   ],
   "source": [
    "y_pred = custom1.predict(test_batches, batch_size=64, verbose=1)\n",
    "y_pred_bool = np.argmax(y_pred, axis=1)\n",
    "\n",
    "print(classification_report(test_batches.classes, y_pred_bool))"
   ]
  },
  {
   "cell_type": "code",
   "execution_count": 42,
   "id": "4e675e25",
   "metadata": {
    "execution": {
     "iopub.execute_input": "2022-06-19T17:21:18.046721Z",
     "iopub.status.busy": "2022-06-19T17:21:18.046347Z",
     "iopub.status.idle": "2022-06-19T17:21:21.931909Z",
     "shell.execute_reply": "2022-06-19T17:21:21.930999Z"
    },
    "papermill": {
     "duration": 5.180337,
     "end_time": "2022-06-19T17:21:21.933676",
     "exception": false,
     "start_time": "2022-06-19T17:21:16.753339",
     "status": "completed"
    },
    "tags": []
   },
   "outputs": [
    {
     "name": "stdout",
     "output_type": "stream",
     "text": [
      "109/109 [==============================] - 4s 35ms/step\n",
      "              precision    recall  f1-score   support\n",
      "\n",
      "           0       0.66      0.83      0.74       814\n",
      "           1       0.73      0.72      0.73       972\n",
      "           2       0.92      0.89      0.90       779\n",
      "           3       0.94      0.77      0.84       913\n",
      "\n",
      "    accuracy                           0.80      3478\n",
      "   macro avg       0.81      0.80      0.80      3478\n",
      "weighted avg       0.81      0.80      0.80      3478\n",
      "\n"
     ]
    }
   ],
   "source": [
    "y_pred = custom2.predict(test_augmented_batches, batch_size=64, verbose=1)\n",
    "y_pred_bool = np.argmax(y_pred, axis=1)\n",
    "\n",
    "print(classification_report(test_augmented_batches.classes, y_pred_bool))"
   ]
  },
  {
   "cell_type": "code",
   "execution_count": 43,
   "id": "dc6f8ef1",
   "metadata": {
    "execution": {
     "iopub.execute_input": "2022-06-19T17:21:24.769867Z",
     "iopub.status.busy": "2022-06-19T17:21:24.769437Z",
     "iopub.status.idle": "2022-06-19T17:21:30.074958Z",
     "shell.execute_reply": "2022-06-19T17:21:30.073257Z"
    },
    "papermill": {
     "duration": 6.84722,
     "end_time": "2022-06-19T17:21:30.077270",
     "exception": false,
     "start_time": "2022-06-19T17:21:23.230050",
     "status": "completed"
    },
    "tags": []
   },
   "outputs": [
    {
     "name": "stdout",
     "output_type": "stream",
     "text": [
      "109/109 [==============================] - 5s 48ms/step\n",
      "              precision    recall  f1-score   support\n",
      "\n",
      "           0       0.97      0.94      0.95       814\n",
      "           1       0.94      0.96      0.95       972\n",
      "           2       0.97      0.98      0.97       779\n",
      "           3       0.99      0.99      0.99       913\n",
      "\n",
      "    accuracy                           0.97      3478\n",
      "   macro avg       0.97      0.97      0.97      3478\n",
      "weighted avg       0.97      0.97      0.97      3478\n",
      "\n"
     ]
    }
   ],
   "source": [
    "y_pred = custom3.predict(test_augmented_batches_vgg, batch_size=64, verbose=1)\n",
    "y_pred_bool = np.argmax(y_pred, axis=1)\n",
    "\n",
    "print(classification_report(test_augmented_batches_vgg.classes, y_pred_bool))"
   ]
  },
  {
   "cell_type": "code",
   "execution_count": 44,
   "id": "6cc790c4",
   "metadata": {
    "execution": {
     "iopub.execute_input": "2022-06-19T17:21:32.948599Z",
     "iopub.status.busy": "2022-06-19T17:21:32.948160Z",
     "iopub.status.idle": "2022-06-19T17:21:38.144977Z",
     "shell.execute_reply": "2022-06-19T17:21:38.144196Z"
    },
    "papermill": {
     "duration": 6.485938,
     "end_time": "2022-06-19T17:21:38.146855",
     "exception": false,
     "start_time": "2022-06-19T17:21:31.660917",
     "status": "completed"
    },
    "tags": []
   },
   "outputs": [
    {
     "name": "stdout",
     "output_type": "stream",
     "text": [
      "70/70 [==============================] - 3s 42ms/step\n",
      "              precision    recall  f1-score   support\n",
      "\n",
      "           0       0.98      0.98      0.98       814\n",
      "           1       0.97      0.98      0.98       972\n",
      "           2       0.97      0.88      0.92       115\n",
      "           3       1.00      0.99      1.00       309\n",
      "\n",
      "    accuracy                           0.98      2210\n",
      "   macro avg       0.98      0.96      0.97      2210\n",
      "weighted avg       0.98      0.98      0.98      2210\n",
      "\n"
     ]
    }
   ],
   "source": [
    "y_pred = v1.predict(test_batches, batch_size=64, verbose=1)\n",
    "y_pred_bool = np.argmax(y_pred, axis=1)\n",
    "\n",
    "print(classification_report(test_batches.classes, y_pred_bool))"
   ]
  },
  {
   "cell_type": "code",
   "execution_count": 45,
   "id": "b5b6c531",
   "metadata": {
    "execution": {
     "iopub.execute_input": "2022-06-19T17:21:40.738202Z",
     "iopub.status.busy": "2022-06-19T17:21:40.737748Z",
     "iopub.status.idle": "2022-06-19T17:21:44.780750Z",
     "shell.execute_reply": "2022-06-19T17:21:44.779350Z"
    },
    "papermill": {
     "duration": 5.339361,
     "end_time": "2022-06-19T17:21:44.782471",
     "exception": false,
     "start_time": "2022-06-19T17:21:39.443110",
     "status": "completed"
    },
    "tags": []
   },
   "outputs": [
    {
     "name": "stdout",
     "output_type": "stream",
     "text": [
      "109/109 [==============================] - 4s 36ms/step\n",
      "              precision    recall  f1-score   support\n",
      "\n",
      "           0       0.98      0.99      0.98       814\n",
      "           1       0.98      0.97      0.97       972\n",
      "           2       0.98      0.98      0.98       779\n",
      "           3       0.99      0.99      0.99       913\n",
      "\n",
      "    accuracy                           0.98      3478\n",
      "   macro avg       0.98      0.98      0.98      3478\n",
      "weighted avg       0.98      0.98      0.98      3478\n",
      "\n"
     ]
    }
   ],
   "source": [
    "y_pred = v2.predict(test_augmented_batches, batch_size=64, verbose=1)\n",
    "y_pred_bool = np.argmax(y_pred, axis=1)\n",
    "\n",
    "print(classification_report(test_augmented_batches.classes, y_pred_bool))"
   ]
  },
  {
   "cell_type": "code",
   "execution_count": 46,
   "id": "8b795b11",
   "metadata": {
    "execution": {
     "iopub.execute_input": "2022-06-19T17:21:47.568437Z",
     "iopub.status.busy": "2022-06-19T17:21:47.567986Z",
     "iopub.status.idle": "2022-06-19T17:21:52.538106Z",
     "shell.execute_reply": "2022-06-19T17:21:52.537282Z"
    },
    "papermill": {
     "duration": 6.209287,
     "end_time": "2022-06-19T17:21:52.540679",
     "exception": false,
     "start_time": "2022-06-19T17:21:46.331392",
     "status": "completed"
    },
    "tags": []
   },
   "outputs": [
    {
     "name": "stdout",
     "output_type": "stream",
     "text": [
      "109/109 [==============================] - 5s 44ms/step\n",
      "              precision    recall  f1-score   support\n",
      "\n",
      "           0       0.99      0.96      0.98       814\n",
      "           1       0.94      0.97      0.96       972\n",
      "           2       0.98      0.96      0.97       779\n",
      "           3       0.99      1.00      1.00       913\n",
      "\n",
      "    accuracy                           0.97      3478\n",
      "   macro avg       0.98      0.97      0.97      3478\n",
      "weighted avg       0.98      0.97      0.97      3478\n",
      "\n"
     ]
    }
   ],
   "source": [
    "y_pred = v3.predict(test_augmented_batches_vgg, batch_size=64, verbose=1)\n",
    "y_pred_bool = np.argmax(y_pred, axis=1)\n",
    "\n",
    "print(classification_report(test_augmented_batches_vgg.classes, y_pred_bool))"
   ]
  },
  {
   "cell_type": "code",
   "execution_count": 47,
   "id": "e00a0415",
   "metadata": {
    "execution": {
     "iopub.execute_input": "2022-06-19T17:21:55.224642Z",
     "iopub.status.busy": "2022-06-19T17:21:55.224194Z",
     "iopub.status.idle": "2022-06-19T17:21:58.382551Z",
     "shell.execute_reply": "2022-06-19T17:21:58.381227Z"
    },
    "papermill": {
     "duration": 4.505341,
     "end_time": "2022-06-19T17:21:58.384316",
     "exception": false,
     "start_time": "2022-06-19T17:21:53.878975",
     "status": "completed"
    },
    "tags": []
   },
   "outputs": [
    {
     "name": "stdout",
     "output_type": "stream",
     "text": [
      "70/70 [==============================] - 3s 43ms/step\n",
      "              precision    recall  f1-score   support\n",
      "\n",
      "           0       0.89      0.89      0.89       814\n",
      "           1       0.90      0.89      0.89       972\n",
      "           2       0.93      0.88      0.90       115\n",
      "           3       0.92      0.99      0.95       309\n",
      "\n",
      "    accuracy                           0.90      2210\n",
      "   macro avg       0.91      0.91      0.91      2210\n",
      "weighted avg       0.90      0.90      0.90      2210\n",
      "\n"
     ]
    }
   ],
   "source": [
    "y_pred = m1.predict(test_batches, batch_size=64, verbose=1)\n",
    "y_pred_bool = np.argmax(y_pred, axis=1)\n",
    "\n",
    "print(classification_report(test_batches.classes, y_pred_bool))"
   ]
  },
  {
   "cell_type": "code",
   "execution_count": 48,
   "id": "82d3566c",
   "metadata": {
    "execution": {
     "iopub.execute_input": "2022-06-19T17:22:01.052673Z",
     "iopub.status.busy": "2022-06-19T17:22:01.052201Z",
     "iopub.status.idle": "2022-06-19T17:22:06.009867Z",
     "shell.execute_reply": "2022-06-19T17:22:06.008471Z"
    },
    "papermill": {
     "duration": 6.291985,
     "end_time": "2022-06-19T17:22:06.011931",
     "exception": false,
     "start_time": "2022-06-19T17:21:59.719946",
     "status": "completed"
    },
    "tags": []
   },
   "outputs": [
    {
     "name": "stdout",
     "output_type": "stream",
     "text": [
      "109/109 [==============================] - 5s 44ms/step\n",
      "              precision    recall  f1-score   support\n",
      "\n",
      "           0       0.86      0.92      0.89       814\n",
      "           1       0.89      0.87      0.88       972\n",
      "           2       0.98      0.92      0.95       779\n",
      "           3       0.95      0.98      0.97       913\n",
      "\n",
      "    accuracy                           0.92      3478\n",
      "   macro avg       0.92      0.92      0.92      3478\n",
      "weighted avg       0.92      0.92      0.92      3478\n",
      "\n"
     ]
    }
   ],
   "source": [
    "y_pred = m2.predict(test_augmented_batches, batch_size=64, verbose=1)\n",
    "y_pred_bool = np.argmax(y_pred, axis=1)\n",
    "\n",
    "print(classification_report(test_augmented_batches.classes, y_pred_bool))"
   ]
  },
  {
   "cell_type": "code",
   "execution_count": 49,
   "id": "a2dd3155",
   "metadata": {
    "execution": {
     "iopub.execute_input": "2022-06-19T17:22:08.811778Z",
     "iopub.status.busy": "2022-06-19T17:22:08.811429Z",
     "iopub.status.idle": "2022-06-19T17:22:19.137243Z",
     "shell.execute_reply": "2022-06-19T17:22:19.135974Z"
    },
    "papermill": {
     "duration": 11.810791,
     "end_time": "2022-06-19T17:22:19.139892",
     "exception": false,
     "start_time": "2022-06-19T17:22:07.329101",
     "status": "completed"
    },
    "tags": []
   },
   "outputs": [
    {
     "name": "stdout",
     "output_type": "stream",
     "text": [
      "109/109 [==============================] - 5s 49ms/step\n",
      "              precision    recall  f1-score   support\n",
      "\n",
      "           0       0.94      0.92      0.93       814\n",
      "           1       0.89      0.95      0.92       972\n",
      "           2       0.98      0.91      0.94       779\n",
      "           3       0.95      0.95      0.95       913\n",
      "\n",
      "    accuracy                           0.93      3478\n",
      "   macro avg       0.94      0.93      0.94      3478\n",
      "weighted avg       0.94      0.93      0.93      3478\n",
      "\n"
     ]
    }
   ],
   "source": [
    "y_pred = m3.predict(test_augmented_batches_vgg, batch_size=64, verbose=1)\n",
    "y_pred_bool = np.argmax(y_pred, axis=1)\n",
    "\n",
    "print(classification_report(test_augmented_batches_vgg.classes, y_pred_bool))"
   ]
  },
  {
   "cell_type": "code",
   "execution_count": 50,
   "id": "e373d938",
   "metadata": {
    "execution": {
     "iopub.execute_input": "2022-06-19T17:22:21.778600Z",
     "iopub.status.busy": "2022-06-19T17:22:21.778116Z",
     "iopub.status.idle": "2022-06-19T17:22:23.671902Z",
     "shell.execute_reply": "2022-06-19T17:22:23.671083Z"
    },
    "papermill": {
     "duration": 3.205074,
     "end_time": "2022-06-19T17:22:23.673872",
     "exception": false,
     "start_time": "2022-06-19T17:22:20.468798",
     "status": "completed"
    },
    "tags": []
   },
   "outputs": [
    {
     "name": "stderr",
     "output_type": "stream",
     "text": [
      "/opt/conda/lib/python3.7/site-packages/keras/utils/generic_utils.py:497: CustomMaskWarning: Custom mask layers require a config and must override get_config. When loading, the custom mask layer must be passed to the custom_objects argument.\n",
      "  category=CustomMaskWarning)\n"
     ]
    }
   ],
   "source": [
    "custom1.save('./custom1.h5')\n",
    "custom2.save('./custom2.h5')\n",
    "custom3.save('./custom3.h5')\n",
    "\n",
    "v1.save('./vggbase1.h5')\n",
    "v2.save('./vggbase2.h5')\n",
    "v3.save('./vggbase3.h5')\n",
    "\n",
    "m1.save('./mnetbase1.h5')\n",
    "m2.save('./mnetbase2.h5')\n",
    "m3.save('./mnetbase3.h5')"
   ]
  },
  {
   "cell_type": "code",
   "execution_count": 51,
   "id": "32d4426f",
   "metadata": {
    "execution": {
     "iopub.execute_input": "2022-06-19T17:22:26.343040Z",
     "iopub.status.busy": "2022-06-19T17:22:26.341981Z",
     "iopub.status.idle": "2022-06-19T17:22:26.347684Z",
     "shell.execute_reply": "2022-06-19T17:22:26.346900Z"
    },
    "papermill": {
     "duration": 1.343088,
     "end_time": "2022-06-19T17:22:26.350494",
     "exception": false,
     "start_time": "2022-06-19T17:22:25.007406",
     "status": "completed"
    },
    "tags": []
   },
   "outputs": [
    {
     "name": "stdout",
     "output_type": "stream",
     "text": [
      "['custom2.h5', 'mnetbase2.h5', 'vggbase3.h5', '__notebook__.ipynb', 'vggbase2.h5', 'mnetbase3.h5', 'vggbase1.h5', 'augmented', 'original', 'custom3.h5', 'mnetbase1.h5', 'custom1.h5']\n"
     ]
    }
   ],
   "source": [
    "print(os.listdir('./'))"
   ]
  }
 ],
 "metadata": {
  "kernelspec": {
   "display_name": "Python 3 (ipykernel)",
   "language": "python",
   "name": "python3"
  },
  "language_info": {
   "codemirror_mode": {
    "name": "ipython",
    "version": 3
   },
   "file_extension": ".py",
   "mimetype": "text/x-python",
   "name": "python",
   "nbconvert_exporter": "python",
   "pygments_lexer": "ipython3",
   "version": "3.9.7"
  },
  "papermill": {
   "default_parameters": {},
   "duration": 2134.0952,
   "end_time": "2022-06-19T17:22:30.907297",
   "environment_variables": {},
   "exception": null,
   "input_path": "__notebook__.ipynb",
   "output_path": "__notebook__.ipynb",
   "parameters": {},
   "start_time": "2022-06-19T16:46:56.812097",
   "version": "2.3.4"
  }
 },
 "nbformat": 4,
 "nbformat_minor": 5
}
