{
 "cells": [
  {
   "cell_type": "code",
   "execution_count": 150,
   "metadata": {
    "_cell_guid": "b1076dfc-b9ad-4769-8c92-a6c4dae69d19",
    "_uuid": "8f2839f25d086af736a60e9eeb907d3b93b6e0e5",
    "execution": {
     "iopub.execute_input": "2022-06-15T09:15:55.182090Z",
     "iopub.status.busy": "2022-06-15T09:15:55.181728Z",
     "iopub.status.idle": "2022-06-15T09:15:55.187830Z",
     "shell.execute_reply": "2022-06-15T09:15:55.186989Z",
     "shell.execute_reply.started": "2022-06-15T09:15:55.182059Z"
    }
   },
   "outputs": [],
   "source": [
    "import tensorflow as tf\n",
    "import matplotlib.pyplot as plt\n",
    "from sklearn.metrics import confusion_matrix\n",
    "from tensorflow.keras.preprocessing.image import ImageDataGenerator\n",
    "from tensorflow.keras.applications import VGG16\n",
    "from sklearn.metrics import classification_report\n",
    "\n",
    "# import cv2\n",
    "import numpy as np\n",
    "\n",
    "from PIL import Image\n",
    "import itertools\n",
    "import os\n",
    "import shutil\n",
    "import random\n",
    "import glob"
   ]
  },
  {
   "cell_type": "code",
   "execution_count": 2,
   "metadata": {
    "execution": {
     "iopub.execute_input": "2022-06-15T07:36:42.565119Z",
     "iopub.status.busy": "2022-06-15T07:36:42.564716Z",
     "iopub.status.idle": "2022-06-15T07:36:42.570542Z",
     "shell.execute_reply": "2022-06-15T07:36:42.569499Z",
     "shell.execute_reply.started": "2022-06-15T07:36:42.565085Z"
    }
   },
   "outputs": [],
   "source": [
    "DATA_DIR = '/media/gufran/GsHDD/Work/Projects/RoadCapture/Dataset/workenv'\n",
    "# TRAIN_DIR = DATA_DIR + '/original/train'\n",
    "# TEST_DIR = DATA_DIR + '/original/test'\n",
    "# VALID_DIR = DATA_DIR + '/original/valid'\n",
    "# BASE_DATA_DIR = DATA_DIR + '/original/tr'\n",
    "\n",
    "TRAIN_AUGMENTED_DIR = DATA_DIR + '/augmented/train'\n",
    "TEST_AUGMENTED_DIR = DATA_DIR + '/augmented/test'\n",
    "VALID_AUGMENTED_DIR = DATA_DIR + '/augmented/valid'\n",
    "BASE_AUGMENTED_DATA_DIR = DATA_DIR + '/augmented/tr'"
   ]
  },
  {
   "cell_type": "code",
   "execution_count": 105,
   "metadata": {
    "execution": {
     "iopub.execute_input": "2022-06-15T07:36:43.493167Z",
     "iopub.status.busy": "2022-06-15T07:36:43.492450Z",
     "iopub.status.idle": "2022-06-15T07:36:44.016845Z",
     "shell.execute_reply": "2022-06-15T07:36:44.015975Z",
     "shell.execute_reply.started": "2022-06-15T07:36:43.493125Z"
    }
   },
   "outputs": [],
   "source": [
    "# shutil.rmtree(DATA_DIR+'/original')\n",
    "# shutil.rmtree(DATA_DIR+'/augmented')"
   ]
  },
  {
   "cell_type": "code",
   "execution_count": 4,
   "metadata": {
    "execution": {
     "iopub.execute_input": "2022-06-15T07:36:44.269697Z",
     "iopub.status.busy": "2022-06-15T07:36:44.269066Z",
     "iopub.status.idle": "2022-06-15T07:36:44.274601Z",
     "shell.execute_reply": "2022-06-15T07:36:44.273796Z",
     "shell.execute_reply.started": "2022-06-15T07:36:44.269660Z"
    }
   },
   "outputs": [],
   "source": [
    "# os.mkdir(DATA_DIR+'/original')\n",
    "os.mkdir(DATA_DIR+'/augmented')\n",
    "\n",
    "# os.mkdir(TRAIN_DIR)\n",
    "# os.mkdir(TEST_DIR)\n",
    "# os.mkdir(VALID_DIR)\n",
    "# os.mkdir(BASE_DATA_DIR)\n",
    "\n",
    "# os.mkdir(TRAIN_AUGMENTED_DIR)\n",
    "# os.mkdir(TEST_AUGMENTED_DIR)\n",
    "# os.mkdir(VALID_AUGMENTED_DIR)\n",
    "os.mkdir(BASE_AUGMENTED_DATA_DIR)"
   ]
  },
  {
   "cell_type": "code",
   "execution_count": 112,
   "metadata": {
    "execution": {
     "iopub.execute_input": "2022-06-15T07:37:34.092165Z",
     "iopub.status.busy": "2022-06-15T07:37:34.091513Z",
     "iopub.status.idle": "2022-06-15T07:37:34.097248Z",
     "shell.execute_reply": "2022-06-15T07:37:34.096478Z",
     "shell.execute_reply.started": "2022-06-15T07:37:34.092127Z"
    }
   },
   "outputs": [],
   "source": [
    "# print(len(os.listdir('./original/test/good')))"
   ]
  },
  {
   "cell_type": "code",
   "execution_count": 108,
   "metadata": {
    "execution": {
     "iopub.execute_input": "2022-06-15T07:36:46.727198Z",
     "iopub.status.busy": "2022-06-15T07:36:46.726459Z",
     "iopub.status.idle": "2022-06-15T07:37:10.260931Z",
     "shell.execute_reply": "2022-06-15T07:37:10.260088Z",
     "shell.execute_reply.started": "2022-06-15T07:36:46.727160Z"
    }
   },
   "outputs": [],
   "source": [
    "# images = os.listdir('../input/road-dataset/original/original/good')\n",
    "# for i in images:\n",
    "#     shutil.copy2('../input/road-dataset/original/original/good/'+i, BASE_DATA_DIR)\n",
    "    \n",
    "# images = os.listdir('../input/road-dataset/original/original/medium')\n",
    "# for i in images:\n",
    "#     shutil.copy2('../input/road-dataset/original/original/medium/'+i, BASE_DATA_DIR)\n",
    "    \n",
    "# images = os.listdir('../input/road-dataset/original/original/bad')\n",
    "# for i in images:\n",
    "#     shutil.copy2('../input/road-dataset/original/original/bad/'+i, BASE_DATA_DIR)\n",
    "    \n",
    "# images = os.listdir('../input/road-dataset/original/original/unpaved')\n",
    "# for i in images:\n",
    "#     shutil.copy2('../input/road-dataset/original/original/unpaved/'+i, BASE_DATA_DIR)\n",
    "    \n",
    "    \n",
    "\n",
    "images = os.listdir('../input/road-dataset/augmented/augmented/good')\n",
    "for i in images:\n",
    "    shutil.copy2('../input/road-dataset/augmented/augmented/good/'+i, BASE_AUGMENTED_DATA_DIR)\n",
    "    \n",
    "images = os.listdir('../input/road-dataset/augmented/augmented/medium')\n",
    "for i in images:\n",
    "    shutil.copy2('../input/road-dataset/augmented/augmented/medium/'+i, BASE_AUGMENTED_DATA_DIR)\n",
    "    \n",
    "images = os.listdir('../input/road-dataset/augmented/augmented/bad')\n",
    "for i in images:\n",
    "    shutil.copy2('../input/road-dataset/augmented/augmented/bad/'+i, BASE_AUGMENTED_DATA_DIR)\n",
    "    \n",
    "images = os.listdir('../input/road-dataset/augmented/augmented/unpaved')\n",
    "for i in images:\n",
    "    shutil.copy2('../input/road-dataset/augmented/augmented/unpaved/'+i, BASE_AUGMENTED_DATA_DIR)"
   ]
  },
  {
   "cell_type": "code",
   "execution_count": 7,
   "metadata": {
    "execution": {
     "iopub.execute_input": "2022-06-15T07:37:24.042805Z",
     "iopub.status.busy": "2022-06-15T07:37:24.042256Z",
     "iopub.status.idle": "2022-06-15T07:37:24.067933Z",
     "shell.execute_reply": "2022-06-15T07:37:24.067017Z",
     "shell.execute_reply.started": "2022-06-15T07:37:24.042763Z"
    }
   },
   "outputs": [],
   "source": [
    "good_count = 4000\n",
    "medium_count = 4500\n",
    "bad_count = 570\n",
    "unpaved_count = 1500\n",
    "\n",
    "good_augmented_count = 4000\n",
    "medium_augmented_count = 4500\n",
    "bad_augmented_count = 3890\n",
    "unpaved_augmented_count = 4500\n",
    "\n",
    "train_ratio = 0.7\n",
    "test_ratio = 0.2\n",
    "valid_ratio = 0.1\n",
    "\n",
    "if os.path.isdir(TRAIN_AUGMENTED_DIR) is False:\n",
    "#     os.makedirs(TRAIN_DIR+ '/good');os.makedirs(TRAIN_DIR+ '/medium');os.makedirs(TRAIN_DIR+ '/bad');os.makedirs(TRAIN_DIR+ '/unpaved')\n",
    "#     os.makedirs(TEST_DIR+ '/good');os.makedirs(TEST_DIR+ '/medium');os.makedirs(TEST_DIR+ '/bad');os.makedirs(TEST_DIR+ '/unpaved')\n",
    "#     os.makedirs(VALID_DIR+ '/good');os.makedirs(VALID_DIR+ '/medium');os.makedirs(VALID_DIR+ '/bad');os.makedirs(VALID_DIR+ '/unpaved')\n",
    "\n",
    "    os.makedirs(TRAIN_AUGMENTED_DIR+ '/good');os.makedirs(TRAIN_AUGMENTED_DIR+ '/medium');os.makedirs(TRAIN_AUGMENTED_DIR+ '/bad');os.makedirs(TRAIN_AUGMENTED_DIR+ '/unpaved')\n",
    "    os.makedirs(TEST_AUGMENTED_DIR+ '/good');os.makedirs(TEST_AUGMENTED_DIR+ '/medium');os.makedirs(TEST_AUGMENTED_DIR+ '/bad');os.makedirs(TEST_AUGMENTED_DIR+ '/unpaved')\n",
    "    os.makedirs(VALID_AUGMENTED_DIR+ '/good');os.makedirs(VALID_AUGMENTED_DIR+ '/medium');os.makedirs(VALID_AUGMENTED_DIR+ '/bad');os.makedirs(VALID_AUGMENTED_DIR+ '/unpaved')\n",
    "\n",
    "#     for c in random.sample(glob.glob(BASE_DATA_DIR+ '/good*'),int(train_ratio*good_count)):shutil.move(c, TRAIN_DIR+ '/good')\n",
    "#     for c in random.sample(glob.glob(BASE_DATA_DIR+ '/medium*'),int(train_ratio*medium_count)): shutil.move(c, TRAIN_DIR+ '/medium')\n",
    "#     for c in random.sample(glob.glob(BASE_DATA_DIR+ '/bad*'),int(train_ratio*bad_count)):shutil.move(c, TRAIN_DIR+ '/bad')\n",
    "#     for c in random.sample(glob.glob(BASE_DATA_DIR+ '/unpaved*'),int(train_ratio*unpaved_count)):shutil.move(c, TRAIN_DIR+ '/unpaved')\n",
    "\n",
    "    for c in random.sample(glob.glob(BASE_AUGMENTED_DATA_DIR+ '/good*'),int(train_ratio*good_augmented_count)):shutil.move(c, TRAIN_AUGMENTED_DIR+ '/good')\n",
    "    for c in random.sample(glob.glob(BASE_AUGMENTED_DATA_DIR+ '/medium*'),int(train_ratio*medium_augmented_count)): shutil.move(c, TRAIN_AUGMENTED_DIR+ '/medium')\n",
    "    for c in random.sample(glob.glob(BASE_AUGMENTED_DATA_DIR+ '/bad*'),int(train_ratio*bad_augmented_count)):shutil.move(c, TRAIN_AUGMENTED_DIR+ '/bad')\n",
    "    for c in random.sample(glob.glob(BASE_AUGMENTED_DATA_DIR+ '/unpaved*'),int(train_ratio*unpaved_augmented_count)):shutil.move(c, TRAIN_AUGMENTED_DIR+ '/unpaved')\n",
    "\n",
    "\n",
    "#     for c in random.sample(glob.glob(BASE_DATA_DIR+ '/good*'),int(test_ratio*good_count)):  shutil.move(c, TEST_DIR+ '/good')\n",
    "#     for c in random.sample(glob.glob(BASE_DATA_DIR+ '/medium*'),int(test_ratio*medium_count)): shutil.move(c, TEST_DIR+ '/medium')\n",
    "#     for c in random.sample(glob.glob(BASE_DATA_DIR+ '/bad*'),int(test_ratio*bad_count)):shutil.move(c, TEST_DIR+ '/bad')\n",
    "#     for c in random.sample(glob.glob(BASE_DATA_DIR+ '/unpaved*'),int(test_ratio*unpaved_count)):shutil.move(c, TEST_DIR+ '/unpaved')\n",
    "\n",
    "    for c in random.sample(glob.glob(BASE_AUGMENTED_DATA_DIR+ '/good*'),int(test_ratio*good_augmented_count)):  shutil.move(c, TEST_AUGMENTED_DIR+ '/good')\n",
    "    for c in random.sample(glob.glob(BASE_AUGMENTED_DATA_DIR+ '/medium*'),int(test_ratio*medium_augmented_count)): shutil.move(c, TEST_AUGMENTED_DIR+ '/medium')\n",
    "    for c in random.sample(glob.glob(BASE_AUGMENTED_DATA_DIR+ '/bad*'),int(test_ratio*bad_augmented_count)):shutil.move(c, TEST_AUGMENTED_DIR+ '/bad')\n",
    "    for c in random.sample(glob.glob(BASE_AUGMENTED_DATA_DIR+ '/unpaved*'),int(test_ratio*unpaved_augmented_count)):shutil.move(c, TEST_AUGMENTED_DIR+ '/unpaved')\n",
    "\n",
    "\n",
    "#     for c in random.sample(glob.glob(BASE_DATA_DIR+ '/good*'),int(valid_ratio*good_count)):  shutil.move(c, VALID_DIR+ '/good')\n",
    "#     for c in random.sample(glob.glob(BASE_DATA_DIR+ '/medium*'),int(valid_ratio*medium_count)):shutil.move(c, VALID_DIR+ '/medium')\n",
    "#     for c in random.sample(glob.glob(BASE_DATA_DIR+ '/bad*'),int(valid_ratio*bad_count)):shutil.move(c, VALID_DIR+ '/bad')\n",
    "#     for c in random.sample(glob.glob(BASE_DATA_DIR+ '/unpaved*'),int(valid_ratio*unpaved_count)):shutil.move(c, VALID_DIR+ '/unpaved')\n",
    "\n",
    "    for c in random.sample(glob.glob(BASE_AUGMENTED_DATA_DIR+ '/good*'),int(valid_ratio*good_augmented_count)):  shutil.move(c, VALID_AUGMENTED_DIR+ '/good')\n",
    "    for c in random.sample(glob.glob(BASE_AUGMENTED_DATA_DIR+ '/medium*'),int(valid_ratio*medium_augmented_count)):shutil.move(c, VALID_AUGMENTED_DIR+ '/medium')\n",
    "    for c in random.sample(glob.glob(BASE_AUGMENTED_DATA_DIR+ '/bad*'),int(valid_ratio*bad_augmented_count)):shutil.move(c, VALID_AUGMENTED_DIR+ '/bad')\n",
    "    for c in random.sample(glob.glob(BASE_AUGMENTED_DATA_DIR+ '/unpaved*'),int(valid_ratio*unpaved_augmented_count)):shutil.move(c, VALID_AUGMENTED_DIR+ '/unpaved')"
   ]
  },
  {
   "cell_type": "code",
   "execution_count": 16,
   "metadata": {
    "execution": {
     "iopub.execute_input": "2022-06-15T08:32:37.920343Z",
     "iopub.status.busy": "2022-06-15T08:32:37.919953Z",
     "iopub.status.idle": "2022-06-15T08:32:38.803989Z",
     "shell.execute_reply": "2022-06-15T08:32:38.803181Z",
     "shell.execute_reply.started": "2022-06-15T08:32:37.920289Z"
    }
   },
   "outputs": [
    {
     "name": "stdout",
     "output_type": "stream",
     "text": [
      "Found 11823 images belonging to 4 classes.\n",
      "Found 3378 images belonging to 4 classes.\n",
      "Found 1689 images belonging to 4 classes.\n"
     ]
    }
   ],
   "source": [
    "labels = [\"good\", \"medium\", \"bad\", \"unpaved\"]\n",
    "\n",
    "# train_batches = ImageDataGenerator().flow_from_directory(directory=TRAIN_DIR, target_size=(124,224), classes=labels, batch_size=5)\n",
    "# test_batches = ImageDataGenerator().flow_from_directory(directory=TEST_DIR, target_size=(124,224), classes=labels, batch_size=5, shuffle=False)\n",
    "# valid_batches = ImageDataGenerator().flow_from_directory(directory=VALID_DIR, target_size=(124,224), classes=labels, batch_size=5)\n",
    "\n",
    "# train_augmented_batches = ImageDataGenerator().flow_from_directory(directory=TRAIN_AUGMENTED_DIR, target_size=(124,224), classes=labels, batch_size=5)\n",
    "# test_augmented_batches = ImageDataGenerator().flow_from_directory(directory=TEST_AUGMENTED_DIR, target_size=(124,224), classes=labels, batch_size=5, shuffle=False)\n",
    "# valid_augmented_batches = ImageDataGenerator().flow_from_directory(directory=VALID_AUGMENTED_DIR, target_size=(124,224), classes=labels, batch_size=5)\n",
    "\n",
    "# train_batches_vgg = ImageDataGenerator(preprocessing_function=tf.keras.applications.vgg16.preprocess_input) \\\n",
    "#     .flow_from_directory(directory=TRAIN_DIR, target_size=(124,224), classes=labels, batch_size=5)\n",
    "# test_batches_vgg = ImageDataGenerator(preprocessing_function=tf.keras.applications.vgg16.preprocess_input) \\\n",
    "#     .flow_from_directory(directory=TEST_DIR, target_size=(124,224), classes=labels, batch_size=5, shuffle=False)\n",
    "# valid_batches_vgg = ImageDataGenerator(preprocessing_function=tf.keras.applications.vgg16.preprocess_input) \\\n",
    "#     .flow_from_directory(directory=VALID_DIR, target_size=(124,224), classes=labels, batch_size=5)\n",
    "\n",
    "train_augmented_batches_vgg = ImageDataGenerator(preprocessing_function=tf.keras.applications.vgg16.preprocess_input) \\\n",
    "    .flow_from_directory(directory=TRAIN_AUGMENTED_DIR, target_size=(124,224), classes=labels, batch_size=5)\n",
    "test_augmented_batches_vgg = ImageDataGenerator(preprocessing_function=tf.keras.applications.vgg16.preprocess_input) \\\n",
    "    .flow_from_directory(directory=TEST_AUGMENTED_DIR, target_size=(124,224), classes=labels, batch_size=5, shuffle=False)\n",
    "valid_augmented_batches_vgg = ImageDataGenerator(preprocessing_function=tf.keras.applications.vgg16.preprocess_input) \\\n",
    "    .flow_from_directory(directory=VALID_AUGMENTED_DIR, target_size=(124,224), classes=labels, batch_size=5)\n"
   ]
  },
  {
   "cell_type": "code",
   "execution_count": 162,
   "metadata": {
    "execution": {
     "iopub.execute_input": "2022-06-15T08:42:05.542974Z",
     "iopub.status.busy": "2022-06-15T08:42:05.542609Z",
     "iopub.status.idle": "2022-06-15T08:42:05.625866Z",
     "shell.execute_reply": "2022-06-15T08:42:05.625025Z",
     "shell.execute_reply.started": "2022-06-15T08:42:05.542943Z"
    }
   },
   "outputs": [],
   "source": [
    "model_custom = tf.keras.Sequential([\n",
    "    tf.keras.layers.Conv2D(32,(5,5),padding ='same',strides=(2,2),activation='relu',input_shape=(124,224,3)),\n",
    "    tf.keras.layers.MaxPooling2D((2,2)),\n",
    "    tf.keras.layers.Conv2D(64,(5,5),padding ='same',strides=(2,2),activation='relu'),\n",
    "    tf.keras.layers.MaxPooling2D((2,2)),\n",
    "    tf.keras.layers.Conv2D(128,(5,5),padding ='same',strides=(2,2),activation='relu'),\n",
    "    tf.keras.layers.MaxPooling2D((2,2)),\n",
    "    tf.keras.layers.Conv2D(128,(5,5),padding ='same',strides=(2,2),activation='relu'),\n",
    "    tf.keras.layers.Flatten(),\n",
    "    tf.keras.layers.Dense(256,activation='relu'),\n",
    "    tf.keras.layers.Dense(64,activation='relu'),\n",
    "    tf.keras.layers.Dense(32,activation='relu'),\n",
    "    tf.keras.layers.Dropout(0.3),\n",
    "    tf.keras.layers.Dense(4, activation='softmax')\n",
    "])\n",
    "model_custom.compile(optimizer='adam',loss='categorical_crossentropy',metrics=['accuracy'])"
   ]
  },
  {
   "cell_type": "code",
   "execution_count": 163,
   "metadata": {
    "execution": {
     "iopub.execute_input": "2022-06-15T08:42:07.129970Z",
     "iopub.status.busy": "2022-06-15T08:42:07.129615Z",
     "iopub.status.idle": "2022-06-15T08:42:08.297349Z",
     "shell.execute_reply": "2022-06-15T08:42:08.296513Z",
     "shell.execute_reply.started": "2022-06-15T08:42:07.129938Z"
    }
   },
   "outputs": [],
   "source": [
    "conv_base = VGG16(weights='imagenet',include_top=False,input_shape=(124, 224, 3))\n",
    "conv_base.trainable = False\n",
    "\n",
    "mnet_model = tf.keras.applications.mobilenet_v2.MobileNetV2(input_shape=(124, 224, 3),include_top=False, weights='imagenet')\n",
    "mnet_model.trainable = False"
   ]
  },
  {
   "cell_type": "code",
   "execution_count": 164,
   "metadata": {
    "execution": {
     "iopub.execute_input": "2022-06-15T08:42:09.984724Z",
     "iopub.status.busy": "2022-06-15T08:42:09.984372Z",
     "iopub.status.idle": "2022-06-15T08:42:10.056191Z",
     "shell.execute_reply": "2022-06-15T08:42:10.055463Z",
     "shell.execute_reply.started": "2022-06-15T08:42:09.984694Z"
    }
   },
   "outputs": [],
   "source": [
    "model_vgg = tf.keras.Sequential()\n",
    "model_vgg.add(conv_base)\n",
    "model_vgg.add(tf.keras.layers.Flatten())\n",
    "model_vgg.add(tf.keras.layers.Dense(256, activation='relu'))\n",
    "model_vgg.add(tf.keras.layers.Dense(4, activation='softmax'))\n",
    "\n",
    "model_vgg.compile(optimizer='adam',loss='categorical_crossentropy',metrics=['accuracy'])"
   ]
  },
  {
   "cell_type": "code",
   "execution_count": 165,
   "metadata": {
    "execution": {
     "iopub.execute_input": "2022-06-15T08:42:11.352838Z",
     "iopub.status.busy": "2022-06-15T08:42:11.352092Z",
     "iopub.status.idle": "2022-06-15T08:43:11.005718Z",
     "shell.execute_reply": "2022-06-15T08:43:11.004887Z",
     "shell.execute_reply.started": "2022-06-15T08:42:11.352796Z"
    }
   },
   "outputs": [],
   "source": [
    "model_mnet = tf.keras.Sequential()\n",
    "model_mnet.add(mnet_model)\n",
    "model_mnet.add(tf.keras.layers.Flatten())\n",
    "model_mnet.add(tf.keras.layers.Dense(256, activation='relu'))\n",
    "model_mnet.add(tf.keras.layers.Dense(4, activation='softmax'))\n",
    "\n",
    "model_mnet.compile(optimizer='adam',loss='categorical_crossentropy',metrics=['accuracy'])"
   ]
  },
  {
   "cell_type": "code",
   "execution_count": 166,
   "metadata": {
    "execution": {
     "iopub.execute_input": "2022-06-15T08:43:11.007676Z",
     "iopub.status.busy": "2022-06-15T08:43:11.007340Z",
     "iopub.status.idle": "2022-06-15T08:47:35.730902Z",
     "shell.execute_reply": "2022-06-15T08:47:35.729920Z",
     "shell.execute_reply.started": "2022-06-15T08:43:11.007642Z"
    }
   },
   "outputs": [],
   "source": [
    "history_custom = model_custom.fit(\n",
    "    x=train_augmented_batches_vgg,\n",
    "    steps_per_epoch=len(train_augmented_batches_vgg),\n",
    "    validation_data=valid_augmented_batches_vgg,\n",
    "    validation_steps=len(valid_augmented_batches_vgg),\n",
    "    epochs=10,\n",
    "    verbose=1    \n",
    ")"
   ]
  },
  {
   "cell_type": "code",
   "execution_count": 167,
   "metadata": {
    "execution": {
     "iopub.execute_input": "2022-06-15T08:47:35.732683Z",
     "iopub.status.busy": "2022-06-15T08:47:35.732303Z",
     "iopub.status.idle": "2022-06-15T08:53:10.332564Z",
     "shell.execute_reply": "2022-06-15T08:53:10.331748Z",
     "shell.execute_reply.started": "2022-06-15T08:47:35.732646Z"
    }
   },
   "outputs": [],
   "source": [
    "history_vggbase = model_vgg.fit(\n",
    "    x=train_augmented_batches_vgg,\n",
    "    steps_per_epoch=len(train_augmented_batches_vgg),\n",
    "    validation_data=valid_augmented_batches_vgg,\n",
    "    validation_steps=len(valid_augmented_batches_vgg),\n",
    "    epochs=10,\n",
    "    verbose=1    \n",
    ")"
   ]
  },
  {
   "cell_type": "code",
   "execution_count": 168,
   "metadata": {
    "execution": {
     "iopub.execute_input": "2022-06-15T08:53:10.335240Z",
     "iopub.status.busy": "2022-06-15T08:53:10.334885Z",
     "iopub.status.idle": "2022-06-15T08:59:00.102027Z",
     "shell.execute_reply": "2022-06-15T08:59:00.101107Z",
     "shell.execute_reply.started": "2022-06-15T08:53:10.335204Z"
    }
   },
   "outputs": [],
   "source": [
    "history_mnetbase = model_mnet.fit(\n",
    "    x=train_augmented_batches_vgg,\n",
    "    steps_per_epoch=len(train_augmented_batches_vgg),\n",
    "    validation_data=valid_augmented_batches_vgg,\n",
    "    validation_steps=len(valid_augmented_batches_vgg),\n",
    "    epochs=10,\n",
    "    verbose=1    \n",
    ")"
   ]
  },
  {
   "cell_type": "code",
   "execution_count": 169,
   "metadata": {
    "execution": {
     "iopub.execute_input": "2022-06-15T08:59:00.104258Z",
     "iopub.status.busy": "2022-06-15T08:59:00.103834Z",
     "iopub.status.idle": "2022-06-15T08:59:00.457013Z",
     "shell.execute_reply": "2022-06-15T08:59:00.456153Z",
     "shell.execute_reply.started": "2022-06-15T08:59:00.104220Z"
    }
   },
   "outputs": [],
   "source": [
    "acc = history_custom.history['accuracy']\n",
    "val_acc = history_custom.history['val_accuracy']\n",
    "loss = history_custom.history['loss']\n",
    "val_loss = history_custom.history['val_loss']\n",
    "epochs = range(1, len(acc) + 1)\n",
    "plt.plot(epochs, acc, 'bo', label='Training acc')\n",
    "plt.plot(epochs, val_acc, 'b', label='Validation acc')\n",
    "plt.title('Training and validation accuracy')\n",
    "plt.legend()\n",
    "plt.figure()\n",
    "plt.plot(epochs, loss, 'bo', label='Training loss')\n",
    "plt.plot(epochs, val_loss, 'b', label='Validation loss')\n",
    "plt.title('Training and validation loss')\n",
    "plt.legend()\n",
    "plt.show()"
   ]
  },
  {
   "cell_type": "code",
   "execution_count": 176,
   "metadata": {
    "execution": {
     "iopub.execute_input": "2022-06-15T09:06:20.177622Z",
     "iopub.status.busy": "2022-06-15T09:06:20.176717Z",
     "iopub.status.idle": "2022-06-15T09:06:20.542485Z",
     "shell.execute_reply": "2022-06-15T09:06:20.541734Z",
     "shell.execute_reply.started": "2022-06-15T09:06:20.177582Z"
    }
   },
   "outputs": [],
   "source": [
    "acc = history_vggbase.history['accuracy']\n",
    "val_acc = history_vggbase.history['val_accuracy']\n",
    "loss = history_vggbase.history['loss']\n",
    "val_loss = history_vggbase.history['val_loss']\n",
    "epochs = range(1, len(acc) + 1)\n",
    "plt.plot(epochs, acc, 'bo', label='Training acc')\n",
    "plt.plot(epochs, val_acc, 'b', label='Validation acc')\n",
    "plt.title('Training and validation accuracy')\n",
    "plt.legend()\n",
    "plt.figure()\n",
    "plt.plot(epochs, loss, 'bo', label='Training loss')\n",
    "plt.plot(epochs, val_loss, 'b', label='Validation loss')\n",
    "plt.title('Training and validation loss')\n",
    "plt.legend()\n",
    "plt.show()"
   ]
  },
  {
   "cell_type": "code",
   "execution_count": 171,
   "metadata": {
    "execution": {
     "iopub.execute_input": "2022-06-15T08:59:00.898227Z",
     "iopub.status.busy": "2022-06-15T08:59:00.897700Z",
     "iopub.status.idle": "2022-06-15T08:59:01.382259Z",
     "shell.execute_reply": "2022-06-15T08:59:01.381250Z",
     "shell.execute_reply.started": "2022-06-15T08:59:00.898187Z"
    }
   },
   "outputs": [],
   "source": [
    "acc = history_mnetbase.history['accuracy']\n",
    "val_acc = history_mnetbase.history['val_accuracy']\n",
    "loss = history_mnetbase.history['loss']\n",
    "val_loss = history_mnetbase.history['val_loss']\n",
    "epochs = range(1, len(acc) + 1)\n",
    "plt.plot(epochs, acc, 'bo', label='Training acc')\n",
    "plt.plot(epochs, val_acc, 'b', label='Validation acc')\n",
    "plt.title('Training and validation accuracy')\n",
    "plt.legend()\n",
    "plt.figure()\n",
    "plt.plot(epochs, loss, 'bo', label='Training loss')\n",
    "plt.plot(epochs, val_loss, 'b', label='Validation loss')\n",
    "plt.title('Training and validation loss')\n",
    "plt.legend()\n",
    "plt.show()"
   ]
  },
  {
   "cell_type": "code",
   "execution_count": 11,
   "metadata": {
    "execution": {
     "iopub.execute_input": "2022-06-15T08:59:01.384510Z",
     "iopub.status.busy": "2022-06-15T08:59:01.383745Z",
     "iopub.status.idle": "2022-06-15T08:59:07.536975Z",
     "shell.execute_reply": "2022-06-15T08:59:07.536160Z",
     "shell.execute_reply.started": "2022-06-15T08:59:01.384387Z"
    }
   },
   "outputs": [
    {
     "name": "stdout",
     "output_type": "stream",
     "text": [
      "676/676 [==============================] - 10s 15ms/step - loss: 0.2118 - accuracy: 0.9452\n"
     ]
    },
    {
     "data": {
      "text/plain": [
       "[0.2118167132139206, 0.9452338814735413]"
      ]
     },
     "execution_count": 11,
     "metadata": {},
     "output_type": "execute_result"
    }
   ],
   "source": [
    "model_custom.evaluate(test_augmented_batches_vgg)"
   ]
  },
  {
   "cell_type": "code",
   "execution_count": 53,
   "metadata": {
    "execution": {
     "iopub.execute_input": "2022-06-15T09:05:16.789926Z",
     "iopub.status.busy": "2022-06-15T09:05:16.789245Z",
     "iopub.status.idle": "2022-06-15T09:05:25.087943Z",
     "shell.execute_reply": "2022-06-15T09:05:25.087165Z",
     "shell.execute_reply.started": "2022-06-15T09:05:16.789892Z"
    }
   },
   "outputs": [
    {
     "name": "stdout",
     "output_type": "stream",
     "text": [
      "676/676 [==============================] - 335s 496ms/step - loss: 0.1054 - accuracy: 0.9953\n"
     ]
    },
    {
     "data": {
      "text/plain": [
       "[0.10544630140066147, 0.9952634572982788]"
      ]
     },
     "execution_count": 53,
     "metadata": {},
     "output_type": "execute_result"
    }
   ],
   "source": [
    "model_vgg.evaluate(test_augmented_batches_vgg)"
   ]
  },
  {
   "cell_type": "code",
   "execution_count": 54,
   "metadata": {
    "execution": {
     "iopub.execute_input": "2022-06-15T09:08:11.263426Z",
     "iopub.status.busy": "2022-06-15T09:08:11.263033Z",
     "iopub.status.idle": "2022-06-15T09:08:21.544800Z",
     "shell.execute_reply": "2022-06-15T09:08:21.544004Z",
     "shell.execute_reply.started": "2022-06-15T09:08:11.263386Z"
    }
   },
   "outputs": [
    {
     "name": "stdout",
     "output_type": "stream",
     "text": [
      "676/676 [==============================] - 67s 97ms/step - loss: 0.1084 - accuracy: 0.9775\n"
     ]
    },
    {
     "data": {
      "text/plain": [
       "[0.10837534070014954, 0.9775014519691467]"
      ]
     },
     "execution_count": 54,
     "metadata": {},
     "output_type": "execute_result"
    }
   ],
   "source": [
    "model_mnet.evaluate(test_augmented_batches_vgg)"
   ]
  },
  {
   "cell_type": "code",
   "execution_count": 179,
   "metadata": {
    "execution": {
     "iopub.execute_input": "2022-06-15T09:08:30.094759Z",
     "iopub.status.busy": "2022-06-15T09:08:30.094407Z",
     "iopub.status.idle": "2022-06-15T09:08:35.133988Z",
     "shell.execute_reply": "2022-06-15T09:08:35.133207Z",
     "shell.execute_reply.started": "2022-06-15T09:08:30.094729Z"
    }
   },
   "outputs": [],
   "source": [
    "predictions = model_custom.predict(x=test_augmented_batches_vgg, steps=len(test_augmented_batches_vgg), verbose=0)\n",
    "cm = confusion_matrix(y_true=test_augmented_batches_vgg.classes, y_pred=np.argmax(predictions, axis=-1))\n",
    "\n",
    "def plot_confusion_matrix(cm, classes,normalize=False,title='Confusion matrix',cmap=plt.cm.Blues):\n",
    "    plt.imshow(cm, interpolation='nearest', cmap=cmap)\n",
    "    plt.title(title)\n",
    "    plt.colorbar()\n",
    "    tick_marks = np.arange(len(classes))\n",
    "    plt.xticks(tick_marks, classes, rotation=45)\n",
    "    plt.yticks(tick_marks, classes)\n",
    "\n",
    "    if normalize:\n",
    "        cm = cm.astype('float') / cm.sum(axis=1)[:, np.newaxis]\n",
    "        print(\"Normalized confusion matrix\")\n",
    "    else:\n",
    "        print('Confusion matrix, without normalization')\n",
    "\n",
    "    print(cm)\n",
    "\n",
    "    thresh = cm.max() / 2.\n",
    "    for i, j in itertools.product(range(cm.shape[0]), range(cm.shape[1])):\n",
    "        plt.text(j, i, cm[i, j],\n",
    "            horizontalalignment=\"center\",\n",
    "            color=\"white\" if cm[i, j] > thresh else \"black\")\n",
    "\n",
    "cm_plot_labels = [\"good\", \"medium\", \"bad\", \"unpaved\"]\n",
    "plot_confusion_matrix(cm=cm, classes=cm_plot_labels, title='Confusion Matrix')"
   ]
  },
  {
   "cell_type": "code",
   "execution_count": 182,
   "metadata": {
    "execution": {
     "iopub.execute_input": "2022-06-15T09:09:39.239130Z",
     "iopub.status.busy": "2022-06-15T09:09:39.238293Z",
     "iopub.status.idle": "2022-06-15T09:09:45.563989Z",
     "shell.execute_reply": "2022-06-15T09:09:45.563181Z",
     "shell.execute_reply.started": "2022-06-15T09:09:39.239092Z"
    }
   },
   "outputs": [],
   "source": [
    "predictions = model_vgg.predict(x=test_augmented_batches_vgg, steps=len(test_augmented_batches_vgg), verbose=0)\n",
    "cm = confusion_matrix(y_true=test_augmented_batches_vgg.classes, y_pred=np.argmax(predictions, axis=-1))\n",
    "\n",
    "def plot_confusion_matrix(cm, classes,normalize=False,title='Confusion matrix',cmap=plt.cm.Blues):\n",
    "    plt.imshow(cm, interpolation='nearest', cmap=cmap)\n",
    "    plt.title(title)\n",
    "    plt.colorbar()\n",
    "    tick_marks = np.arange(len(classes))\n",
    "    plt.xticks(tick_marks, classes, rotation=45)\n",
    "    plt.yticks(tick_marks, classes)\n",
    "\n",
    "    if normalize:\n",
    "        cm = cm.astype('float') / cm.sum(axis=1)[:, np.newaxis]\n",
    "        print(\"Normalized confusion matrix\")\n",
    "    else:\n",
    "        print('Confusion matrix, without normalization')\n",
    "\n",
    "    print(cm)\n",
    "\n",
    "    thresh = cm.max() / 2.\n",
    "    for i, j in itertools.product(range(cm.shape[0]), range(cm.shape[1])):\n",
    "        plt.text(j, i, cm[i, j],\n",
    "            horizontalalignment=\"center\",\n",
    "            color=\"white\" if cm[i, j] > thresh else \"black\")\n",
    "\n",
    "cm_plot_labels = [\"good\", \"medium\", \"bad\", \"unpaved\"]\n",
    "plot_confusion_matrix(cm=cm, classes=cm_plot_labels, title='Confusion Matrix')"
   ]
  },
  {
   "cell_type": "code",
   "execution_count": 184,
   "metadata": {
    "execution": {
     "iopub.execute_input": "2022-06-15T09:10:15.774224Z",
     "iopub.status.busy": "2022-06-15T09:10:15.773218Z",
     "iopub.status.idle": "2022-06-15T09:10:23.208605Z",
     "shell.execute_reply": "2022-06-15T09:10:23.207787Z",
     "shell.execute_reply.started": "2022-06-15T09:10:15.774178Z"
    }
   },
   "outputs": [],
   "source": [
    "predictions = model_mnet.predict(x=test_augmented_batches_vgg, steps=len(test_augmented_batches_vgg), verbose=0)\n",
    "cm = confusion_matrix(y_true=test_augmented_batches_vgg.classes, y_pred=np.argmax(predictions, axis=-1))\n",
    "\n",
    "def plot_confusion_matrix(cm, classes,normalize=False,title='Confusion matrix',cmap=plt.cm.Blues):\n",
    "    plt.imshow(cm, interpolation='nearest', cmap=cmap)\n",
    "    plt.title(title)\n",
    "    plt.colorbar()\n",
    "    tick_marks = np.arange(len(classes))\n",
    "    plt.xticks(tick_marks, classes, rotation=45)\n",
    "    plt.yticks(tick_marks, classes)\n",
    "\n",
    "    if normalize:\n",
    "        cm = cm.astype('float') / cm.sum(axis=1)[:, np.newaxis]\n",
    "        print(\"Normalized confusion matrix\")\n",
    "    else:\n",
    "        print('Confusion matrix, without normalization')\n",
    "\n",
    "    print(cm)\n",
    "\n",
    "    thresh = cm.max() / 2.\n",
    "    for i, j in itertools.product(range(cm.shape[0]), range(cm.shape[1])):\n",
    "        plt.text(j, i, cm[i, j],\n",
    "            horizontalalignment=\"center\",\n",
    "            color=\"white\" if cm[i, j] > thresh else \"black\")\n",
    "\n",
    "cm_plot_labels = [\"good\", \"medium\", \"bad\", \"unpaved\"]\n",
    "plot_confusion_matrix(cm=cm, classes=cm_plot_labels, title='Confusion Matrix')"
   ]
  },
  {
   "cell_type": "code",
   "execution_count": 189,
   "metadata": {
    "execution": {
     "iopub.execute_input": "2022-06-15T09:19:01.127483Z",
     "iopub.status.busy": "2022-06-15T09:19:01.127093Z",
     "iopub.status.idle": "2022-06-15T09:19:11.413016Z",
     "shell.execute_reply": "2022-06-15T09:19:11.412146Z",
     "shell.execute_reply.started": "2022-06-15T09:19:01.127449Z"
    }
   },
   "outputs": [],
   "source": [
    "y_pred = model_custom.predict(test_augmented_batches_vgg, batch_size=64, verbose=1)\n",
    "y_pred_bool = np.argmax(y_pred, axis=1)\n",
    "\n",
    "print(classification_report(test_augmented_batches_vgg.classes, y_pred_bool))"
   ]
  },
  {
   "cell_type": "code",
   "execution_count": 190,
   "metadata": {
    "execution": {
     "iopub.execute_input": "2022-06-15T09:20:32.929039Z",
     "iopub.status.busy": "2022-06-15T09:20:32.928678Z",
     "iopub.status.idle": "2022-06-15T09:20:38.878467Z",
     "shell.execute_reply": "2022-06-15T09:20:38.877605Z",
     "shell.execute_reply.started": "2022-06-15T09:20:32.929010Z"
    }
   },
   "outputs": [],
   "source": [
    "y_pred = model_vgg.predict(test_augmented_batches_vgg, batch_size=64, verbose=1)\n",
    "y_pred_bool = np.argmax(y_pred, axis=1)\n",
    "\n",
    "print(classification_report(test_augmented_batches_vgg.classes, y_pred_bool))"
   ]
  },
  {
   "cell_type": "code",
   "execution_count": 191,
   "metadata": {
    "execution": {
     "iopub.execute_input": "2022-06-15T09:20:48.381172Z",
     "iopub.status.busy": "2022-06-15T09:20:48.380826Z",
     "iopub.status.idle": "2022-06-15T09:20:58.661670Z",
     "shell.execute_reply": "2022-06-15T09:20:58.660825Z",
     "shell.execute_reply.started": "2022-06-15T09:20:48.381141Z"
    }
   },
   "outputs": [],
   "source": [
    "y_pred = model_mnet.predict(test_augmented_batches_vgg, batch_size=64, verbose=1)\n",
    "y_pred_bool = np.argmax(y_pred, axis=1)\n",
    "\n",
    "print(classification_report(test_augmented_batches_vgg.classes, y_pred_bool))"
   ]
  },
  {
   "cell_type": "code",
   "execution_count": 193,
   "metadata": {
    "execution": {
     "iopub.execute_input": "2022-06-15T09:32:31.324951Z",
     "iopub.status.busy": "2022-06-15T09:32:31.324271Z",
     "iopub.status.idle": "2022-06-15T09:32:32.967791Z",
     "shell.execute_reply": "2022-06-15T09:32:32.966838Z",
     "shell.execute_reply.started": "2022-06-15T09:32:31.324916Z"
    }
   },
   "outputs": [],
   "source": [
    "converter = tf.lite.TFLiteConverter.from_keras_model(model_custom)\n",
    "tflite_model = converter.convert()\n",
    "\n",
    "with open(\"./model_custom.tflite\", 'wb') as f:\n",
    "  f.write(tflite_model)\n",
    "\n",
    "model_custom.save(r'./model_custom.h5')"
   ]
  },
  {
   "cell_type": "code",
   "execution_count": 194,
   "metadata": {
    "execution": {
     "iopub.execute_input": "2022-06-15T09:32:42.138069Z",
     "iopub.status.busy": "2022-06-15T09:32:42.137690Z",
     "iopub.status.idle": "2022-06-15T09:32:46.837988Z",
     "shell.execute_reply": "2022-06-15T09:32:46.837153Z",
     "shell.execute_reply.started": "2022-06-15T09:32:42.138035Z"
    }
   },
   "outputs": [],
   "source": [
    "converter = tf.lite.TFLiteConverter.from_keras_model(model_vgg)\n",
    "tflite_model = converter.convert()\n",
    "\n",
    "with open(\"./model_vgg.tflite\", 'wb') as f:\n",
    "  f.write(tflite_model)\n",
    "\n",
    "model_vgg.save(r'./model_vgg.h5')"
   ]
  },
  {
   "cell_type": "code",
   "execution_count": 195,
   "metadata": {
    "execution": {
     "iopub.execute_input": "2022-06-15T09:32:50.964773Z",
     "iopub.status.busy": "2022-06-15T09:32:50.964215Z",
     "iopub.status.idle": "2022-06-15T09:33:17.936135Z",
     "shell.execute_reply": "2022-06-15T09:33:17.935245Z",
     "shell.execute_reply.started": "2022-06-15T09:32:50.964738Z"
    }
   },
   "outputs": [],
   "source": [
    "converter = tf.lite.TFLiteConverter.from_keras_model(model_mnet)\n",
    "tflite_model = converter.convert()\n",
    "\n",
    "with open(\"./model_mnet.tflite\", 'wb') as f:\n",
    "  f.write(tflite_model)\n",
    "\n",
    "model_mnet.save(r'./model_mnet.h5')"
   ]
  },
  {
   "cell_type": "code",
   "execution_count": 196,
   "metadata": {
    "execution": {
     "iopub.execute_input": "2022-06-15T09:33:17.938335Z",
     "iopub.status.busy": "2022-06-15T09:33:17.937972Z",
     "iopub.status.idle": "2022-06-15T09:33:17.944193Z",
     "shell.execute_reply": "2022-06-15T09:33:17.943371Z",
     "shell.execute_reply.started": "2022-06-15T09:33:17.938282Z"
    }
   },
   "outputs": [],
   "source": [
    "print(os.listdir('./'))"
   ]
  },
  {
   "cell_type": "code",
   "execution_count": 21,
   "metadata": {},
   "outputs": [],
   "source": [
    "def get_profile_name(label):\n",
    "    if label==0:\n",
    "        return \"Good\"\n",
    "    if label==1:\n",
    "        return \"Medium\"\n",
    "    if label==2:\n",
    "        return \"Bad\"\n",
    "    if label==3:\n",
    "        return \"Unpaved\""
   ]
  },
  {
   "cell_type": "code",
   "execution_count": 5,
   "metadata": {},
   "outputs": [],
   "source": [
    "models_dir = '/media/gufran/GsHDD/Work/Projects/RoadCapture/Models'"
   ]
  },
  {
   "cell_type": "code",
   "execution_count": 8,
   "metadata": {},
   "outputs": [],
   "source": [
    "model_custom = tf.keras.models.load_model(models_dir + '/model_custom.h5')\n",
    "model_vgg = tf.keras.models.load_model(models_dir + '/model_vgg.h5')\n",
    "model_mnet = tf.keras.models.load_model(models_dir + '/model_mnet.h5')"
   ]
  },
  {
   "cell_type": "code",
   "execution_count": 47,
   "metadata": {},
   "outputs": [],
   "source": [
    "y_true= list(test_augmented_batches_vgg.classes)"
   ]
  },
  {
   "cell_type": "code",
   "execution_count": 18,
   "metadata": {
    "scrolled": true
   },
   "outputs": [
    {
     "name": "stdout",
     "output_type": "stream",
     "text": [
      "676/676 [==============================] - 11s 15ms/step\n",
      "676/676 [==============================] - 311s 460ms/step\n",
      "676/676 [==============================] - 42s 61ms/step\n"
     ]
    }
   ],
   "source": [
    "y_pred_custom=model_custom.predict(x=test_augmented_batches_vgg, steps=len(test_augmented_batches_vgg), verbose=1)\n",
    "y_pred_vgg=model_vgg.predict(x=test_augmented_batches_vgg, steps=len(test_augmented_batches_vgg), verbose=1)\n",
    "y_pred_mnet=model_mnet.predict(x=test_augmented_batches_vgg, steps=len(test_augmented_batches_vgg), verbose=1)"
   ]
  },
  {
   "cell_type": "code",
   "execution_count": 66,
   "metadata": {},
   "outputs": [
    {
     "name": "stdout",
     "output_type": "stream",
     "text": [
      "49\n",
      "52\n",
      "81\n",
      "7\n"
     ]
    }
   ],
   "source": [
    "zero, one, two, three = \"\",\"\",\"\",\"\"\n",
    "\n",
    "for p in range(len(y_pred_custom)):\n",
    "    p_list = list(y_pred_custom[p])\n",
    "    \n",
    "    pred_i = p_list.index(max(p_list))\n",
    "    true_i = y_true[p]\n",
    "    \n",
    "    if pred_i != true_i:\n",
    "        if true_i == 0: zero+=str(p)+'|'\n",
    "        if true_i == 1: one+=str(p)+'|'\n",
    "        if true_i == 2: two+=str(p)+'|'\n",
    "        if true_i == 3: three+=str(p)+'|'\n",
    "\n",
    "f = open('/media/gufran/GsHDD/Work/Projects/RoadCapture/Dataset/workenv/testres/custom.txt',\"w\")\n",
    "f.write(zero)\n",
    "f.write(\"\\n\")\n",
    "f.write(one)\n",
    "f.write(\"\\n\")\n",
    "f.write(two)\n",
    "f.write(\"\\n\")\n",
    "f.write(three)\n",
    "f.write(\"\\n\")\n",
    "\n",
    "f.close()\n",
    "\n",
    "print(len(zero.split(\"|\")))\n",
    "print(len(one.split(\"|\")))\n",
    "print(len(two.split(\"|\")))\n",
    "print(len(three.split(\"|\")))"
   ]
  },
  {
   "cell_type": "code",
   "execution_count": 67,
   "metadata": {},
   "outputs": [
    {
     "name": "stdout",
     "output_type": "stream",
     "text": [
      "5\n",
      "6\n",
      "5\n",
      "4\n"
     ]
    }
   ],
   "source": [
    "zero, one, two, three = \"\",\"\",\"\",\"\"\n",
    "\n",
    "for p in range(len(y_pred_vgg)):\n",
    "    p_list = list(y_pred_vgg[p])\n",
    "    \n",
    "    pred_i = p_list.index(max(p_list))\n",
    "    true_i = y_true[p]\n",
    "    \n",
    "    if pred_i != true_i:\n",
    "        if true_i == 0: zero+=str(p)+'|'\n",
    "        if true_i == 1: one+=str(p)+'|'\n",
    "        if true_i == 2: two+=str(p)+'|'\n",
    "        if true_i == 3: three+=str(p)+'|'\n",
    "\n",
    "f = open('/media/gufran/GsHDD/Work/Projects/RoadCapture/Dataset/workenv/testres/vgg.txt',\"w\")\n",
    "f.write(zero)\n",
    "f.write(\"\\n\")\n",
    "f.write(one)\n",
    "f.write(\"\\n\")\n",
    "f.write(two)\n",
    "f.write(\"\\n\")\n",
    "f.write(three)\n",
    "f.write(\"\\n\")\n",
    "\n",
    "f.close()\n",
    "\n",
    "print(len(zero.split(\"|\")))\n",
    "print(len(one.split(\"|\")))\n",
    "print(len(two.split(\"|\")))\n",
    "print(len(three.split(\"|\")))"
   ]
  },
  {
   "cell_type": "code",
   "execution_count": 68,
   "metadata": {},
   "outputs": [
    {
     "name": "stdout",
     "output_type": "stream",
     "text": [
      "15\n",
      "44\n",
      "13\n",
      "8\n"
     ]
    }
   ],
   "source": [
    "zero, one, two, three = \"\",\"\",\"\",\"\"\n",
    "\n",
    "for p in range(len(y_pred_mnet)):\n",
    "    p_list = list(y_pred_mnet[p])\n",
    "    \n",
    "    pred_i = p_list.index(max(p_list))\n",
    "    true_i = y_true[p]\n",
    "    \n",
    "    if pred_i != true_i:\n",
    "        if true_i == 0: zero+=str(p)+'|'\n",
    "        if true_i == 1: one+=str(p)+'|'\n",
    "        if true_i == 2: two+=str(p)+'|'\n",
    "        if true_i == 3: three+=str(p)+'|'\n",
    "\n",
    "f = open('/media/gufran/GsHDD/Work/Projects/RoadCapture/Dataset/workenv/testres/mnet.txt',\"w\")\n",
    "f.write(zero)\n",
    "f.write(\"\\n\")\n",
    "f.write(one)\n",
    "f.write(\"\\n\")\n",
    "f.write(two)\n",
    "f.write(\"\\n\")\n",
    "f.write(three)\n",
    "f.write(\"\\n\")\n",
    "\n",
    "f.close()\n",
    "\n",
    "print(len(zero.split(\"|\")))\n",
    "print(len(one.split(\"|\")))\n",
    "print(len(two.split(\"|\")))\n",
    "print(len(three.split(\"|\")))"
   ]
  },
  {
   "cell_type": "code",
   "execution_count": 197,
   "metadata": {},
   "outputs": [
    {
     "name": "stdout",
     "output_type": "stream",
     "text": [
      "Found 3378 images belonging to 4 classes.\n"
     ]
    }
   ],
   "source": [
    "from keras.applications.vgg16 import preprocess_input\n",
    "\n",
    "fdd = ImageDataGenerator().flow_from_directory(\n",
    "    TEST_AUGMENTED_DIR,    \n",
    "    classes=labels,\n",
    "    target_size = (124,224),\n",
    "    batch_size=1,\n",
    ")"
   ]
  },
  {
   "cell_type": "code",
   "execution_count": 208,
   "metadata": {},
   "outputs": [
    {
     "name": "stdout",
     "output_type": "stream",
     "text": [
      "j 500\n",
      "j 1000\n",
      "j 1500\n",
      "j 2000\n",
      "j 2500\n",
      "j 3000\n",
      "183\n"
     ]
    }
   ],
   "source": [
    "j=0\n",
    "count = 0\n",
    "for i in fdd:\n",
    "    j+=1\n",
    "    \n",
    "    \n",
    "    ims = i[0][0]\n",
    "    ims2 = np.array(ims)\n",
    "    ims2=preprocess_input(ims2)\n",
    "    \n",
    "    imp = np.array(i[0])\n",
    "    imp = preprocess_input(imp)\n",
    "    \n",
    "    lol = list(model_custom.predict(imp, verbose=0)[0])\n",
    "    trues = list(i[1][0])\n",
    "    \n",
    "    lol_max = lol.index(max(lol))\n",
    "    trues_max = trues.index(max(trues))\n",
    "    \n",
    "    if lol_max != trues_max:\n",
    "        ims = Image.fromarray(ims.astype(np.uint8))\n",
    "        ims2 = Image.fromarray(ims2.astype(np.uint8))\n",
    "        if trues_max == 0:\n",
    "            ims.save(\"/media/gufran/GsHDD/Work/Projects/RoadCapture/Dataset/workenv/test_images/good/{j}.jpg\".format(j=j))\n",
    "            ims2.save(\"/media/gufran/GsHDD/Work/Projects/RoadCapture/Dataset/workenv/test_images/good/v{j}.jpg\".format(j=j))\n",
    "#             print(\"good opps\")\n",
    "        if trues_max == 1:\n",
    "            ims.save(\"/media/gufran/GsHDD/Work/Projects/RoadCapture/Dataset/workenv/test_images/medium/{j}.jpg\".format(j=j))\n",
    "            ims2.save(\"/media/gufran/GsHDD/Work/Projects/RoadCapture/Dataset/workenv/test_images/medium/v{j}.jpg\".format(j=j))\n",
    "#             print(\"med opps\")\n",
    "        if trues_max == 2:\n",
    "            ims.save(\"/media/gufran/GsHDD/Work/Projects/RoadCapture/Dataset/workenv/test_images/bad/{j}.jpg\".format(j=j))\n",
    "            ims2.save(\"/media/gufran/GsHDD/Work/Projects/RoadCapture/Dataset/workenv/test_images/bad/v{j}.jpg\".format(j=j))\n",
    "#             print(\"bad opps\")\n",
    "        if trues_max == 3:\n",
    "            ims.save(\"/media/gufran/GsHDD/Work/Projects/RoadCapture/Dataset/workenv/test_images/unpaved/{j}.jpg\".format(j=j))\n",
    "            ims2.save(\"/media/gufran/GsHDD/Work/Projects/RoadCapture/Dataset/workenv/test_images/unpaved/v{j}.jpg\".format(j=j))\n",
    "#             print(\"unp opps\")\n",
    "        count+=1\n",
    "        \n",
    "    if j == len(fdd):break\n",
    "    if j%500==0:print(\"j\",j)\n",
    "print(count)"
   ]
  },
  {
   "cell_type": "code",
   "execution_count": 210,
   "metadata": {},
   "outputs": [
    {
     "name": "stdout",
     "output_type": "stream",
     "text": [
      "j 500\n",
      "j 1000\n",
      "j 1500\n",
      "j 2000\n",
      "j 2500\n",
      "j 3000\n",
      "14\n"
     ]
    }
   ],
   "source": [
    "j=0\n",
    "count = 0\n",
    "for i in fdd:\n",
    "    j+=1\n",
    "    \n",
    "    \n",
    "    ims = i[0][0]\n",
    "    ims2 = np.array(ims)\n",
    "    ims2=preprocess_input(ims2)\n",
    "    \n",
    "    imp = np.array(i[0])\n",
    "    imp = preprocess_input(imp)\n",
    "    \n",
    "    lol = list(model_vgg.predict(imp, verbose=0)[0])\n",
    "    trues = list(i[1][0])\n",
    "    \n",
    "    lol_max = lol.index(max(lol))\n",
    "    trues_max = trues.index(max(trues))\n",
    "    \n",
    "    if lol_max != trues_max:\n",
    "        ims = Image.fromarray(ims.astype(np.uint8))\n",
    "        ims2 = Image.fromarray(ims2.astype(np.uint8))\n",
    "        if trues_max == 0:\n",
    "            ims.save(\"/media/gufran/GsHDD/Work/Projects/RoadCapture/Dataset/workenv/test_images_vgg/good/{j}.jpg\".format(j=j))\n",
    "            ims2.save(\"/media/gufran/GsHDD/Work/Projects/RoadCapture/Dataset/workenv/test_images_vgg/good/v{j}.jpg\".format(j=j))\n",
    "#             print(\"good opps\")\n",
    "        if trues_max == 1:\n",
    "            ims.save(\"/media/gufran/GsHDD/Work/Projects/RoadCapture/Dataset/workenv/test_images_vgg/medium/{j}.jpg\".format(j=j))\n",
    "            ims2.save(\"/media/gufran/GsHDD/Work/Projects/RoadCapture/Dataset/workenv/test_images_vgg/medium/v{j}.jpg\".format(j=j))\n",
    "#             print(\"med opps\")\n",
    "        if trues_max == 2:\n",
    "            ims.save(\"/media/gufran/GsHDD/Work/Projects/RoadCapture/Dataset/workenv/test_images_vgg/bad/{j}.jpg\".format(j=j))\n",
    "            ims2.save(\"/media/gufran/GsHDD/Work/Projects/RoadCapture/Dataset/workenv/test_images_vgg/bad/v{j}.jpg\".format(j=j))\n",
    "#             print(\"bad opps\")\n",
    "        if trues_max == 3:\n",
    "            ims.save(\"/media/gufran/GsHDD/Work/Projects/RoadCapture/Dataset/workenv/test_images_vgg/unpaved/{j}.jpg\".format(j=j))\n",
    "            ims2.save(\"/media/gufran/GsHDD/Work/Projects/RoadCapture/Dataset/workenv/test_images_vgg/unpaved/v{j}.jpg\".format(j=j))\n",
    "#             print(\"unp opps\")\n",
    "        count+=1\n",
    "        \n",
    "    if j == len(fdd):break\n",
    "    if j%500==0:print(\"j\",j)\n",
    "print(count)"
   ]
  },
  {
   "cell_type": "code",
   "execution_count": 211,
   "metadata": {},
   "outputs": [
    {
     "name": "stdout",
     "output_type": "stream",
     "text": [
      "j 500\n",
      "j 1000\n",
      "j 1500\n",
      "j 2000\n",
      "j 2500\n",
      "j 3000\n",
      "70\n"
     ]
    }
   ],
   "source": [
    "j=0\n",
    "count = 0\n",
    "for i in fdd:\n",
    "    j+=1\n",
    "    \n",
    "    \n",
    "    ims = i[0][0]\n",
    "    ims2 = np.array(ims)\n",
    "    ims2=preprocess_input(ims2)\n",
    "    \n",
    "    imp = np.array(i[0])\n",
    "    imp = preprocess_input(imp)\n",
    "    \n",
    "    lol = list(model_mnet.predict(imp, verbose=0)[0])\n",
    "    trues = list(i[1][0])\n",
    "    \n",
    "    lol_max = lol.index(max(lol))\n",
    "    trues_max = trues.index(max(trues))\n",
    "    \n",
    "    if lol_max != trues_max:\n",
    "        ims = Image.fromarray(ims.astype(np.uint8))\n",
    "        ims2 = Image.fromarray(ims2.astype(np.uint8))\n",
    "        if trues_max == 0:\n",
    "            ims.save(\"/media/gufran/GsHDD/Work/Projects/RoadCapture/Dataset/workenv/test_images_mnet/good/{j}.jpg\".format(j=j))\n",
    "            ims2.save(\"/media/gufran/GsHDD/Work/Projects/RoadCapture/Dataset/workenv/test_images_mnet/good/v{j}.jpg\".format(j=j))\n",
    "#             print(\"good opps\")\n",
    "        if trues_max == 1:\n",
    "            ims.save(\"/media/gufran/GsHDD/Work/Projects/RoadCapture/Dataset/workenv/test_images_mnet/medium/{j}.jpg\".format(j=j))\n",
    "            ims2.save(\"/media/gufran/GsHDD/Work/Projects/RoadCapture/Dataset/workenv/test_images_mnet/medium/v{j}.jpg\".format(j=j))\n",
    "#             print(\"med opps\")\n",
    "        if trues_max == 2:\n",
    "            ims.save(\"/media/gufran/GsHDD/Work/Projects/RoadCapture/Dataset/workenv/test_images_mnet/bad/{j}.jpg\".format(j=j))\n",
    "            ims2.save(\"/media/gufran/GsHDD/Work/Projects/RoadCapture/Dataset/workenv/test_images_mnet/bad/v{j}.jpg\".format(j=j))\n",
    "#             print(\"bad opps\")\n",
    "        if trues_max == 3:\n",
    "            ims.save(\"/media/gufran/GsHDD/Work/Projects/RoadCapture/Dataset/workenv/test_images_mnet/unpaved/{j}.jpg\".format(j=j))\n",
    "            ims2.save(\"/media/gufran/GsHDD/Work/Projects/RoadCapture/Dataset/workenv/test_images_mnet/unpaved/v{j}.jpg\".format(j=j))\n",
    "#             print(\"unp opps\")\n",
    "        count+=1\n",
    "        \n",
    "    if j == len(fdd):break\n",
    "    if j%500==0:print(\"j\",j)\n",
    "print(count)"
   ]
  }
 ],
 "metadata": {
  "kernelspec": {
   "display_name": "Python 3 (ipykernel)",
   "language": "python",
   "name": "python3"
  },
  "language_info": {
   "codemirror_mode": {
    "name": "ipython",
    "version": 3
   },
   "file_extension": ".py",
   "mimetype": "text/x-python",
   "name": "python",
   "nbconvert_exporter": "python",
   "pygments_lexer": "ipython3",
   "version": "3.9.7"
  }
 },
 "nbformat": 4,
 "nbformat_minor": 4
}
