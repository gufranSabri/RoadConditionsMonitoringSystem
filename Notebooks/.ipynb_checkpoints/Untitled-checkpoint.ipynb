{
 "cells": [
  {
   "cell_type": "code",
   "execution_count": 1,
   "id": "461d0714",
   "metadata": {},
   "outputs": [
    {
     "name": "stderr",
     "output_type": "stream",
     "text": [
      "2022-06-21 04:46:00.654707: W tensorflow/stream_executor/platform/default/dso_loader.cc:64] Could not load dynamic library 'libcudart.so.11.0'; dlerror: libcudart.so.11.0: cannot open shared object file: No such file or directory\n",
      "2022-06-21 04:46:00.654733: I tensorflow/stream_executor/cuda/cudart_stub.cc:29] Ignore above cudart dlerror if you do not have a GPU set up on your machine.\n"
     ]
    }
   ],
   "source": [
    "import matplotlib.pyplot as plt\n",
    "from tensorflow.keras.preprocessing.image import ImageDataGenerator\n",
    "from sklearn.metrics import classification_report\n",
    "import tensorflow \n",
    "\n",
    "from keras.applications.vgg16 import preprocess_input as vi\n",
    "from keras.applications.mobilenet_v2 import preprocess_input as mi\n",
    "\n",
    "import cv2\n",
    "import numpy as np\n",
    "\n",
    "import os\n",
    "import time"
   ]
  },
  {
   "cell_type": "code",
   "execution_count": 2,
   "id": "c3b68b63",
   "metadata": {},
   "outputs": [
    {
     "name": "stderr",
     "output_type": "stream",
     "text": [
      "2022-06-21 04:46:04.104269: W tensorflow/stream_executor/platform/default/dso_loader.cc:64] Could not load dynamic library 'libcuda.so.1'; dlerror: libcuda.so.1: cannot open shared object file: No such file or directory; LD_LIBRARY_PATH: /home/gufran/anaconda3/lib/python3.9/site-packages/cv2/../../lib64:\n",
      "2022-06-21 04:46:04.104369: W tensorflow/stream_executor/cuda/cuda_driver.cc:269] failed call to cuInit: UNKNOWN ERROR (303)\n",
      "2022-06-21 04:46:04.104481: I tensorflow/stream_executor/cuda/cuda_diagnostics.cc:169] retrieving CUDA diagnostic information for host: gufran-MRC-WX0\n",
      "2022-06-21 04:46:04.104513: I tensorflow/stream_executor/cuda/cuda_diagnostics.cc:176] hostname: gufran-MRC-WX0\n",
      "2022-06-21 04:46:04.104751: I tensorflow/stream_executor/cuda/cuda_diagnostics.cc:200] libcuda reported version is: NOT_FOUND: was unable to find libcuda.so DSO loaded into this program\n",
      "2022-06-21 04:46:04.104894: I tensorflow/stream_executor/cuda/cuda_diagnostics.cc:204] kernel reported version is: 470.129.6\n",
      "2022-06-21 04:46:04.106112: I tensorflow/core/platform/cpu_feature_guard.cc:193] This TensorFlow binary is optimized with oneAPI Deep Neural Network Library (oneDNN) to use the following CPU instructions in performance-critical operations:  AVX2 FMA\n",
      "To enable them in other operations, rebuild TensorFlow with the appropriate compiler flags.\n"
     ]
    }
   ],
   "source": [
    "custom = tensorflow.keras.models.load_model('/media/gufran/GsHDD/Work/Projects/RoadCapture/Models/custom.h5')\n",
    "vgg = tensorflow.keras.models.load_model('/media/gufran/GsHDD/Work/Projects/RoadCapture/Models/vgg.h5')\n",
    "mnet = tensorflow.keras.models.load_model('/media/gufran/GsHDD/Work/Projects/RoadCapture/Models/mnet.h5')"
   ]
  },
  {
   "cell_type": "code",
   "execution_count": 3,
   "id": "b8bf874f",
   "metadata": {},
   "outputs": [],
   "source": [
    "test_dir = '/media/gufran/GsHDD/Work/Projects/RoadCapture/Dataset/workenv/augmented/test'\n",
    "save_dir_c = '/media/gufran/GsHDD/Work/Projects/RoadCapture/Dataset/workenv/mis_classifications_c'\n",
    "save_dir_v = '/media/gufran/GsHDD/Work/Projects/RoadCapture/Dataset/workenv/mis_classifications_v'\n",
    "save_dir_m = '/media/gufran/GsHDD/Work/Projects/RoadCapture/Dataset/workenv/mis_classifications_m'\n",
    "labels = [\"good\",\"medium\",\"bad\",\"unpaved\"]"
   ]
  },
  {
   "cell_type": "code",
   "execution_count": 13,
   "id": "eee398ae",
   "metadata": {},
   "outputs": [
    {
     "name": "stdout",
     "output_type": "stream",
     "text": [
      "good\n",
      "\n",
      "medium\n",
      "\n",
      "bad\n",
      "\n",
      "unpaved\n",
      "\n"
     ]
    }
   ],
   "source": [
    "cm = 0\n",
    "vm = 0\n",
    "mm = 0\n",
    "\n",
    "for i in range(len(labels)):\n",
    "    c = labels[i]\n",
    "    ci = labels.index(c)\n",
    "    \n",
    "    images =  os.listdir(test_dir+'/'+c)\n",
    "    \n",
    "    print(c)\n",
    "    \n",
    "    for im in images:\n",
    "        path = test_dir+'/'+c+'/'+im\n",
    "        path = '/media/gufran/GsHDD/Work/Projects/RoadCapture/Dataset/workenv/augmented/test/good/good2.jpg'\n",
    "#         img = cv2.cvtColor(cv2.imread(path), cv2.COLOR_BGR2RGB)\n",
    "#         imgv = vi(img)\n",
    "#         imgm = mi(img)\n",
    "\n",
    "        img = cv2.imread('/media/gufran/GsHDD/Work/Projects/RoadCapture/Dataset/workenv/augmented/test/good/good2.jpg')\n",
    "        img2 = cv2.imread('/media/gufran/GsHDD/Work/Projects/RoadCapture/Dataset/workenv/augmented/test/good/good2.jpg')\n",
    "    \n",
    "        img = cv2.cvtColor(img, cv2.COLOR_BGR2RGB)\n",
    "        vimg = vi(img)\n",
    "        mimg = mi(img2)\n",
    "    \n",
    "#         img = cv2.cvtColor(cv2.imread(path), cv2.COLOR_BGR2RGB)\n",
    "#         imgv = vi(cv2.cvtColor(cv2.imread(path), cv2.COLOR_BGR2RGB))\n",
    "#         imgm = mi(cv2.cvtColor(cv2.imread(path), cv2.COLOR_BGR2RGB))\n",
    "        \n",
    "#         img = np.expand_dims(img, axis=0)\n",
    "#         imgv = np.expand_dims(imgv, axis=0)\n",
    "#         imgm = np.expand_dims(imgm, axis=0)\n",
    "        \n",
    "        cv2.imwrite(\"/home/gufran/Pictures/1.jpg\",img)\n",
    "        cv2.imwrite(\"/home/gufran/Pictures/1v.jpg\",imgv)\n",
    "        cv2.imwrite(\"/home/gufran/Pictures/1m.jpg\",imgm)\n",
    "        \n",
    "        break\n",
    "        \n",
    "#         img = np.expand_dims(cv2.cvtColor(cv2.imread(test_dir+'/'+c+'/'+im), cv2.COLOR_BGR2RGB), axis=0)\n",
    "#         imgv = vi(np.expand_dims(cv2.cvtColor(cv2.imread(test_dir+'/'+c+'/'+im), cv2.COLOR_BGR2RGB), axis=0))\n",
    "#         imgm = mi(np.expand_dims(cv2.cvtColor(cv2.imread(test_dir+'/'+c+'/'+im), cv2.COLOR_BGR2RGB), axis=0))\n",
    "        \n",
    "\n",
    "        \n",
    "#         cres = list(custom.predict(img,verbose=0)[0])\n",
    "#         vres = list(vgg.predict(imgv,verbose=0)[0])\n",
    "#         mres = list(mnet.predict(imgm,verbose=0)[0])\n",
    "        \n",
    "#         cri = cres.index(max(cres))\n",
    "#         vri = vres.index(max(vres))\n",
    "#         mri = mres.index(max(mres))\n",
    "        \n",
    "#         if ci != cri:\n",
    "#             cm+=1\n",
    "            \n",
    "#             write_path = save_dir_c + '/' + c + '/' + labels[cri] + '/' + str(cm) + '.jpg'\n",
    "#             cv2.imwrite(write_path, cv2.cvtColor(cv2.imread(test_dir+'/'+c+'/'+im), cv2.COLOR_BGR2RGB))\n",
    "            \n",
    "#             print(\"c\"+str(cm), end = ' ')\n",
    "        \n",
    "#         if ci != vri:\n",
    "#             vm+=1\n",
    "            \n",
    "#             write_path = save_dir_v + '/' + c + '/' + labels[vri] + '/' + str(vm) + '.jpg'\n",
    "# #             write_path2 = save_dir_v + '/' + c + '/' + labels[vri] + '/' + str(vm) + 'p.jpg'\n",
    "            \n",
    "            \n",
    "#             cv2.imwrite(write_path, cv2.cvtColor(cv2.imread(test_dir+'/'+c+'/'+im), cv2.COLOR_BGR2RGB))\n",
    "# #             cv2.imwrite(write_path2,vi(cv2.cvtColor(cv2.imread(test_dir+'/'+c+'/'+im), cv2.COLOR_BGR2RGB)))\n",
    "            \n",
    "#             print(\"v\"+str(vm), end = ' ')\n",
    "        \n",
    "#         if ci != mri:\n",
    "#             mm+=1\n",
    "            \n",
    "#             write_path = save_dir_m + '/' + c + '/' + labels[mri] + '/' + str(mm) + '.jpg'\n",
    "# #             write_path2 = save_dir_m + '/' + c + '/' + labels[mri] + '/' + str(mm) + 'p.jpg'\n",
    "            \n",
    "#             cv2.imwrite(write_path, cv2.cvtColor(cv2.imread(test_dir+'/'+c+'/'+im), cv2.COLOR_BGR2RGB))\n",
    "# #             cv2.imwrite(write_path2,mi(cv2.cvtColor(cv2.imread(test_dir+'/'+c+'/'+im), cv2.COLOR_BGR2RGB)))\n",
    "            \n",
    "#             print(\"m\"+str(mm), end = ' ')\n",
    "    print()\n"
   ]
  },
  {
   "cell_type": "code",
   "execution_count": null,
   "id": "ca78b07d",
   "metadata": {},
   "outputs": [],
   "source": [
    "img = cv2.imread()"
   ]
  }
 ],
 "metadata": {
  "kernelspec": {
   "display_name": "Python 3 (ipykernel)",
   "language": "python",
   "name": "python3"
  },
  "language_info": {
   "codemirror_mode": {
    "name": "ipython",
    "version": 3
   },
   "file_extension": ".py",
   "mimetype": "text/x-python",
   "name": "python",
   "nbconvert_exporter": "python",
   "pygments_lexer": "ipython3",
   "version": "3.9.7"
  }
 },
 "nbformat": 4,
 "nbformat_minor": 5
}
