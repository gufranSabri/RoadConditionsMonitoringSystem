{
 "cells": [
  {
   "cell_type": "code",
   "execution_count": 1,
   "id": "014b1f67",
   "metadata": {
    "_cell_guid": "b1076dfc-b9ad-4769-8c92-a6c4dae69d19",
    "_uuid": "8f2839f25d086af736a60e9eeb907d3b93b6e0e5",
    "execution": {
     "iopub.execute_input": "2022-06-20T15:18:03.093409Z",
     "iopub.status.busy": "2022-06-20T15:18:03.092380Z",
     "iopub.status.idle": "2022-06-20T15:18:09.376991Z",
     "shell.execute_reply": "2022-06-20T15:18:09.376194Z"
    },
    "papermill": {
     "duration": 6.296488,
     "end_time": "2022-06-20T15:18:09.379245",
     "exception": false,
     "start_time": "2022-06-20T15:18:03.082757",
     "status": "completed"
    },
    "tags": []
   },
   "outputs": [],
   "source": [
    "import tensorflow as tf\n",
    "import matplotlib.pyplot as plt\n",
    "from sklearn.metrics import confusion_matrix\n",
    "from tensorflow.keras.preprocessing.image import ImageDataGenerator\n",
    "from tensorflow.keras.applications import VGG16\n",
    "from sklearn.metrics import classification_report\n",
    "\n",
    "import cv2\n",
    "import numpy as np\n",
    "\n",
    "import itertools\n",
    "import os\n",
    "import shutil\n",
    "import random\n",
    "import glob\n",
    "import time"
   ]
  },
  {
   "cell_type": "code",
   "execution_count": 2,
   "id": "59d039f1",
   "metadata": {
    "execution": {
     "iopub.execute_input": "2022-06-20T15:18:09.391400Z",
     "iopub.status.busy": "2022-06-20T15:18:09.390792Z",
     "iopub.status.idle": "2022-06-20T15:18:09.394980Z",
     "shell.execute_reply": "2022-06-20T15:18:09.394174Z"
    },
    "papermill": {
     "duration": 0.011665,
     "end_time": "2022-06-20T15:18:09.396571",
     "exception": false,
     "start_time": "2022-06-20T15:18:09.384906",
     "status": "completed"
    },
    "tags": []
   },
   "outputs": [],
   "source": [
    "TRAIN_DIR = '../input/road-data/train'\n",
    "TEST_DIR = '../input/road-data/test'\n",
    "VALID_DIR = '../input/road-data/valid'"
   ]
  },
  {
   "cell_type": "code",
   "execution_count": 3,
   "id": "24c9eeae",
   "metadata": {
    "execution": {
     "iopub.execute_input": "2022-06-20T15:18:09.408071Z",
     "iopub.status.busy": "2022-06-20T15:18:09.407460Z",
     "iopub.status.idle": "2022-06-20T15:18:20.304713Z",
     "shell.execute_reply": "2022-06-20T15:18:20.303155Z"
    },
    "papermill": {
     "duration": 10.905042,
     "end_time": "2022-06-20T15:18:20.306539",
     "exception": false,
     "start_time": "2022-06-20T15:18:09.401497",
     "status": "completed"
    },
    "tags": []
   },
   "outputs": [
    {
     "name": "stdout",
     "output_type": "stream",
     "text": [
      "Found 12178 images belonging to 4 classes.\n",
      "Found 3478 images belonging to 4 classes.\n",
      "Found 1738 images belonging to 4 classes.\n",
      "Found 12178 images belonging to 4 classes.\n",
      "Found 3478 images belonging to 4 classes.\n",
      "Found 1738 images belonging to 4 classes.\n",
      "Found 12178 images belonging to 4 classes.\n",
      "Found 3478 images belonging to 4 classes.\n",
      "Found 1738 images belonging to 4 classes.\n"
     ]
    }
   ],
   "source": [
    "labels = [\"good\", \"medium\", \"bad\", \"unpaved\"]\n",
    "\n",
    "train_batches = ImageDataGenerator().flow_from_directory(directory=TRAIN_DIR, target_size=(124,224), classes=labels)\n",
    "test_batches = ImageDataGenerator().flow_from_directory(directory=TEST_DIR, target_size=(124,224), classes=labels, shuffle=False)\n",
    "valid_batches = ImageDataGenerator().flow_from_directory(directory=VALID_DIR, target_size=(124,224), classes=labels)\n",
    "\n",
    "train_batches_vgg = ImageDataGenerator(preprocessing_function=tf.keras.applications.vgg16.preprocess_input).flow_from_directory(directory=TRAIN_DIR, target_size=(124,224), classes=labels)\n",
    "test_batches_vgg = ImageDataGenerator(preprocessing_function=tf.keras.applications.vgg16.preprocess_input).flow_from_directory(directory=TEST_DIR, target_size=(124,224), classes=labels, shuffle=False)\n",
    "valid_batches_vgg = ImageDataGenerator(preprocessing_function=tf.keras.applications.vgg16.preprocess_input).flow_from_directory(directory=VALID_DIR, target_size=(124,224), classes=labels)\n",
    "\n",
    "train_batches_mnet = ImageDataGenerator(preprocessing_function=tf.keras.applications.mobilenet_v2.preprocess_input).flow_from_directory(directory=TRAIN_DIR, target_size=(124,224), classes=labels)\n",
    "test_batches_mnet = ImageDataGenerator(preprocessing_function=tf.keras.applications.mobilenet_v2.preprocess_input).flow_from_directory(directory=TEST_DIR, target_size=(124,224), classes=labels, shuffle=False)\n",
    "valid_batches_mnet = ImageDataGenerator(preprocessing_function=tf.keras.applications.mobilenet_v2.preprocess_input).flow_from_directory(directory=VALID_DIR, target_size=(124,224), classes=labels)"
   ]
  },
  {
   "cell_type": "code",
   "execution_count": 4,
   "id": "c8dbdfac",
   "metadata": {
    "execution": {
     "iopub.execute_input": "2022-06-20T15:18:20.319225Z",
     "iopub.status.busy": "2022-06-20T15:18:20.318548Z",
     "iopub.status.idle": "2022-06-20T15:18:23.080581Z",
     "shell.execute_reply": "2022-06-20T15:18:23.079777Z"
    },
    "papermill": {
     "duration": 2.770938,
     "end_time": "2022-06-20T15:18:23.083262",
     "exception": false,
     "start_time": "2022-06-20T15:18:20.312324",
     "status": "completed"
    },
    "tags": []
   },
   "outputs": [
    {
     "name": "stderr",
     "output_type": "stream",
     "text": [
      "2022-06-20 15:18:20.452179: I tensorflow/stream_executor/cuda/cuda_gpu_executor.cc:937] successful NUMA node read from SysFS had negative value (-1), but there must be at least one NUMA node, so returning NUMA node zero\n",
      "2022-06-20 15:18:20.543368: I tensorflow/stream_executor/cuda/cuda_gpu_executor.cc:937] successful NUMA node read from SysFS had negative value (-1), but there must be at least one NUMA node, so returning NUMA node zero\n",
      "2022-06-20 15:18:20.544157: I tensorflow/stream_executor/cuda/cuda_gpu_executor.cc:937] successful NUMA node read from SysFS had negative value (-1), but there must be at least one NUMA node, so returning NUMA node zero\n",
      "2022-06-20 15:18:20.545992: I tensorflow/core/platform/cpu_feature_guard.cc:142] This TensorFlow binary is optimized with oneAPI Deep Neural Network Library (oneDNN) to use the following CPU instructions in performance-critical operations:  AVX2 AVX512F FMA\n",
      "To enable them in other operations, rebuild TensorFlow with the appropriate compiler flags.\n",
      "2022-06-20 15:18:20.546403: I tensorflow/stream_executor/cuda/cuda_gpu_executor.cc:937] successful NUMA node read from SysFS had negative value (-1), but there must be at least one NUMA node, so returning NUMA node zero\n",
      "2022-06-20 15:18:20.547528: I tensorflow/stream_executor/cuda/cuda_gpu_executor.cc:937] successful NUMA node read from SysFS had negative value (-1), but there must be at least one NUMA node, so returning NUMA node zero\n",
      "2022-06-20 15:18:20.548469: I tensorflow/stream_executor/cuda/cuda_gpu_executor.cc:937] successful NUMA node read from SysFS had negative value (-1), but there must be at least one NUMA node, so returning NUMA node zero\n",
      "2022-06-20 15:18:22.663722: I tensorflow/stream_executor/cuda/cuda_gpu_executor.cc:937] successful NUMA node read from SysFS had negative value (-1), but there must be at least one NUMA node, so returning NUMA node zero\n",
      "2022-06-20 15:18:22.664616: I tensorflow/stream_executor/cuda/cuda_gpu_executor.cc:937] successful NUMA node read from SysFS had negative value (-1), but there must be at least one NUMA node, so returning NUMA node zero\n",
      "2022-06-20 15:18:22.665291: I tensorflow/stream_executor/cuda/cuda_gpu_executor.cc:937] successful NUMA node read from SysFS had negative value (-1), but there must be at least one NUMA node, so returning NUMA node zero\n",
      "2022-06-20 15:18:22.665871: I tensorflow/core/common_runtime/gpu/gpu_device.cc:1510] Created device /job:localhost/replica:0/task:0/device:GPU:0 with 15403 MB memory:  -> device: 0, name: Tesla P100-PCIE-16GB, pci bus id: 0000:00:04.0, compute capability: 6.0\n"
     ]
    }
   ],
   "source": [
    "custom = tf.keras.Sequential([\n",
    "    tf.keras.layers.Conv2D(32,(5,5),padding ='same',strides=(2,2),activation='relu',input_shape=(124,224,3)),\n",
    "    tf.keras.layers.MaxPooling2D((2,2)),\n",
    "    tf.keras.layers.Conv2D(64,(5,5),padding ='same',strides=(2,2),activation='relu'),\n",
    "    tf.keras.layers.MaxPooling2D((2,2)),\n",
    "    tf.keras.layers.Conv2D(128,(5,5),padding ='same',strides=(2,2),activation='relu'),\n",
    "    tf.keras.layers.MaxPooling2D((2,2)),\n",
    "    tf.keras.layers.Conv2D(128,(5,5),padding ='same',strides=(2,2),activation='relu'),\n",
    "    tf.keras.layers.Flatten(),\n",
    "    tf.keras.layers.Dense(256,activation='relu'),\n",
    "    tf.keras.layers.Dense(64,activation='relu'),\n",
    "    tf.keras.layers.Dense(32,activation='relu'),\n",
    "    tf.keras.layers.Dropout(0.3),\n",
    "    tf.keras.layers.Dense(4, activation='softmax')\n",
    "])\n",
    "custom.compile(optimizer='adam',loss='categorical_crossentropy',metrics=['accuracy'])"
   ]
  },
  {
   "cell_type": "code",
   "execution_count": 5,
   "id": "472378c1",
   "metadata": {
    "execution": {
     "iopub.execute_input": "2022-06-20T15:18:23.097141Z",
     "iopub.status.busy": "2022-06-20T15:18:23.096495Z",
     "iopub.status.idle": "2022-06-20T15:24:08.054354Z",
     "shell.execute_reply": "2022-06-20T15:24:08.053427Z"
    },
    "papermill": {
     "duration": 344.967412,
     "end_time": "2022-06-20T15:24:08.057231",
     "exception": false,
     "start_time": "2022-06-20T15:18:23.089819",
     "status": "completed"
    },
    "tags": []
   },
   "outputs": [
    {
     "name": "stderr",
     "output_type": "stream",
     "text": [
      "2022-06-20 15:18:23.319678: I tensorflow/compiler/mlir/mlir_graph_optimization_pass.cc:185] None of the MLIR Optimization Passes are enabled (registered 2)\n"
     ]
    },
    {
     "name": "stdout",
     "output_type": "stream",
     "text": [
      "Epoch 1/10\n"
     ]
    },
    {
     "name": "stderr",
     "output_type": "stream",
     "text": [
      "2022-06-20 15:18:24.814019: I tensorflow/stream_executor/cuda/cuda_dnn.cc:369] Loaded cuDNN version 8005\n"
     ]
    },
    {
     "name": "stdout",
     "output_type": "stream",
     "text": [
      "381/381 [==============================] - 64s 150ms/step - loss: 1.4246 - accuracy: 0.3023 - val_loss: 1.0100 - val_accuracy: 0.4816\n",
      "Epoch 2/10\n",
      "381/381 [==============================] - 25s 66ms/step - loss: 1.2671 - accuracy: 0.3806 - val_loss: 1.0830 - val_accuracy: 0.4712\n",
      "Epoch 3/10\n",
      "381/381 [==============================] - 25s 66ms/step - loss: 1.0515 - accuracy: 0.4626 - val_loss: 0.9622 - val_accuracy: 0.5115\n",
      "Epoch 4/10\n",
      "381/381 [==============================] - 26s 68ms/step - loss: 0.9797 - accuracy: 0.5269 - val_loss: 0.8833 - val_accuracy: 0.5570\n",
      "Epoch 5/10\n",
      "381/381 [==============================] - 25s 65ms/step - loss: 0.9389 - accuracy: 0.5658 - val_loss: 0.8970 - val_accuracy: 0.5564\n",
      "Epoch 6/10\n",
      "381/381 [==============================] - 26s 68ms/step - loss: 0.8333 - accuracy: 0.6547 - val_loss: 0.5637 - val_accuracy: 0.7825\n",
      "Epoch 7/10\n",
      "381/381 [==============================] - 25s 66ms/step - loss: 0.6431 - accuracy: 0.7631 - val_loss: 0.5870 - val_accuracy: 0.7624\n",
      "Epoch 8/10\n",
      "381/381 [==============================] - 27s 71ms/step - loss: 0.5995 - accuracy: 0.7767 - val_loss: 0.4082 - val_accuracy: 0.8516\n",
      "Epoch 9/10\n",
      "381/381 [==============================] - 27s 70ms/step - loss: 0.5370 - accuracy: 0.8033 - val_loss: 0.8137 - val_accuracy: 0.7135\n",
      "Epoch 10/10\n",
      "381/381 [==============================] - 27s 70ms/step - loss: 0.5033 - accuracy: 0.8194 - val_loss: 0.3921 - val_accuracy: 0.8516\n"
     ]
    }
   ],
   "source": [
    "history_custom = custom.fit(\n",
    "    x=train_batches,\n",
    "    steps_per_epoch=len(train_batches),\n",
    "    validation_data=valid_batches,\n",
    "    validation_steps=len(valid_batches),\n",
    "    epochs=10,\n",
    "    verbose=1\n",
    ")"
   ]
  },
  {
   "cell_type": "code",
   "execution_count": 6,
   "id": "42882f18",
   "metadata": {
    "execution": {
     "iopub.execute_input": "2022-06-20T15:24:08.702012Z",
     "iopub.status.busy": "2022-06-20T15:24:08.701660Z",
     "iopub.status.idle": "2022-06-20T15:24:09.453899Z",
     "shell.execute_reply": "2022-06-20T15:24:09.453083Z"
    },
    "papermill": {
     "duration": 0.982872,
     "end_time": "2022-06-20T15:24:09.456276",
     "exception": false,
     "start_time": "2022-06-20T15:24:08.473404",
     "status": "completed"
    },
    "tags": []
   },
   "outputs": [
    {
     "name": "stdout",
     "output_type": "stream",
     "text": [
      "Downloading data from https://storage.googleapis.com/tensorflow/keras-applications/vgg16/vgg16_weights_tf_dim_ordering_tf_kernels_notop.h5\n",
      "58892288/58889256 [==============================] - 0s 0us/step\n",
      "58900480/58889256 [==============================] - 0s 0us/step\n"
     ]
    }
   ],
   "source": [
    "vbase = VGG16(weights='imagenet',include_top=False,input_shape=(124, 224, 3))\n",
    "vbase.trainable = False\n",
    "\n",
    "vgg_fe = tf.keras.Sequential()\n",
    "vgg_fe.add(vbase)\n",
    "vgg_fe.add(tf.keras.layers.Flatten())\n",
    "vgg_fe.add(tf.keras.layers.Dense(256, activation='relu'))\n",
    "vgg_fe.add(tf.keras.layers.Dense(4, activation='softmax'))\n",
    "\n",
    "vgg_fe.compile(optimizer='adam',loss='categorical_crossentropy',metrics=['accuracy'])"
   ]
  },
  {
   "cell_type": "code",
   "execution_count": 7,
   "id": "78b3c103",
   "metadata": {
    "execution": {
     "iopub.execute_input": "2022-06-20T15:24:09.912354Z",
     "iopub.status.busy": "2022-06-20T15:24:09.911992Z",
     "iopub.status.idle": "2022-06-20T15:30:06.219121Z",
     "shell.execute_reply": "2022-06-20T15:30:06.218270Z"
    },
    "papermill": {
     "duration": 356.535952,
     "end_time": "2022-06-20T15:30:06.221262",
     "exception": false,
     "start_time": "2022-06-20T15:24:09.685310",
     "status": "completed"
    },
    "tags": []
   },
   "outputs": [
    {
     "name": "stdout",
     "output_type": "stream",
     "text": [
      "Epoch 1/10\n",
      "381/381 [==============================] - 36s 88ms/step - loss: 0.2634 - accuracy: 0.9494 - val_loss: 0.0597 - val_accuracy: 0.9793\n",
      "Epoch 2/10\n",
      "381/381 [==============================] - 33s 88ms/step - loss: 0.0328 - accuracy: 0.9886 - val_loss: 0.1127 - val_accuracy: 0.9718\n",
      "Epoch 3/10\n",
      "381/381 [==============================] - 33s 87ms/step - loss: 0.0148 - accuracy: 0.9956 - val_loss: 0.0634 - val_accuracy: 0.9827\n",
      "Epoch 4/10\n",
      "381/381 [==============================] - 34s 88ms/step - loss: 0.0308 - accuracy: 0.9923 - val_loss: 0.0974 - val_accuracy: 0.9799\n",
      "Epoch 5/10\n",
      "381/381 [==============================] - 32s 85ms/step - loss: 0.0655 - accuracy: 0.9870 - val_loss: 0.1344 - val_accuracy: 0.9787\n",
      "Epoch 6/10\n",
      "381/381 [==============================] - 32s 84ms/step - loss: 0.0316 - accuracy: 0.9936 - val_loss: 0.1527 - val_accuracy: 0.9758\n",
      "Epoch 7/10\n",
      "381/381 [==============================] - 33s 86ms/step - loss: 0.0073 - accuracy: 0.9975 - val_loss: 0.0950 - val_accuracy: 0.9827\n",
      "Epoch 8/10\n",
      "381/381 [==============================] - 33s 86ms/step - loss: 0.0022 - accuracy: 0.9990 - val_loss: 0.0908 - val_accuracy: 0.9856\n",
      "Epoch 9/10\n",
      "381/381 [==============================] - 34s 88ms/step - loss: 0.0020 - accuracy: 0.9993 - val_loss: 0.0881 - val_accuracy: 0.9856\n",
      "Epoch 10/10\n",
      "381/381 [==============================] - 34s 89ms/step - loss: 1.3283e-04 - accuracy: 1.0000 - val_loss: 0.1022 - val_accuracy: 0.9833\n"
     ]
    }
   ],
   "source": [
    "history_vgg_fe = vgg_fe.fit(\n",
    "    x=train_batches_vgg,\n",
    "    steps_per_epoch=len(train_batches_vgg),\n",
    "    validation_data=valid_batches_vgg,\n",
    "    validation_steps=len(valid_batches_vgg),\n",
    "    epochs=10,\n",
    "    verbose=1    \n",
    ")"
   ]
  },
  {
   "cell_type": "code",
   "execution_count": 8,
   "id": "906f579d",
   "metadata": {
    "execution": {
     "iopub.execute_input": "2022-06-20T15:30:07.185728Z",
     "iopub.status.busy": "2022-06-20T15:30:07.185379Z",
     "iopub.status.idle": "2022-06-20T15:30:08.579695Z",
     "shell.execute_reply": "2022-06-20T15:30:08.578906Z"
    },
    "papermill": {
     "duration": 1.850844,
     "end_time": "2022-06-20T15:30:08.581803",
     "exception": false,
     "start_time": "2022-06-20T15:30:06.730959",
     "status": "completed"
    },
    "tags": []
   },
   "outputs": [
    {
     "name": "stdout",
     "output_type": "stream",
     "text": [
      "Downloading data from https://storage.googleapis.com/tensorflow/keras-applications/mobilenet_v2/mobilenet_v2_weights_tf_dim_ordering_tf_kernels_1.0_224_no_top.h5\n",
      "9412608/9406464 [==============================] - 0s 0us/step\n",
      "9420800/9406464 [==============================] - 0s 0us/step\n"
     ]
    }
   ],
   "source": [
    "mbase = tf.keras.applications.mobilenet_v2.MobileNetV2(input_shape=(124, 224, 3),include_top=False, weights='imagenet')\n",
    "mbase.trainable = False\n",
    "\n",
    "mnet_fe = tf.keras.Sequential()\n",
    "mnet_fe.add(mbase)\n",
    "mnet_fe.add(tf.keras.layers.Flatten())\n",
    "mnet_fe.add(tf.keras.layers.Dense(256, activation='relu'))\n",
    "mnet_fe.add(tf.keras.layers.Dense(4, activation='softmax'))\n",
    "\n",
    "mnet_fe.compile(optimizer='adam',loss='categorical_crossentropy',metrics=['accuracy'])"
   ]
  },
  {
   "cell_type": "code",
   "execution_count": 9,
   "id": "93f59237",
   "metadata": {
    "execution": {
     "iopub.execute_input": "2022-06-20T15:30:09.529681Z",
     "iopub.status.busy": "2022-06-20T15:30:09.529273Z",
     "iopub.status.idle": "2022-06-20T15:35:41.146556Z",
     "shell.execute_reply": "2022-06-20T15:35:41.145672Z"
    },
    "papermill": {
     "duration": 332.113825,
     "end_time": "2022-06-20T15:35:41.149368",
     "exception": false,
     "start_time": "2022-06-20T15:30:09.035543",
     "status": "completed"
    },
    "tags": []
   },
   "outputs": [
    {
     "name": "stdout",
     "output_type": "stream",
     "text": [
      "Epoch 1/10\n",
      "381/381 [==============================] - 32s 77ms/step - loss: 0.5573 - accuracy: 0.9405 - val_loss: 0.1682 - val_accuracy: 0.9528\n",
      "Epoch 2/10\n",
      "381/381 [==============================] - 30s 79ms/step - loss: 0.0517 - accuracy: 0.9832 - val_loss: 0.0904 - val_accuracy: 0.9753\n",
      "Epoch 3/10\n",
      "381/381 [==============================] - 30s 79ms/step - loss: 0.0297 - accuracy: 0.9907 - val_loss: 0.0904 - val_accuracy: 0.9845\n",
      "Epoch 4/10\n",
      "381/381 [==============================] - 30s 80ms/step - loss: 0.0382 - accuracy: 0.9890 - val_loss: 0.1349 - val_accuracy: 0.9753\n",
      "Epoch 5/10\n",
      "381/381 [==============================] - 30s 80ms/step - loss: 0.0189 - accuracy: 0.9949 - val_loss: 0.1129 - val_accuracy: 0.9781\n",
      "Epoch 6/10\n",
      "381/381 [==============================] - 29s 76ms/step - loss: 0.0212 - accuracy: 0.9947 - val_loss: 0.1035 - val_accuracy: 0.9827\n",
      "Epoch 7/10\n",
      "381/381 [==============================] - 27s 71ms/step - loss: 0.0320 - accuracy: 0.9918 - val_loss: 0.2115 - val_accuracy: 0.9614\n",
      "Epoch 8/10\n",
      "381/381 [==============================] - 29s 75ms/step - loss: 0.0329 - accuracy: 0.9924 - val_loss: 0.1037 - val_accuracy: 0.9856\n",
      "Epoch 9/10\n",
      "381/381 [==============================] - 27s 71ms/step - loss: 0.0158 - accuracy: 0.9958 - val_loss: 0.1233 - val_accuracy: 0.9827\n",
      "Epoch 10/10\n",
      "381/381 [==============================] - 28s 73ms/step - loss: 0.0090 - accuracy: 0.9976 - val_loss: 0.0940 - val_accuracy: 0.9868\n"
     ]
    }
   ],
   "source": [
    "history_mnet_fe = mnet_fe.fit(\n",
    "    x=train_batches_mnet,\n",
    "    steps_per_epoch=len(train_batches_mnet),\n",
    "    validation_data=valid_batches_mnet,\n",
    "    validation_steps=len(valid_batches_mnet),\n",
    "    epochs=10,\n",
    "    verbose=1    \n",
    ")"
   ]
  },
  {
   "cell_type": "code",
   "execution_count": 10,
   "id": "0350ed37",
   "metadata": {
    "execution": {
     "iopub.execute_input": "2022-06-20T15:35:42.807439Z",
     "iopub.status.busy": "2022-06-20T15:35:42.806963Z",
     "iopub.status.idle": "2022-06-20T15:36:15.375653Z",
     "shell.execute_reply": "2022-06-20T15:36:15.374712Z"
    },
    "papermill": {
     "duration": 33.460295,
     "end_time": "2022-06-20T15:36:15.377973",
     "exception": false,
     "start_time": "2022-06-20T15:35:41.917678",
     "status": "completed"
    },
    "tags": []
   },
   "outputs": [
    {
     "name": "stdout",
     "output_type": "stream",
     "text": [
      "109/109 [==============================] - 15s 142ms/step - loss: 0.3887 - accuracy: 0.8577\n",
      "15.69215703010559\n",
      "109/109 [==============================] - 9s 86ms/step - loss: 0.0808 - accuracy: 0.9885\n",
      "9.50867772102356\n",
      "109/109 [==============================] - 7s 66ms/step - loss: 0.0714 - accuracy: 0.9859\n",
      "7.360980749130249\n"
     ]
    }
   ],
   "source": [
    "t = time.time()\n",
    "custom.evaluate(test_batches)\n",
    "print(time.time()-t)\n",
    "\n",
    "t = time.time()\n",
    "vgg_fe.evaluate(test_batches_vgg)\n",
    "print(time.time()-t)\n",
    "\n",
    "t = time.time()\n",
    "mnet_fe.evaluate(test_batches_mnet)\n",
    "print(time.time()-t)"
   ]
  },
  {
   "cell_type": "code",
   "execution_count": 11,
   "id": "23f32dc6",
   "metadata": {
    "execution": {
     "iopub.execute_input": "2022-06-20T15:36:17.325942Z",
     "iopub.status.busy": "2022-06-20T15:36:17.324969Z",
     "iopub.status.idle": "2022-06-20T15:36:17.518227Z",
     "shell.execute_reply": "2022-06-20T15:36:17.517528Z"
    },
    "papermill": {
     "duration": 0.993332,
     "end_time": "2022-06-20T15:36:17.519968",
     "exception": false,
     "start_time": "2022-06-20T15:36:16.526636",
     "status": "completed"
    },
    "tags": []
   },
   "outputs": [
    {
     "data": {
      "image/png": "[encoded data removed]",
      "text/plain": [
       "<Figure size 432x288 with 1 Axes>"
      ]
     },
     "metadata": {
      "needs_background": "light"
     },
     "output_type": "display_data"
    }
   ],
   "source": [
    "acc = history_custom.history['accuracy']\n",
    "val_acc = history_custom.history['val_accuracy']\n",
    "epochs = range(1, len(acc) + 1)\n",
    "plt.plot(epochs, acc, 'bo', label='Training acc')\n",
    "plt.plot(epochs, val_acc, 'b', label='Validation acc')\n",
    "plt.title('Training and validation accuracy')\n",
    "plt.legend()\n",
    "plt.show()"
   ]
  },
  {
   "cell_type": "code",
   "execution_count": 12,
   "id": "29cf42c7",
   "metadata": {
    "execution": {
     "iopub.execute_input": "2022-06-20T15:36:18.995141Z",
     "iopub.status.busy": "2022-06-20T15:36:18.994669Z",
     "iopub.status.idle": "2022-06-20T15:36:19.168699Z",
     "shell.execute_reply": "2022-06-20T15:36:19.167981Z"
    },
    "papermill": {
     "duration": 0.879705,
     "end_time": "2022-06-20T15:36:19.170633",
     "exception": false,
     "start_time": "2022-06-20T15:36:18.290928",
     "status": "completed"
    },
    "tags": []
   },
   "outputs": [
    {
     "data": {
      "image/png": "[encoded data removed]",
      "text/plain": [
       "<Figure size 432x288 with 1 Axes>"
      ]
     },
     "metadata": {
      "needs_background": "light"
     },
     "output_type": "display_data"
    }
   ],
   "source": [
    "acc = history_vgg_fe.history['accuracy']\n",
    "val_acc = history_vgg_fe.history['val_accuracy']\n",
    "epochs = range(1, len(acc) + 1)\n",
    "plt.plot(epochs, acc, 'bo', label='Training acc')\n",
    "plt.plot(epochs, val_acc, 'b', label='Validation acc')\n",
    "plt.title('Training and validation accuracy')\n",
    "plt.legend()\n",
    "plt.show()"
   ]
  },
  {
   "cell_type": "code",
   "execution_count": 13,
   "id": "21b46d97",
   "metadata": {
    "execution": {
     "iopub.execute_input": "2022-06-20T15:36:20.645513Z",
     "iopub.status.busy": "2022-06-20T15:36:20.645165Z",
     "iopub.status.idle": "2022-06-20T15:36:20.826994Z",
     "shell.execute_reply": "2022-06-20T15:36:20.826305Z"
    },
    "papermill": {
     "duration": 0.906233,
     "end_time": "2022-06-20T15:36:20.828702",
     "exception": false,
     "start_time": "2022-06-20T15:36:19.922469",
     "status": "completed"
    },
    "tags": []
   },
   "outputs": [
    {
     "data": {
      "image/png": "[encoded data removed]",
      "text/plain": [
       "<Figure size 432x288 with 1 Axes>"
      ]
     },
     "metadata": {
      "needs_background": "light"
     },
     "output_type": "display_data"
    }
   ],
   "source": [
    "acc = history_mnet_fe.history['accuracy']\n",
    "val_acc = history_mnet_fe.history['val_accuracy']\n",
    "epochs = range(1, len(acc) + 1)\n",
    "plt.plot(epochs, acc, 'bo', label='Training acc')\n",
    "plt.plot(epochs, val_acc, 'b', label='Validation acc')\n",
    "plt.title('Training and validation accuracy')\n",
    "plt.legend()\n",
    "plt.show()"
   ]
  },
  {
   "cell_type": "code",
   "execution_count": 14,
   "id": "44e8f6c1",
   "metadata": {
    "execution": {
     "iopub.execute_input": "2022-06-20T15:36:22.278134Z",
     "iopub.status.busy": "2022-06-20T15:36:22.277607Z",
     "iopub.status.idle": "2022-06-20T15:36:22.286119Z",
     "shell.execute_reply": "2022-06-20T15:36:22.285239Z"
    },
    "papermill": {
     "duration": 0.712186,
     "end_time": "2022-06-20T15:36:22.288243",
     "exception": false,
     "start_time": "2022-06-20T15:36:21.576057",
     "status": "completed"
    },
    "tags": []
   },
   "outputs": [],
   "source": [
    "def plot_confusion_matrix(cm, classes,normalize=False,title='Confusion matrix',cmap=plt.cm.Blues):\n",
    "    plt.imshow(cm, interpolation='nearest', cmap=cmap)\n",
    "    plt.title(title)\n",
    "    plt.colorbar()\n",
    "    tick_marks = np.arange(len(classes))\n",
    "    plt.xticks(tick_marks, classes, rotation=45)\n",
    "    plt.yticks(tick_marks, classes)\n",
    "\n",
    "    if normalize:\n",
    "        cm = cm.astype('float') / cm.sum(axis=1)[:, np.newaxis]\n",
    "        print(\"Normalized confusion matrix\")\n",
    "    else:\n",
    "        print('Confusion matrix, without normalization')\n",
    "\n",
    "    print(cm)\n",
    "\n",
    "    thresh = cm.max() / 2.\n",
    "    for i, j in itertools.product(range(cm.shape[0]), range(cm.shape[1])):\n",
    "        plt.text(j, i, cm[i, j],\n",
    "            horizontalalignment=\"center\",\n",
    "            color=\"white\" if cm[i, j] > thresh else \"black\")"
   ]
  },
  {
   "cell_type": "code",
   "execution_count": 15,
   "id": "756c20a0",
   "metadata": {
    "execution": {
     "iopub.execute_input": "2022-06-20T15:36:23.733959Z",
     "iopub.status.busy": "2022-06-20T15:36:23.733536Z",
     "iopub.status.idle": "2022-06-20T15:36:29.928850Z",
     "shell.execute_reply": "2022-06-20T15:36:29.927979Z"
    },
    "papermill": {
     "duration": 6.893706,
     "end_time": "2022-06-20T15:36:29.931953",
     "exception": false,
     "start_time": "2022-06-20T15:36:23.038247",
     "status": "completed"
    },
    "tags": []
   },
   "outputs": [
    {
     "name": "stdout",
     "output_type": "stream",
     "text": [
      "Confusion matrix, without normalization\n",
      "[[644 148   3  19]\n",
      " [107 838  10  17]\n",
      " [  7 151 611  10]\n",
      " [ 13   5   5 890]]\n"
     ]
    },
    {
     "data": {
      "image/png": "[encoded data removed]",
      "text/plain": [
       "<Figure size 432x288 with 2 Axes>"
      ]
     },
     "metadata": {
      "needs_background": "light"
     },
     "output_type": "display_data"
    }
   ],
   "source": [
    "predictions = custom.predict(x=test_batches, steps=len(test_batches), verbose=0)\n",
    "cm = confusion_matrix(y_true=test_batches.classes, y_pred=np.argmax(predictions, axis=-1))\n",
    "\n",
    "cm_plot_labels = [\"good\", \"medium\", \"bad\", \"unpaved\"]\n",
    "plot_confusion_matrix(cm=cm, classes=cm_plot_labels, title='Confusion Matrix')"
   ]
  },
  {
   "cell_type": "code",
   "execution_count": 16,
   "id": "2e14adef",
   "metadata": {
    "execution": {
     "iopub.execute_input": "2022-06-20T15:36:31.380853Z",
     "iopub.status.busy": "2022-06-20T15:36:31.380497Z",
     "iopub.status.idle": "2022-06-20T15:36:38.233572Z",
     "shell.execute_reply": "2022-06-20T15:36:38.232320Z"
    },
    "papermill": {
     "duration": 7.556467,
     "end_time": "2022-06-20T15:36:38.235879",
     "exception": false,
     "start_time": "2022-06-20T15:36:30.679412",
     "status": "completed"
    },
    "tags": []
   },
   "outputs": [
    {
     "name": "stdout",
     "output_type": "stream",
     "text": [
      "Confusion matrix, without normalization\n",
      "[[803  11   0   0]\n",
      " [  7 958   6   1]\n",
      " [  0   7 769   3]\n",
      " [  1   0   4 908]]\n"
     ]
    },
    {
     "data": {
      "image/png": "[encoded data removed]",
      "text/plain": [
       "<Figure size 432x288 with 2 Axes>"
      ]
     },
     "metadata": {
      "needs_background": "light"
     },
     "output_type": "display_data"
    }
   ],
   "source": [
    "predictions = vgg_fe.predict(x=test_batches_vgg, steps=len(test_batches_vgg), verbose=0)\n",
    "cm = confusion_matrix(y_true=test_batches_vgg.classes, y_pred=np.argmax(predictions, axis=-1))\n",
    "\n",
    "cm_plot_labels = [\"good\", \"medium\", \"bad\", \"unpaved\"]\n",
    "plot_confusion_matrix(cm=cm, classes=cm_plot_labels, title='Confusion Matrix')"
   ]
  },
  {
   "cell_type": "code",
   "execution_count": 17,
   "id": "280c0d6a",
   "metadata": {
    "execution": {
     "iopub.execute_input": "2022-06-20T15:36:39.675702Z",
     "iopub.status.busy": "2022-06-20T15:36:39.674974Z",
     "iopub.status.idle": "2022-06-20T15:36:46.918641Z",
     "shell.execute_reply": "2022-06-20T15:36:46.915142Z"
    },
    "papermill": {
     "duration": 7.989858,
     "end_time": "2022-06-20T15:36:46.921697",
     "exception": false,
     "start_time": "2022-06-20T15:36:38.931839",
     "status": "completed"
    },
    "tags": []
   },
   "outputs": [
    {
     "name": "stdout",
     "output_type": "stream",
     "text": [
      "Confusion matrix, without normalization\n",
      "[[799  14   0   1]\n",
      " [ 12 952   8   0]\n",
      " [  0   1 769   9]\n",
      " [  0   0   4 909]]\n"
     ]
    },
    {
     "data": {
      "image/png": "[encoded data removed]",
      "text/plain": [
       "<Figure size 432x288 with 2 Axes>"
      ]
     },
     "metadata": {
      "needs_background": "light"
     },
     "output_type": "display_data"
    }
   ],
   "source": [
    "predictions = mnet_fe.predict(x=test_batches_mnet, steps=len(test_batches_mnet), verbose=0)\n",
    "cm = confusion_matrix(y_true=test_batches_mnet.classes, y_pred=np.argmax(predictions, axis=-1))\n",
    "\n",
    "cm_plot_labels = [\"good\", \"medium\", \"bad\", \"unpaved\"]\n",
    "plot_confusion_matrix(cm=cm, classes=cm_plot_labels, title='Confusion Matrix')"
   ]
  },
  {
   "cell_type": "code",
   "execution_count": 18,
   "id": "285c0a86",
   "metadata": {
    "execution": {
     "iopub.execute_input": "2022-06-20T15:36:48.907609Z",
     "iopub.status.busy": "2022-06-20T15:36:48.906303Z",
     "iopub.status.idle": "2022-06-20T15:36:55.017380Z",
     "shell.execute_reply": "2022-06-20T15:36:55.015932Z"
    },
    "papermill": {
     "duration": 7.178668,
     "end_time": "2022-06-20T15:36:55.019633",
     "exception": false,
     "start_time": "2022-06-20T15:36:47.840965",
     "status": "completed"
    },
    "tags": []
   },
   "outputs": [
    {
     "name": "stdout",
     "output_type": "stream",
     "text": [
      "109/109 [==============================] - 6s 54ms/step\n",
      "              precision    recall  f1-score   support\n",
      "\n",
      "           0       0.84      0.79      0.81       814\n",
      "           1       0.73      0.86      0.79       972\n",
      "           2       0.97      0.78      0.87       779\n",
      "           3       0.95      0.97      0.96       913\n",
      "\n",
      "    accuracy                           0.86      3478\n",
      "   macro avg       0.87      0.85      0.86      3478\n",
      "weighted avg       0.87      0.86      0.86      3478\n",
      "\n"
     ]
    }
   ],
   "source": [
    "y_pred = custom.predict(test_batches, batch_size=64, verbose=1)\n",
    "y_pred_bool = np.argmax(y_pred, axis=1)\n",
    "\n",
    "print(classification_report(test_batches.classes, y_pred_bool))"
   ]
  },
  {
   "cell_type": "code",
   "execution_count": 19,
   "id": "4aba78c4",
   "metadata": {
    "execution": {
     "iopub.execute_input": "2022-06-20T15:36:56.484411Z",
     "iopub.status.busy": "2022-06-20T15:36:56.484041Z",
     "iopub.status.idle": "2022-06-20T15:37:03.462028Z",
     "shell.execute_reply": "2022-06-20T15:37:03.461180Z"
    },
    "papermill": {
     "duration": 7.735538,
     "end_time": "2022-06-20T15:37:03.464862",
     "exception": false,
     "start_time": "2022-06-20T15:36:55.729324",
     "status": "completed"
    },
    "tags": []
   },
   "outputs": [
    {
     "name": "stdout",
     "output_type": "stream",
     "text": [
      "109/109 [==============================] - 7s 63ms/step\n",
      "              precision    recall  f1-score   support\n",
      "\n",
      "           0       0.99      0.99      0.99       814\n",
      "           1       0.98      0.99      0.98       972\n",
      "           2       0.99      0.99      0.99       779\n",
      "           3       1.00      0.99      1.00       913\n",
      "\n",
      "    accuracy                           0.99      3478\n",
      "   macro avg       0.99      0.99      0.99      3478\n",
      "weighted avg       0.99      0.99      0.99      3478\n",
      "\n"
     ]
    }
   ],
   "source": [
    "y_pred = vgg_fe.predict(test_batches_vgg, batch_size=64, verbose=1)\n",
    "y_pred_bool = np.argmax(y_pred, axis=1)\n",
    "\n",
    "print(classification_report(test_batches_vgg.classes, y_pred_bool))"
   ]
  },
  {
   "cell_type": "code",
   "execution_count": 20,
   "id": "a34abc19",
   "metadata": {
    "execution": {
     "iopub.execute_input": "2022-06-20T15:37:04.953960Z",
     "iopub.status.busy": "2022-06-20T15:37:04.953538Z",
     "iopub.status.idle": "2022-06-20T15:37:11.437374Z",
     "shell.execute_reply": "2022-06-20T15:37:11.436149Z"
    },
    "papermill": {
     "duration": 7.248932,
     "end_time": "2022-06-20T15:37:11.439473",
     "exception": false,
     "start_time": "2022-06-20T15:37:04.190541",
     "status": "completed"
    },
    "tags": []
   },
   "outputs": [
    {
     "name": "stdout",
     "output_type": "stream",
     "text": [
      "109/109 [==============================] - 6s 58ms/step\n",
      "              precision    recall  f1-score   support\n",
      "\n",
      "           0       0.99      0.98      0.98       814\n",
      "           1       0.98      0.98      0.98       972\n",
      "           2       0.98      0.99      0.99       779\n",
      "           3       0.99      1.00      0.99       913\n",
      "\n",
      "    accuracy                           0.99      3478\n",
      "   macro avg       0.99      0.99      0.99      3478\n",
      "weighted avg       0.99      0.99      0.99      3478\n",
      "\n"
     ]
    }
   ],
   "source": [
    "y_pred = mnet_fe.predict(test_batches_mnet, batch_size=64, verbose=1)\n",
    "y_pred_bool = np.argmax(y_pred, axis=1)\n",
    "\n",
    "print(classification_report(test_batches_mnet.classes, y_pred_bool))"
   ]
  },
  {
   "cell_type": "code",
   "execution_count": 21,
   "id": "2e92c380",
   "metadata": {
    "execution": {
     "iopub.execute_input": "2022-06-20T15:37:12.942461Z",
     "iopub.status.busy": "2022-06-20T15:37:12.942104Z",
     "iopub.status.idle": "2022-06-20T15:37:13.549253Z",
     "shell.execute_reply": "2022-06-20T15:37:13.548382Z"
    },
    "papermill": {
     "duration": 1.376563,
     "end_time": "2022-06-20T15:37:13.551420",
     "exception": false,
     "start_time": "2022-06-20T15:37:12.174857",
     "status": "completed"
    },
    "tags": []
   },
   "outputs": [
    {
     "name": "stderr",
     "output_type": "stream",
     "text": [
      "/opt/conda/lib/python3.7/site-packages/keras/utils/generic_utils.py:497: CustomMaskWarning: Custom mask layers require a config and must override get_config. When loading, the custom mask layer must be passed to the custom_objects argument.\n",
      "  category=CustomMaskWarning)\n"
     ]
    }
   ],
   "source": [
    "custom.save('./custom1.h5')\n",
    "vgg_fe.save('./vgg.h5')\n",
    "mnet_fe.save('./mnet.h5')"
   ]
  }
 ],
 "metadata": {
  "kernelspec": {
   "display_name": "Python 3 (ipykernel)",
   "language": "python",
   "name": "python3"
  },
  "language_info": {
   "codemirror_mode": {
    "name": "ipython",
    "version": 3
   },
   "file_extension": ".py",
   "mimetype": "text/x-python",
   "name": "python",
   "nbconvert_exporter": "python",
   "pygments_lexer": "ipython3",
   "version": "3.9.7"
  },
  "papermill": {
   "default_parameters": {},
   "duration": 1162.152411,
   "end_time": "2022-06-20T15:37:17.320939",
   "environment_variables": {},
   "exception": null,
   "input_path": "__notebook__.ipynb",
   "output_path": "__notebook__.ipynb",
   "parameters": {},
   "start_time": "2022-06-20T15:17:55.168528",
   "version": "2.3.4"
  }
 },
 "nbformat": 4,
 "nbformat_minor": 5
}
